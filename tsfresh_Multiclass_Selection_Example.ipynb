{
  "cells": [
    {
      "cell_type": "markdown",
      "metadata": {
        "id": "view-in-github",
        "colab_type": "text"
      },
      "source": [
        "<a href=\"https://colab.research.google.com/github/harnalashok/timeseries/blob/main/tsfresh_Multiclass_Selection_Example.ipynb\" target=\"_parent\"><img src=\"https://colab.research.google.com/assets/colab-badge.svg\" alt=\"Open In Colab\"/></a>"
      ]
    },
    {
      "cell_type": "code",
      "source": [
        "# LAst amended: 15th Feb, 2023\n",
        "# Ref: https://github.com/blue-yonder/tsfresh/tree/main/notebooks\n",
        "#      https://github.com/blue-yonder/tsfresh/blob/main/notebooks/04%20Multiclass%20Selection%20Example.ipynb"
      ],
      "metadata": {
        "id": "uiYGHPL2VM6o"
      },
      "execution_count": null,
      "outputs": []
    },
    {
      "cell_type": "code",
      "source": [
        "# Before doing this example, please study this example\n",
        "# https://github.com/harnalashok/timeseries/blob/main/tsfresh_Feature_Extraction_and_Selection.ipynb"
      ],
      "metadata": {
        "id": "3gqIX7DVWS34"
      },
      "execution_count": null,
      "outputs": []
    },
    {
      "cell_type": "markdown",
      "metadata": {
        "id": "y31t5dBk3Us0"
      },
      "source": [
        "# Multiclass Example\n",
        "Before doing this example, please study [this](https://github.com/harnalashok/timeseries/blob/main/tsfresh_Feature_Extraction_and_Selection.ipynb) example."
      ]
    },
    {
      "cell_type": "markdown",
      "metadata": {
        "id": "AGX43iYr3Us3"
      },
      "source": [
        "This example show shows how to use `tsfresh` to extract and select useful features from timeseries in a multiclass classification example. \n",
        "The underlying control of the false discovery rate (FDR) has been introduced by [Tang et al. (2020, Sec. 3.2)](https://doi.org/10.1140/epjds/s13688-020-00244-9).\n",
        "\n",
        "We use an example dataset of human activity recognition for this.\n",
        "The dataset consists of timeseries for 7352 accelerometer readings. \n",
        "Each reading represents an accelerometer reading for 2.56 sec at 50hz (for a total of 128 samples per reading). Furthermore, each reading corresponds one of six activities (walking, walking upstairs, walking downstairs, sitting, standing and laying).\n",
        "\n",
        "For more information go [here](https://archive.ics.uci.edu/ml/datasets/Human+Activity+Recognition+Using+Smartphones)"
      ]
    },
    {
      "cell_type": "code",
      "source": [
        "!pip install tsfresh"
      ],
      "metadata": {
        "id": "j5pLMX7o3bYj"
      },
      "execution_count": null,
      "outputs": []
    },
    {
      "cell_type": "markdown",
      "source": [
        "## Call libraries"
      ],
      "metadata": {
        "id": "97uumgR6W23P"
      }
    },
    {
      "cell_type": "code",
      "execution_count": null,
      "metadata": {
        "colab": {
          "base_uri": "https://localhost:8080/"
        },
        "id": "LIMl-dJt3Us4",
        "outputId": "442dc7cd-bfe6-4491-fc23-a9479d0bf7df"
      },
      "outputs": [
        {
          "output_type": "stream",
          "name": "stderr",
          "text": [
            "ERROR:numba.cuda.cudadrv.driver:Call to cuInit results in CUDA_ERROR_NO_DEVICE\n"
          ]
        }
      ],
      "source": [
        "# 1.0\n",
        "%matplotlib inline\n",
        "import matplotlib.pylab as plt\n",
        "\n",
        "# 1.0.1\n",
        "from tsfresh import extract_features, extract_relevant_features, select_features\n",
        "from tsfresh.utilities.dataframe_functions import impute\n",
        "\n",
        "# 1.0.2\n",
        "from sklearn.tree import DecisionTreeClassifier\n",
        "from sklearn.model_selection import train_test_split\n",
        "from sklearn.metrics import classification_report\n",
        "\n",
        "# 1.0.3\n",
        "import pandas as pd\n",
        "import numpy as np"
      ]
    },
    {
      "cell_type": "code",
      "source": [
        "# 1.11\n",
        "from IPython.core.interactiveshell import InteractiveShell\n",
        "InteractiveShell.ast_node_interactivity = \"all\""
      ],
      "metadata": {
        "id": "8FtZINbJ3yS8"
      },
      "execution_count": null,
      "outputs": []
    },
    {
      "cell_type": "markdown",
      "metadata": {
        "id": "5t8p6Wi53Us5"
      },
      "source": [
        "## Load and visualize data"
      ]
    },
    {
      "cell_type": "code",
      "source": [
        "# 2.0\n",
        "from tsfresh.examples.har_dataset import download_har_dataset, load_har_dataset, load_har_classes"
      ],
      "metadata": {
        "id": "ZSRrX-Pg3qAD"
      },
      "execution_count": null,
      "outputs": []
    },
    {
      "cell_type": "code",
      "execution_count": null,
      "metadata": {
        "id": "RAkO_KoC3Us7"
      },
      "outputs": [],
      "source": [
        "# 2.1 fetch dataset from uci\n",
        "download_har_dataset()"
      ]
    },
    {
      "cell_type": "code",
      "execution_count": null,
      "metadata": {
        "colab": {
          "base_uri": "https://localhost:8080/",
          "height": 535
        },
        "id": "UhAHY6R33Us8",
        "outputId": "5ec1d307-c0ae-4e1a-d04d-0ece6486258b"
      },
      "outputs": [
        {
          "output_type": "execute_result",
          "data": {
            "text/plain": [
              "(7352, 128)"
            ]
          },
          "metadata": {},
          "execution_count": 8
        },
        {
          "output_type": "execute_result",
          "data": {
            "text/plain": [
              "        0         1         2         3         4         5         6    \\\n",
              "0  0.000181  0.010139  0.009276  0.005066  0.010810  0.004045  0.004757   \n",
              "1  0.001094  0.004550  0.002879  0.002247  0.003305  0.002416  0.001619   \n",
              "2  0.003531  0.002285 -0.000420 -0.003738 -0.006706 -0.003148  0.000733   \n",
              "3 -0.001772 -0.001311  0.000388  0.000408 -0.000355  0.000998  0.001109   \n",
              "4  0.000087 -0.000272  0.001022  0.003126  0.002284  0.000885  0.001933   \n",
              "\n",
              "        7         8         9    ...       118       119       120       121  \\\n",
              "0  0.006214  0.003307  0.007572  ...  0.001412 -0.001509  0.000060  0.000435   \n",
              "1  0.000981  0.000009 -0.000363  ... -0.000104 -0.000141  0.001333  0.001541   \n",
              "2  0.000668  0.002162 -0.000946  ...  0.000661  0.001853 -0.000268 -0.000394   \n",
              "3 -0.003149 -0.008882 -0.010483  ...  0.000458  0.002103  0.001358  0.000820   \n",
              "4  0.002270  0.002247  0.002175  ...  0.002529  0.003518 -0.000248 -0.002761   \n",
              "\n",
              "        122       123       124       125       126       127  \n",
              "0 -0.000819  0.000228 -0.000300 -0.001147 -0.000222  0.001576  \n",
              "1  0.001077 -0.000736 -0.003767 -0.004646 -0.002941 -0.001599  \n",
              "2 -0.000279 -0.000316  0.000144  0.001246  0.003117  0.002178  \n",
              "3 -0.000212 -0.001915 -0.001631 -0.000867 -0.001172 -0.000028  \n",
              "4  0.000252  0.003752  0.001626 -0.000698 -0.001223 -0.003328  \n",
              "\n",
              "[5 rows x 128 columns]"
            ],
            "text/html": [
              "\n",
              "  <div id=\"df-fae3e127-ec0f-4dff-a266-6622f9e7b99b\">\n",
              "    <div class=\"colab-df-container\">\n",
              "      <div>\n",
              "<style scoped>\n",
              "    .dataframe tbody tr th:only-of-type {\n",
              "        vertical-align: middle;\n",
              "    }\n",
              "\n",
              "    .dataframe tbody tr th {\n",
              "        vertical-align: top;\n",
              "    }\n",
              "\n",
              "    .dataframe thead th {\n",
              "        text-align: right;\n",
              "    }\n",
              "</style>\n",
              "<table border=\"1\" class=\"dataframe\">\n",
              "  <thead>\n",
              "    <tr style=\"text-align: right;\">\n",
              "      <th></th>\n",
              "      <th>0</th>\n",
              "      <th>1</th>\n",
              "      <th>2</th>\n",
              "      <th>3</th>\n",
              "      <th>4</th>\n",
              "      <th>5</th>\n",
              "      <th>6</th>\n",
              "      <th>7</th>\n",
              "      <th>8</th>\n",
              "      <th>9</th>\n",
              "      <th>...</th>\n",
              "      <th>118</th>\n",
              "      <th>119</th>\n",
              "      <th>120</th>\n",
              "      <th>121</th>\n",
              "      <th>122</th>\n",
              "      <th>123</th>\n",
              "      <th>124</th>\n",
              "      <th>125</th>\n",
              "      <th>126</th>\n",
              "      <th>127</th>\n",
              "    </tr>\n",
              "  </thead>\n",
              "  <tbody>\n",
              "    <tr>\n",
              "      <th>0</th>\n",
              "      <td>0.000181</td>\n",
              "      <td>0.010139</td>\n",
              "      <td>0.009276</td>\n",
              "      <td>0.005066</td>\n",
              "      <td>0.010810</td>\n",
              "      <td>0.004045</td>\n",
              "      <td>0.004757</td>\n",
              "      <td>0.006214</td>\n",
              "      <td>0.003307</td>\n",
              "      <td>0.007572</td>\n",
              "      <td>...</td>\n",
              "      <td>0.001412</td>\n",
              "      <td>-0.001509</td>\n",
              "      <td>0.000060</td>\n",
              "      <td>0.000435</td>\n",
              "      <td>-0.000819</td>\n",
              "      <td>0.000228</td>\n",
              "      <td>-0.000300</td>\n",
              "      <td>-0.001147</td>\n",
              "      <td>-0.000222</td>\n",
              "      <td>0.001576</td>\n",
              "    </tr>\n",
              "    <tr>\n",
              "      <th>1</th>\n",
              "      <td>0.001094</td>\n",
              "      <td>0.004550</td>\n",
              "      <td>0.002879</td>\n",
              "      <td>0.002247</td>\n",
              "      <td>0.003305</td>\n",
              "      <td>0.002416</td>\n",
              "      <td>0.001619</td>\n",
              "      <td>0.000981</td>\n",
              "      <td>0.000009</td>\n",
              "      <td>-0.000363</td>\n",
              "      <td>...</td>\n",
              "      <td>-0.000104</td>\n",
              "      <td>-0.000141</td>\n",
              "      <td>0.001333</td>\n",
              "      <td>0.001541</td>\n",
              "      <td>0.001077</td>\n",
              "      <td>-0.000736</td>\n",
              "      <td>-0.003767</td>\n",
              "      <td>-0.004646</td>\n",
              "      <td>-0.002941</td>\n",
              "      <td>-0.001599</td>\n",
              "    </tr>\n",
              "    <tr>\n",
              "      <th>2</th>\n",
              "      <td>0.003531</td>\n",
              "      <td>0.002285</td>\n",
              "      <td>-0.000420</td>\n",
              "      <td>-0.003738</td>\n",
              "      <td>-0.006706</td>\n",
              "      <td>-0.003148</td>\n",
              "      <td>0.000733</td>\n",
              "      <td>0.000668</td>\n",
              "      <td>0.002162</td>\n",
              "      <td>-0.000946</td>\n",
              "      <td>...</td>\n",
              "      <td>0.000661</td>\n",
              "      <td>0.001853</td>\n",
              "      <td>-0.000268</td>\n",
              "      <td>-0.000394</td>\n",
              "      <td>-0.000279</td>\n",
              "      <td>-0.000316</td>\n",
              "      <td>0.000144</td>\n",
              "      <td>0.001246</td>\n",
              "      <td>0.003117</td>\n",
              "      <td>0.002178</td>\n",
              "    </tr>\n",
              "    <tr>\n",
              "      <th>3</th>\n",
              "      <td>-0.001772</td>\n",
              "      <td>-0.001311</td>\n",
              "      <td>0.000388</td>\n",
              "      <td>0.000408</td>\n",
              "      <td>-0.000355</td>\n",
              "      <td>0.000998</td>\n",
              "      <td>0.001109</td>\n",
              "      <td>-0.003149</td>\n",
              "      <td>-0.008882</td>\n",
              "      <td>-0.010483</td>\n",
              "      <td>...</td>\n",
              "      <td>0.000458</td>\n",
              "      <td>0.002103</td>\n",
              "      <td>0.001358</td>\n",
              "      <td>0.000820</td>\n",
              "      <td>-0.000212</td>\n",
              "      <td>-0.001915</td>\n",
              "      <td>-0.001631</td>\n",
              "      <td>-0.000867</td>\n",
              "      <td>-0.001172</td>\n",
              "      <td>-0.000028</td>\n",
              "    </tr>\n",
              "    <tr>\n",
              "      <th>4</th>\n",
              "      <td>0.000087</td>\n",
              "      <td>-0.000272</td>\n",
              "      <td>0.001022</td>\n",
              "      <td>0.003126</td>\n",
              "      <td>0.002284</td>\n",
              "      <td>0.000885</td>\n",
              "      <td>0.001933</td>\n",
              "      <td>0.002270</td>\n",
              "      <td>0.002247</td>\n",
              "      <td>0.002175</td>\n",
              "      <td>...</td>\n",
              "      <td>0.002529</td>\n",
              "      <td>0.003518</td>\n",
              "      <td>-0.000248</td>\n",
              "      <td>-0.002761</td>\n",
              "      <td>0.000252</td>\n",
              "      <td>0.003752</td>\n",
              "      <td>0.001626</td>\n",
              "      <td>-0.000698</td>\n",
              "      <td>-0.001223</td>\n",
              "      <td>-0.003328</td>\n",
              "    </tr>\n",
              "  </tbody>\n",
              "</table>\n",
              "<p>5 rows × 128 columns</p>\n",
              "</div>\n",
              "      <button class=\"colab-df-convert\" onclick=\"convertToInteractive('df-fae3e127-ec0f-4dff-a266-6622f9e7b99b')\"\n",
              "              title=\"Convert this dataframe to an interactive table.\"\n",
              "              style=\"display:none;\">\n",
              "        \n",
              "  <svg xmlns=\"http://www.w3.org/2000/svg\" height=\"24px\"viewBox=\"0 0 24 24\"\n",
              "       width=\"24px\">\n",
              "    <path d=\"M0 0h24v24H0V0z\" fill=\"none\"/>\n",
              "    <path d=\"M18.56 5.44l.94 2.06.94-2.06 2.06-.94-2.06-.94-.94-2.06-.94 2.06-2.06.94zm-11 1L8.5 8.5l.94-2.06 2.06-.94-2.06-.94L8.5 2.5l-.94 2.06-2.06.94zm10 10l.94 2.06.94-2.06 2.06-.94-2.06-.94-.94-2.06-.94 2.06-2.06.94z\"/><path d=\"M17.41 7.96l-1.37-1.37c-.4-.4-.92-.59-1.43-.59-.52 0-1.04.2-1.43.59L10.3 9.45l-7.72 7.72c-.78.78-.78 2.05 0 2.83L4 21.41c.39.39.9.59 1.41.59.51 0 1.02-.2 1.41-.59l7.78-7.78 2.81-2.81c.8-.78.8-2.07 0-2.86zM5.41 20L4 18.59l7.72-7.72 1.47 1.35L5.41 20z\"/>\n",
              "  </svg>\n",
              "      </button>\n",
              "      \n",
              "  <style>\n",
              "    .colab-df-container {\n",
              "      display:flex;\n",
              "      flex-wrap:wrap;\n",
              "      gap: 12px;\n",
              "    }\n",
              "\n",
              "    .colab-df-convert {\n",
              "      background-color: #E8F0FE;\n",
              "      border: none;\n",
              "      border-radius: 50%;\n",
              "      cursor: pointer;\n",
              "      display: none;\n",
              "      fill: #1967D2;\n",
              "      height: 32px;\n",
              "      padding: 0 0 0 0;\n",
              "      width: 32px;\n",
              "    }\n",
              "\n",
              "    .colab-df-convert:hover {\n",
              "      background-color: #E2EBFA;\n",
              "      box-shadow: 0px 1px 2px rgba(60, 64, 67, 0.3), 0px 1px 3px 1px rgba(60, 64, 67, 0.15);\n",
              "      fill: #174EA6;\n",
              "    }\n",
              "\n",
              "    [theme=dark] .colab-df-convert {\n",
              "      background-color: #3B4455;\n",
              "      fill: #D2E3FC;\n",
              "    }\n",
              "\n",
              "    [theme=dark] .colab-df-convert:hover {\n",
              "      background-color: #434B5C;\n",
              "      box-shadow: 0px 1px 3px 1px rgba(0, 0, 0, 0.15);\n",
              "      filter: drop-shadow(0px 1px 2px rgba(0, 0, 0, 0.3));\n",
              "      fill: #FFFFFF;\n",
              "    }\n",
              "  </style>\n",
              "\n",
              "      <script>\n",
              "        const buttonEl =\n",
              "          document.querySelector('#df-fae3e127-ec0f-4dff-a266-6622f9e7b99b button.colab-df-convert');\n",
              "        buttonEl.style.display =\n",
              "          google.colab.kernel.accessAllowed ? 'block' : 'none';\n",
              "\n",
              "        async function convertToInteractive(key) {\n",
              "          const element = document.querySelector('#df-fae3e127-ec0f-4dff-a266-6622f9e7b99b');\n",
              "          const dataTable =\n",
              "            await google.colab.kernel.invokeFunction('convertToInteractive',\n",
              "                                                     [key], {});\n",
              "          if (!dataTable) return;\n",
              "\n",
              "          const docLinkHtml = 'Like what you see? Visit the ' +\n",
              "            '<a target=\"_blank\" href=https://colab.research.google.com/notebooks/data_table.ipynb>data table notebook</a>'\n",
              "            + ' to learn more about interactive tables.';\n",
              "          element.innerHTML = '';\n",
              "          dataTable['output_type'] = 'display_data';\n",
              "          await google.colab.output.renderOutput(dataTable, element);\n",
              "          const docLink = document.createElement('div');\n",
              "          docLink.innerHTML = docLinkHtml;\n",
              "          element.appendChild(docLink);\n",
              "        }\n",
              "      </script>\n",
              "    </div>\n",
              "  </div>\n",
              "  "
            ]
          },
          "metadata": {},
          "execution_count": 8
        },
        {
          "output_type": "execute_result",
          "data": {
            "text/plain": [
              "           0         1         2         3         4         5         6    \\\n",
              "7347  0.388873  0.618763  0.774067  0.586568  0.217007 -0.027330 -0.171294   \n",
              "7348  0.711864  0.709237  0.321368 -0.028921 -0.208107 -0.192802 -0.066754   \n",
              "7349 -0.226717 -0.177817 -0.150869 -0.132237 -0.068338  0.007874  0.096481   \n",
              "7350 -0.064806 -0.079933 -0.068350 -0.038477 -0.028679  0.018335  0.077571   \n",
              "7351 -0.194471 -0.173802 -0.127545 -0.108369 -0.121152 -0.074004 -0.002135   \n",
              "\n",
              "           7         8         9    ...       118       119       120  \\\n",
              "7347 -0.218988 -0.137680  0.033094  ... -0.227949 -0.247119 -0.227710   \n",
              "7348 -0.042285  0.058089  0.106855  ... -0.311864 -0.316281 -0.274100   \n",
              "7349  0.205834  0.441342  0.662930  ... -0.177051 -0.248426 -0.313892   \n",
              "7350  0.253580  0.507805  0.583999  ... -0.240819 -0.330930 -0.396854   \n",
              "7351  0.177865  0.516936  0.701378  ...  0.435501  0.308495  0.138261   \n",
              "\n",
              "           121       122       123       124       125       126       127  \n",
              "7347 -0.210942 -0.179295 -0.142085 -0.131831 -0.154000 -0.176886 -0.211068  \n",
              "7348 -0.326159 -0.379539 -0.382544 -0.371156 -0.295357 -0.203831 -0.124548  \n",
              "7349 -0.367070 -0.395135 -0.347338 -0.319902 -0.294935 -0.243403 -0.215215  \n",
              "7350 -0.413906 -0.379085 -0.356609 -0.317618 -0.315016 -0.330737 -0.272348  \n",
              "7351  0.009058  0.023296  0.022358 -0.024451 -0.071907 -0.142209 -0.170999  \n",
              "\n",
              "[5 rows x 128 columns]"
            ],
            "text/html": [
              "\n",
              "  <div id=\"df-638ad5a2-4a99-4858-896c-f60b71ae2cd9\">\n",
              "    <div class=\"colab-df-container\">\n",
              "      <div>\n",
              "<style scoped>\n",
              "    .dataframe tbody tr th:only-of-type {\n",
              "        vertical-align: middle;\n",
              "    }\n",
              "\n",
              "    .dataframe tbody tr th {\n",
              "        vertical-align: top;\n",
              "    }\n",
              "\n",
              "    .dataframe thead th {\n",
              "        text-align: right;\n",
              "    }\n",
              "</style>\n",
              "<table border=\"1\" class=\"dataframe\">\n",
              "  <thead>\n",
              "    <tr style=\"text-align: right;\">\n",
              "      <th></th>\n",
              "      <th>0</th>\n",
              "      <th>1</th>\n",
              "      <th>2</th>\n",
              "      <th>3</th>\n",
              "      <th>4</th>\n",
              "      <th>5</th>\n",
              "      <th>6</th>\n",
              "      <th>7</th>\n",
              "      <th>8</th>\n",
              "      <th>9</th>\n",
              "      <th>...</th>\n",
              "      <th>118</th>\n",
              "      <th>119</th>\n",
              "      <th>120</th>\n",
              "      <th>121</th>\n",
              "      <th>122</th>\n",
              "      <th>123</th>\n",
              "      <th>124</th>\n",
              "      <th>125</th>\n",
              "      <th>126</th>\n",
              "      <th>127</th>\n",
              "    </tr>\n",
              "  </thead>\n",
              "  <tbody>\n",
              "    <tr>\n",
              "      <th>7347</th>\n",
              "      <td>0.388873</td>\n",
              "      <td>0.618763</td>\n",
              "      <td>0.774067</td>\n",
              "      <td>0.586568</td>\n",
              "      <td>0.217007</td>\n",
              "      <td>-0.027330</td>\n",
              "      <td>-0.171294</td>\n",
              "      <td>-0.218988</td>\n",
              "      <td>-0.137680</td>\n",
              "      <td>0.033094</td>\n",
              "      <td>...</td>\n",
              "      <td>-0.227949</td>\n",
              "      <td>-0.247119</td>\n",
              "      <td>-0.227710</td>\n",
              "      <td>-0.210942</td>\n",
              "      <td>-0.179295</td>\n",
              "      <td>-0.142085</td>\n",
              "      <td>-0.131831</td>\n",
              "      <td>-0.154000</td>\n",
              "      <td>-0.176886</td>\n",
              "      <td>-0.211068</td>\n",
              "    </tr>\n",
              "    <tr>\n",
              "      <th>7348</th>\n",
              "      <td>0.711864</td>\n",
              "      <td>0.709237</td>\n",
              "      <td>0.321368</td>\n",
              "      <td>-0.028921</td>\n",
              "      <td>-0.208107</td>\n",
              "      <td>-0.192802</td>\n",
              "      <td>-0.066754</td>\n",
              "      <td>-0.042285</td>\n",
              "      <td>0.058089</td>\n",
              "      <td>0.106855</td>\n",
              "      <td>...</td>\n",
              "      <td>-0.311864</td>\n",
              "      <td>-0.316281</td>\n",
              "      <td>-0.274100</td>\n",
              "      <td>-0.326159</td>\n",
              "      <td>-0.379539</td>\n",
              "      <td>-0.382544</td>\n",
              "      <td>-0.371156</td>\n",
              "      <td>-0.295357</td>\n",
              "      <td>-0.203831</td>\n",
              "      <td>-0.124548</td>\n",
              "    </tr>\n",
              "    <tr>\n",
              "      <th>7349</th>\n",
              "      <td>-0.226717</td>\n",
              "      <td>-0.177817</td>\n",
              "      <td>-0.150869</td>\n",
              "      <td>-0.132237</td>\n",
              "      <td>-0.068338</td>\n",
              "      <td>0.007874</td>\n",
              "      <td>0.096481</td>\n",
              "      <td>0.205834</td>\n",
              "      <td>0.441342</td>\n",
              "      <td>0.662930</td>\n",
              "      <td>...</td>\n",
              "      <td>-0.177051</td>\n",
              "      <td>-0.248426</td>\n",
              "      <td>-0.313892</td>\n",
              "      <td>-0.367070</td>\n",
              "      <td>-0.395135</td>\n",
              "      <td>-0.347338</td>\n",
              "      <td>-0.319902</td>\n",
              "      <td>-0.294935</td>\n",
              "      <td>-0.243403</td>\n",
              "      <td>-0.215215</td>\n",
              "    </tr>\n",
              "    <tr>\n",
              "      <th>7350</th>\n",
              "      <td>-0.064806</td>\n",
              "      <td>-0.079933</td>\n",
              "      <td>-0.068350</td>\n",
              "      <td>-0.038477</td>\n",
              "      <td>-0.028679</td>\n",
              "      <td>0.018335</td>\n",
              "      <td>0.077571</td>\n",
              "      <td>0.253580</td>\n",
              "      <td>0.507805</td>\n",
              "      <td>0.583999</td>\n",
              "      <td>...</td>\n",
              "      <td>-0.240819</td>\n",
              "      <td>-0.330930</td>\n",
              "      <td>-0.396854</td>\n",
              "      <td>-0.413906</td>\n",
              "      <td>-0.379085</td>\n",
              "      <td>-0.356609</td>\n",
              "      <td>-0.317618</td>\n",
              "      <td>-0.315016</td>\n",
              "      <td>-0.330737</td>\n",
              "      <td>-0.272348</td>\n",
              "    </tr>\n",
              "    <tr>\n",
              "      <th>7351</th>\n",
              "      <td>-0.194471</td>\n",
              "      <td>-0.173802</td>\n",
              "      <td>-0.127545</td>\n",
              "      <td>-0.108369</td>\n",
              "      <td>-0.121152</td>\n",
              "      <td>-0.074004</td>\n",
              "      <td>-0.002135</td>\n",
              "      <td>0.177865</td>\n",
              "      <td>0.516936</td>\n",
              "      <td>0.701378</td>\n",
              "      <td>...</td>\n",
              "      <td>0.435501</td>\n",
              "      <td>0.308495</td>\n",
              "      <td>0.138261</td>\n",
              "      <td>0.009058</td>\n",
              "      <td>0.023296</td>\n",
              "      <td>0.022358</td>\n",
              "      <td>-0.024451</td>\n",
              "      <td>-0.071907</td>\n",
              "      <td>-0.142209</td>\n",
              "      <td>-0.170999</td>\n",
              "    </tr>\n",
              "  </tbody>\n",
              "</table>\n",
              "<p>5 rows × 128 columns</p>\n",
              "</div>\n",
              "      <button class=\"colab-df-convert\" onclick=\"convertToInteractive('df-638ad5a2-4a99-4858-896c-f60b71ae2cd9')\"\n",
              "              title=\"Convert this dataframe to an interactive table.\"\n",
              "              style=\"display:none;\">\n",
              "        \n",
              "  <svg xmlns=\"http://www.w3.org/2000/svg\" height=\"24px\"viewBox=\"0 0 24 24\"\n",
              "       width=\"24px\">\n",
              "    <path d=\"M0 0h24v24H0V0z\" fill=\"none\"/>\n",
              "    <path d=\"M18.56 5.44l.94 2.06.94-2.06 2.06-.94-2.06-.94-.94-2.06-.94 2.06-2.06.94zm-11 1L8.5 8.5l.94-2.06 2.06-.94-2.06-.94L8.5 2.5l-.94 2.06-2.06.94zm10 10l.94 2.06.94-2.06 2.06-.94-2.06-.94-.94-2.06-.94 2.06-2.06.94z\"/><path d=\"M17.41 7.96l-1.37-1.37c-.4-.4-.92-.59-1.43-.59-.52 0-1.04.2-1.43.59L10.3 9.45l-7.72 7.72c-.78.78-.78 2.05 0 2.83L4 21.41c.39.39.9.59 1.41.59.51 0 1.02-.2 1.41-.59l7.78-7.78 2.81-2.81c.8-.78.8-2.07 0-2.86zM5.41 20L4 18.59l7.72-7.72 1.47 1.35L5.41 20z\"/>\n",
              "  </svg>\n",
              "      </button>\n",
              "      \n",
              "  <style>\n",
              "    .colab-df-container {\n",
              "      display:flex;\n",
              "      flex-wrap:wrap;\n",
              "      gap: 12px;\n",
              "    }\n",
              "\n",
              "    .colab-df-convert {\n",
              "      background-color: #E8F0FE;\n",
              "      border: none;\n",
              "      border-radius: 50%;\n",
              "      cursor: pointer;\n",
              "      display: none;\n",
              "      fill: #1967D2;\n",
              "      height: 32px;\n",
              "      padding: 0 0 0 0;\n",
              "      width: 32px;\n",
              "    }\n",
              "\n",
              "    .colab-df-convert:hover {\n",
              "      background-color: #E2EBFA;\n",
              "      box-shadow: 0px 1px 2px rgba(60, 64, 67, 0.3), 0px 1px 3px 1px rgba(60, 64, 67, 0.15);\n",
              "      fill: #174EA6;\n",
              "    }\n",
              "\n",
              "    [theme=dark] .colab-df-convert {\n",
              "      background-color: #3B4455;\n",
              "      fill: #D2E3FC;\n",
              "    }\n",
              "\n",
              "    [theme=dark] .colab-df-convert:hover {\n",
              "      background-color: #434B5C;\n",
              "      box-shadow: 0px 1px 3px 1px rgba(0, 0, 0, 0.15);\n",
              "      filter: drop-shadow(0px 1px 2px rgba(0, 0, 0, 0.3));\n",
              "      fill: #FFFFFF;\n",
              "    }\n",
              "  </style>\n",
              "\n",
              "      <script>\n",
              "        const buttonEl =\n",
              "          document.querySelector('#df-638ad5a2-4a99-4858-896c-f60b71ae2cd9 button.colab-df-convert');\n",
              "        buttonEl.style.display =\n",
              "          google.colab.kernel.accessAllowed ? 'block' : 'none';\n",
              "\n",
              "        async function convertToInteractive(key) {\n",
              "          const element = document.querySelector('#df-638ad5a2-4a99-4858-896c-f60b71ae2cd9');\n",
              "          const dataTable =\n",
              "            await google.colab.kernel.invokeFunction('convertToInteractive',\n",
              "                                                     [key], {});\n",
              "          if (!dataTable) return;\n",
              "\n",
              "          const docLinkHtml = 'Like what you see? Visit the ' +\n",
              "            '<a target=\"_blank\" href=https://colab.research.google.com/notebooks/data_table.ipynb>data table notebook</a>'\n",
              "            + ' to learn more about interactive tables.';\n",
              "          element.innerHTML = '';\n",
              "          dataTable['output_type'] = 'display_data';\n",
              "          await google.colab.output.renderOutput(dataTable, element);\n",
              "          const docLink = document.createElement('div');\n",
              "          docLink.innerHTML = docLinkHtml;\n",
              "          element.appendChild(docLink);\n",
              "        }\n",
              "      </script>\n",
              "    </div>\n",
              "  </div>\n",
              "  "
            ]
          },
          "metadata": {},
          "execution_count": 8
        }
      ],
      "source": [
        "# 2.2 Read data\n",
        "df = load_har_dataset()\n",
        "df.shape   # (7352, 128)\n",
        "print(\"\\n=============\\n\")\n",
        "df.head()\n",
        "df.tail()"
      ]
    },
    {
      "cell_type": "code",
      "execution_count": null,
      "metadata": {
        "colab": {
          "base_uri": "https://localhost:8080/"
        },
        "id": "6Qn4Hg0g3Us9",
        "outputId": "978fd5ef-5e11-4a47-f8ee-c18ee220e53a"
      },
      "outputs": [
        {
          "output_type": "execute_result",
          "data": {
            "text/plain": [
              "(7352,)"
            ]
          },
          "metadata": {},
          "execution_count": 9
        }
      ],
      "source": [
        "# 2.3 Read classes:\n",
        "\n",
        "y = load_har_classes()\n",
        "y.shape   # (7352,)"
      ]
    },
    {
      "cell_type": "code",
      "source": [
        "# 2.3.1 \n",
        "y[:10]\n",
        "y[-10:]"
      ],
      "metadata": {
        "colab": {
          "base_uri": "https://localhost:8080/"
        },
        "id": "VS-84NFi4ASk",
        "outputId": "5098521d-252b-43d0-e225-42003f97a9ea"
      },
      "execution_count": null,
      "outputs": [
        {
          "output_type": "execute_result",
          "data": {
            "text/plain": [
              "0    5\n",
              "1    5\n",
              "2    5\n",
              "3    5\n",
              "4    5\n",
              "5    5\n",
              "6    5\n",
              "7    5\n",
              "8    5\n",
              "9    5\n",
              "Name: 0, dtype: int64"
            ]
          },
          "metadata": {},
          "execution_count": 11
        },
        {
          "output_type": "execute_result",
          "data": {
            "text/plain": [
              "7342    2\n",
              "7343    2\n",
              "7344    2\n",
              "7345    2\n",
              "7346    2\n",
              "7347    2\n",
              "7348    2\n",
              "7349    2\n",
              "7350    2\n",
              "7351    2\n",
              "Name: 0, dtype: int64"
            ]
          },
          "metadata": {},
          "execution_count": 11
        }
      ]
    },
    {
      "cell_type": "markdown",
      "source": [
        "## Shaping data"
      ],
      "metadata": {
        "id": "xus7nqwfXSfH"
      }
    },
    {
      "cell_type": "markdown",
      "metadata": {
        "id": "wSuV5l4G3Us9"
      },
      "source": [
        "The data is not in a typical time series format so far: \n",
        "the columns are the time steps whereas each row is a measurement of a different person.\n",
        "\n",
        "Therefore we bring it to a format where the time series of different persons are identified by an `id` and are order by time vertically."
      ]
    },
    {
      "cell_type": "code",
      "source": [
        "# 3.0\n",
        "df[\"id\"] = df.index"
      ],
      "metadata": {
        "id": "jfuowsC-4dED"
      },
      "execution_count": null,
      "outputs": []
    },
    {
      "cell_type": "code",
      "execution_count": null,
      "metadata": {
        "id": "LN0j-XGS3Us_"
      },
      "outputs": [],
      "source": [
        "# 3.1\n",
        "df = df.melt(\n",
        "             id_vars=\"id\",\n",
        "             var_name=\"time\"\n",
        "             ).sort_values([\"id\", \"time\"]).reset_index(drop=True)"
      ]
    },
    {
      "cell_type": "code",
      "execution_count": null,
      "metadata": {
        "colab": {
          "base_uri": "https://localhost:8080/",
          "height": 206
        },
        "id": "BchrZuxQ3UtA",
        "outputId": "2614839e-6037-4895-caed-e606e38390ce"
      },
      "outputs": [
        {
          "output_type": "execute_result",
          "data": {
            "text/plain": [
              "   id time     value\n",
              "0   0    0  0.000181\n",
              "1   0    1  0.010139\n",
              "2   0    2  0.009276\n",
              "3   0    3  0.005066\n",
              "4   0    4  0.010810"
            ],
            "text/html": [
              "\n",
              "  <div id=\"df-50f0155d-51f0-4858-a704-9938fe7125da\">\n",
              "    <div class=\"colab-df-container\">\n",
              "      <div>\n",
              "<style scoped>\n",
              "    .dataframe tbody tr th:only-of-type {\n",
              "        vertical-align: middle;\n",
              "    }\n",
              "\n",
              "    .dataframe tbody tr th {\n",
              "        vertical-align: top;\n",
              "    }\n",
              "\n",
              "    .dataframe thead th {\n",
              "        text-align: right;\n",
              "    }\n",
              "</style>\n",
              "<table border=\"1\" class=\"dataframe\">\n",
              "  <thead>\n",
              "    <tr style=\"text-align: right;\">\n",
              "      <th></th>\n",
              "      <th>id</th>\n",
              "      <th>time</th>\n",
              "      <th>value</th>\n",
              "    </tr>\n",
              "  </thead>\n",
              "  <tbody>\n",
              "    <tr>\n",
              "      <th>0</th>\n",
              "      <td>0</td>\n",
              "      <td>0</td>\n",
              "      <td>0.000181</td>\n",
              "    </tr>\n",
              "    <tr>\n",
              "      <th>1</th>\n",
              "      <td>0</td>\n",
              "      <td>1</td>\n",
              "      <td>0.010139</td>\n",
              "    </tr>\n",
              "    <tr>\n",
              "      <th>2</th>\n",
              "      <td>0</td>\n",
              "      <td>2</td>\n",
              "      <td>0.009276</td>\n",
              "    </tr>\n",
              "    <tr>\n",
              "      <th>3</th>\n",
              "      <td>0</td>\n",
              "      <td>3</td>\n",
              "      <td>0.005066</td>\n",
              "    </tr>\n",
              "    <tr>\n",
              "      <th>4</th>\n",
              "      <td>0</td>\n",
              "      <td>4</td>\n",
              "      <td>0.010810</td>\n",
              "    </tr>\n",
              "  </tbody>\n",
              "</table>\n",
              "</div>\n",
              "      <button class=\"colab-df-convert\" onclick=\"convertToInteractive('df-50f0155d-51f0-4858-a704-9938fe7125da')\"\n",
              "              title=\"Convert this dataframe to an interactive table.\"\n",
              "              style=\"display:none;\">\n",
              "        \n",
              "  <svg xmlns=\"http://www.w3.org/2000/svg\" height=\"24px\"viewBox=\"0 0 24 24\"\n",
              "       width=\"24px\">\n",
              "    <path d=\"M0 0h24v24H0V0z\" fill=\"none\"/>\n",
              "    <path d=\"M18.56 5.44l.94 2.06.94-2.06 2.06-.94-2.06-.94-.94-2.06-.94 2.06-2.06.94zm-11 1L8.5 8.5l.94-2.06 2.06-.94-2.06-.94L8.5 2.5l-.94 2.06-2.06.94zm10 10l.94 2.06.94-2.06 2.06-.94-2.06-.94-.94-2.06-.94 2.06-2.06.94z\"/><path d=\"M17.41 7.96l-1.37-1.37c-.4-.4-.92-.59-1.43-.59-.52 0-1.04.2-1.43.59L10.3 9.45l-7.72 7.72c-.78.78-.78 2.05 0 2.83L4 21.41c.39.39.9.59 1.41.59.51 0 1.02-.2 1.41-.59l7.78-7.78 2.81-2.81c.8-.78.8-2.07 0-2.86zM5.41 20L4 18.59l7.72-7.72 1.47 1.35L5.41 20z\"/>\n",
              "  </svg>\n",
              "      </button>\n",
              "      \n",
              "  <style>\n",
              "    .colab-df-container {\n",
              "      display:flex;\n",
              "      flex-wrap:wrap;\n",
              "      gap: 12px;\n",
              "    }\n",
              "\n",
              "    .colab-df-convert {\n",
              "      background-color: #E8F0FE;\n",
              "      border: none;\n",
              "      border-radius: 50%;\n",
              "      cursor: pointer;\n",
              "      display: none;\n",
              "      fill: #1967D2;\n",
              "      height: 32px;\n",
              "      padding: 0 0 0 0;\n",
              "      width: 32px;\n",
              "    }\n",
              "\n",
              "    .colab-df-convert:hover {\n",
              "      background-color: #E2EBFA;\n",
              "      box-shadow: 0px 1px 2px rgba(60, 64, 67, 0.3), 0px 1px 3px 1px rgba(60, 64, 67, 0.15);\n",
              "      fill: #174EA6;\n",
              "    }\n",
              "\n",
              "    [theme=dark] .colab-df-convert {\n",
              "      background-color: #3B4455;\n",
              "      fill: #D2E3FC;\n",
              "    }\n",
              "\n",
              "    [theme=dark] .colab-df-convert:hover {\n",
              "      background-color: #434B5C;\n",
              "      box-shadow: 0px 1px 3px 1px rgba(0, 0, 0, 0.15);\n",
              "      filter: drop-shadow(0px 1px 2px rgba(0, 0, 0, 0.3));\n",
              "      fill: #FFFFFF;\n",
              "    }\n",
              "  </style>\n",
              "\n",
              "      <script>\n",
              "        const buttonEl =\n",
              "          document.querySelector('#df-50f0155d-51f0-4858-a704-9938fe7125da button.colab-df-convert');\n",
              "        buttonEl.style.display =\n",
              "          google.colab.kernel.accessAllowed ? 'block' : 'none';\n",
              "\n",
              "        async function convertToInteractive(key) {\n",
              "          const element = document.querySelector('#df-50f0155d-51f0-4858-a704-9938fe7125da');\n",
              "          const dataTable =\n",
              "            await google.colab.kernel.invokeFunction('convertToInteractive',\n",
              "                                                     [key], {});\n",
              "          if (!dataTable) return;\n",
              "\n",
              "          const docLinkHtml = 'Like what you see? Visit the ' +\n",
              "            '<a target=\"_blank\" href=https://colab.research.google.com/notebooks/data_table.ipynb>data table notebook</a>'\n",
              "            + ' to learn more about interactive tables.';\n",
              "          element.innerHTML = '';\n",
              "          dataTable['output_type'] = 'display_data';\n",
              "          await google.colab.output.renderOutput(dataTable, element);\n",
              "          const docLink = document.createElement('div');\n",
              "          docLink.innerHTML = docLinkHtml;\n",
              "          element.appendChild(docLink);\n",
              "        }\n",
              "      </script>\n",
              "    </div>\n",
              "  </div>\n",
              "  "
            ]
          },
          "metadata": {},
          "execution_count": 15
        }
      ],
      "source": [
        "# 3.2\n",
        "df.head()"
      ]
    },
    {
      "cell_type": "markdown",
      "source": [
        "## Plotting data"
      ],
      "metadata": {
        "id": "MKLUZ_arXbuQ"
      }
    },
    {
      "cell_type": "code",
      "execution_count": null,
      "metadata": {
        "colab": {
          "base_uri": "https://localhost:8080/",
          "height": 299
        },
        "id": "-kefexDj3UtB",
        "outputId": "8463cce8-7a3f-44b4-c4e6-6b7aeac360ac"
      },
      "outputs": [
        {
          "output_type": "execute_result",
          "data": {
            "text/plain": [
              "Text(0.5, 1.0, 'accelerometer reading')"
            ]
          },
          "metadata": {},
          "execution_count": 16
        },
        {
          "output_type": "execute_result",
          "data": {
            "text/plain": [
              "[<matplotlib.lines.Line2D at 0x7fbe67e65610>]"
            ]
          },
          "metadata": {},
          "execution_count": 16
        },
        {
          "output_type": "display_data",
          "data": {
            "text/plain": [
              "<Figure size 432x288 with 1 Axes>"
            ],
            "image/png": "[encoded data removed]"
          },
          "metadata": {
            "needs_background": "light"
          }
        }
      ],
      "source": [
        "# 4.0\n",
        "plt.title('accelerometer reading')\n",
        "plt.plot(df[df[\"id\"] == 0].set_index(\"time\").value)\n",
        "plt.show()"
      ]
    },
    {
      "cell_type": "markdown",
      "metadata": {
        "id": "5KEZI2LT3UtC"
      },
      "source": [
        "## Extract Features"
      ]
    },
    {
      "cell_type": "code",
      "execution_count": null,
      "metadata": {
        "tags": [],
        "colab": {
          "base_uri": "https://localhost:8080/"
        },
        "id": "K0RDPzUT3UtD",
        "outputId": "3fcc91ad-9684-4833-848e-5592bb5bf3fd"
      },
      "outputs": [
        {
          "output_type": "stream",
          "name": "stderr",
          "text": [
            "WARNING:tsfresh.feature_extraction.settings:Dependency not available for matrix_profile, this feature will be disabled!\n",
            "Feature Extraction: 100%|██████████| 500/500 [00:53<00:00,  9.37it/s]\n"
          ]
        }
      ],
      "source": [
        "# 5.0 Only use the first 500 ids to speed up the processing\n",
        "X = extract_features(\n",
        "                      df[df[\"id\"] < 500],\n",
        "                      column_id=\"id\",\n",
        "                      column_sort=\"time\",\n",
        "                      impute_function=impute\n",
        "                     )"
      ]
    },
    {
      "cell_type": "code",
      "execution_count": null,
      "metadata": {
        "colab": {
          "base_uri": "https://localhost:8080/",
          "height": 299
        },
        "id": "m8J5Q7eo3UtE",
        "outputId": "87d3a685-53f8-4557-8d1b-8aa3b9c4f387"
      },
      "outputs": [
        {
          "output_type": "execute_result",
          "data": {
            "text/plain": [
              "   value__variance_larger_than_standard_deviation  value__has_duplicate_max  \\\n",
              "0                                             0.0                       0.0   \n",
              "1                                             0.0                       0.0   \n",
              "2                                             0.0                       0.0   \n",
              "3                                             0.0                       0.0   \n",
              "4                                             0.0                       0.0   \n",
              "\n",
              "   value__has_duplicate_min  value__has_duplicate  value__sum_values  \\\n",
              "0                       0.0                   0.0           0.290392   \n",
              "1                       0.0                   0.0           0.022239   \n",
              "2                       0.0                   0.0           0.054796   \n",
              "3                       0.0                   0.0           0.042157   \n",
              "4                       0.0                   0.0          -0.024980   \n",
              "\n",
              "   value__abs_energy  value__mean_abs_change  value__mean_change  \\\n",
              "0           0.001766                0.001435            0.000011   \n",
              "1           0.000506                0.001323           -0.000021   \n",
              "2           0.001106                0.001827           -0.000011   \n",
              "3           0.000932                0.001470            0.000014   \n",
              "4           0.000525                0.001215           -0.000027   \n",
              "\n",
              "   value__mean_second_derivative_central  value__median  ...  \\\n",
              "0                              -0.000032       0.002025  ...   \n",
              "1                              -0.000008       0.000110  ...   \n",
              "2                               0.000001       0.000627  ...   \n",
              "3                               0.000003       0.000269  ...   \n",
              "4                              -0.000007      -0.000144  ...   \n",
              "\n",
              "   value__fourier_entropy__bins_5  value__fourier_entropy__bins_10  \\\n",
              "0                        0.079487                         0.419383   \n",
              "1                        0.891060                         1.336251   \n",
              "2                        0.948691                         1.397948   \n",
              "3                        0.600197                         1.022235   \n",
              "4                        0.866293                         1.327997   \n",
              "\n",
              "   value__fourier_entropy__bins_100  \\\n",
              "0                          2.000401   \n",
              "1                          3.019874   \n",
              "2                          2.576279   \n",
              "3                          2.654834   \n",
              "4                          2.760333   \n",
              "\n",
              "   value__permutation_entropy__dimension_3__tau_1  \\\n",
              "0                                        1.747535   \n",
              "1                                        1.706146   \n",
              "2                                        1.669552   \n",
              "3                                        1.638109   \n",
              "4                                        1.637482   \n",
              "\n",
              "   value__permutation_entropy__dimension_4__tau_1  \\\n",
              "0                                        3.015811   \n",
              "1                                        2.903657   \n",
              "2                                        2.772489   \n",
              "3                                        2.654572   \n",
              "4                                        2.680036   \n",
              "\n",
              "   value__permutation_entropy__dimension_5__tau_1  \\\n",
              "0                                        4.068979   \n",
              "1                                        3.936212   \n",
              "2                                        3.784472   \n",
              "3                                        3.644889   \n",
              "4                                        3.652981   \n",
              "\n",
              "   value__permutation_entropy__dimension_6__tau_1  \\\n",
              "0                                        4.555721   \n",
              "1                                        4.520418   \n",
              "2                                        4.409911   \n",
              "3                                        4.335833   \n",
              "4                                        4.350795   \n",
              "\n",
              "   value__permutation_entropy__dimension_7__tau_1  \\\n",
              "0                                        4.724480   \n",
              "1                                        4.747206   \n",
              "2                                        4.735843   \n",
              "3                                        4.686101   \n",
              "4                                        4.656301   \n",
              "\n",
              "   value__query_similarity_count__query_None__threshold_0.0  \\\n",
              "0                                                0.0          \n",
              "1                                                0.0          \n",
              "2                                                0.0          \n",
              "3                                                0.0          \n",
              "4                                                0.0          \n",
              "\n",
              "   value__mean_n_absolute_max__number_of_maxima_7  \n",
              "0                                        0.008684  \n",
              "1                                        0.005250  \n",
              "2                                        0.007916  \n",
              "3                                        0.007687  \n",
              "4                                        0.004961  \n",
              "\n",
              "[5 rows x 783 columns]"
            ],
            "text/html": [
              "\n",
              "  <div id=\"df-1f865c1d-cccb-443f-a0f4-d2cd2ea61a33\">\n",
              "    <div class=\"colab-df-container\">\n",
              "      <div>\n",
              "<style scoped>\n",
              "    .dataframe tbody tr th:only-of-type {\n",
              "        vertical-align: middle;\n",
              "    }\n",
              "\n",
              "    .dataframe tbody tr th {\n",
              "        vertical-align: top;\n",
              "    }\n",
              "\n",
              "    .dataframe thead th {\n",
              "        text-align: right;\n",
              "    }\n",
              "</style>\n",
              "<table border=\"1\" class=\"dataframe\">\n",
              "  <thead>\n",
              "    <tr style=\"text-align: right;\">\n",
              "      <th></th>\n",
              "      <th>value__variance_larger_than_standard_deviation</th>\n",
              "      <th>value__has_duplicate_max</th>\n",
              "      <th>value__has_duplicate_min</th>\n",
              "      <th>value__has_duplicate</th>\n",
              "      <th>value__sum_values</th>\n",
              "      <th>value__abs_energy</th>\n",
              "      <th>value__mean_abs_change</th>\n",
              "      <th>value__mean_change</th>\n",
              "      <th>value__mean_second_derivative_central</th>\n",
              "      <th>value__median</th>\n",
              "      <th>...</th>\n",
              "      <th>value__fourier_entropy__bins_5</th>\n",
              "      <th>value__fourier_entropy__bins_10</th>\n",
              "      <th>value__fourier_entropy__bins_100</th>\n",
              "      <th>value__permutation_entropy__dimension_3__tau_1</th>\n",
              "      <th>value__permutation_entropy__dimension_4__tau_1</th>\n",
              "      <th>value__permutation_entropy__dimension_5__tau_1</th>\n",
              "      <th>value__permutation_entropy__dimension_6__tau_1</th>\n",
              "      <th>value__permutation_entropy__dimension_7__tau_1</th>\n",
              "      <th>value__query_similarity_count__query_None__threshold_0.0</th>\n",
              "      <th>value__mean_n_absolute_max__number_of_maxima_7</th>\n",
              "    </tr>\n",
              "  </thead>\n",
              "  <tbody>\n",
              "    <tr>\n",
              "      <th>0</th>\n",
              "      <td>0.0</td>\n",
              "      <td>0.0</td>\n",
              "      <td>0.0</td>\n",
              "      <td>0.0</td>\n",
              "      <td>0.290392</td>\n",
              "      <td>0.001766</td>\n",
              "      <td>0.001435</td>\n",
              "      <td>0.000011</td>\n",
              "      <td>-0.000032</td>\n",
              "      <td>0.002025</td>\n",
              "      <td>...</td>\n",
              "      <td>0.079487</td>\n",
              "      <td>0.419383</td>\n",
              "      <td>2.000401</td>\n",
              "      <td>1.747535</td>\n",
              "      <td>3.015811</td>\n",
              "      <td>4.068979</td>\n",
              "      <td>4.555721</td>\n",
              "      <td>4.724480</td>\n",
              "      <td>0.0</td>\n",
              "      <td>0.008684</td>\n",
              "    </tr>\n",
              "    <tr>\n",
              "      <th>1</th>\n",
              "      <td>0.0</td>\n",
              "      <td>0.0</td>\n",
              "      <td>0.0</td>\n",
              "      <td>0.0</td>\n",
              "      <td>0.022239</td>\n",
              "      <td>0.000506</td>\n",
              "      <td>0.001323</td>\n",
              "      <td>-0.000021</td>\n",
              "      <td>-0.000008</td>\n",
              "      <td>0.000110</td>\n",
              "      <td>...</td>\n",
              "      <td>0.891060</td>\n",
              "      <td>1.336251</td>\n",
              "      <td>3.019874</td>\n",
              "      <td>1.706146</td>\n",
              "      <td>2.903657</td>\n",
              "      <td>3.936212</td>\n",
              "      <td>4.520418</td>\n",
              "      <td>4.747206</td>\n",
              "      <td>0.0</td>\n",
              "      <td>0.005250</td>\n",
              "    </tr>\n",
              "    <tr>\n",
              "      <th>2</th>\n",
              "      <td>0.0</td>\n",
              "      <td>0.0</td>\n",
              "      <td>0.0</td>\n",
              "      <td>0.0</td>\n",
              "      <td>0.054796</td>\n",
              "      <td>0.001106</td>\n",
              "      <td>0.001827</td>\n",
              "      <td>-0.000011</td>\n",
              "      <td>0.000001</td>\n",
              "      <td>0.000627</td>\n",
              "      <td>...</td>\n",
              "      <td>0.948691</td>\n",
              "      <td>1.397948</td>\n",
              "      <td>2.576279</td>\n",
              "      <td>1.669552</td>\n",
              "      <td>2.772489</td>\n",
              "      <td>3.784472</td>\n",
              "      <td>4.409911</td>\n",
              "      <td>4.735843</td>\n",
              "      <td>0.0</td>\n",
              "      <td>0.007916</td>\n",
              "    </tr>\n",
              "    <tr>\n",
              "      <th>3</th>\n",
              "      <td>0.0</td>\n",
              "      <td>0.0</td>\n",
              "      <td>0.0</td>\n",
              "      <td>0.0</td>\n",
              "      <td>0.042157</td>\n",
              "      <td>0.000932</td>\n",
              "      <td>0.001470</td>\n",
              "      <td>0.000014</td>\n",
              "      <td>0.000003</td>\n",
              "      <td>0.000269</td>\n",
              "      <td>...</td>\n",
              "      <td>0.600197</td>\n",
              "      <td>1.022235</td>\n",
              "      <td>2.654834</td>\n",
              "      <td>1.638109</td>\n",
              "      <td>2.654572</td>\n",
              "      <td>3.644889</td>\n",
              "      <td>4.335833</td>\n",
              "      <td>4.686101</td>\n",
              "      <td>0.0</td>\n",
              "      <td>0.007687</td>\n",
              "    </tr>\n",
              "    <tr>\n",
              "      <th>4</th>\n",
              "      <td>0.0</td>\n",
              "      <td>0.0</td>\n",
              "      <td>0.0</td>\n",
              "      <td>0.0</td>\n",
              "      <td>-0.024980</td>\n",
              "      <td>0.000525</td>\n",
              "      <td>0.001215</td>\n",
              "      <td>-0.000027</td>\n",
              "      <td>-0.000007</td>\n",
              "      <td>-0.000144</td>\n",
              "      <td>...</td>\n",
              "      <td>0.866293</td>\n",
              "      <td>1.327997</td>\n",
              "      <td>2.760333</td>\n",
              "      <td>1.637482</td>\n",
              "      <td>2.680036</td>\n",
              "      <td>3.652981</td>\n",
              "      <td>4.350795</td>\n",
              "      <td>4.656301</td>\n",
              "      <td>0.0</td>\n",
              "      <td>0.004961</td>\n",
              "    </tr>\n",
              "  </tbody>\n",
              "</table>\n",
              "<p>5 rows × 783 columns</p>\n",
              "</div>\n",
              "      <button class=\"colab-df-convert\" onclick=\"convertToInteractive('df-1f865c1d-cccb-443f-a0f4-d2cd2ea61a33')\"\n",
              "              title=\"Convert this dataframe to an interactive table.\"\n",
              "              style=\"display:none;\">\n",
              "        \n",
              "  <svg xmlns=\"http://www.w3.org/2000/svg\" height=\"24px\"viewBox=\"0 0 24 24\"\n",
              "       width=\"24px\">\n",
              "    <path d=\"M0 0h24v24H0V0z\" fill=\"none\"/>\n",
              "    <path d=\"M18.56 5.44l.94 2.06.94-2.06 2.06-.94-2.06-.94-.94-2.06-.94 2.06-2.06.94zm-11 1L8.5 8.5l.94-2.06 2.06-.94-2.06-.94L8.5 2.5l-.94 2.06-2.06.94zm10 10l.94 2.06.94-2.06 2.06-.94-2.06-.94-.94-2.06-.94 2.06-2.06.94z\"/><path d=\"M17.41 7.96l-1.37-1.37c-.4-.4-.92-.59-1.43-.59-.52 0-1.04.2-1.43.59L10.3 9.45l-7.72 7.72c-.78.78-.78 2.05 0 2.83L4 21.41c.39.39.9.59 1.41.59.51 0 1.02-.2 1.41-.59l7.78-7.78 2.81-2.81c.8-.78.8-2.07 0-2.86zM5.41 20L4 18.59l7.72-7.72 1.47 1.35L5.41 20z\"/>\n",
              "  </svg>\n",
              "      </button>\n",
              "      \n",
              "  <style>\n",
              "    .colab-df-container {\n",
              "      display:flex;\n",
              "      flex-wrap:wrap;\n",
              "      gap: 12px;\n",
              "    }\n",
              "\n",
              "    .colab-df-convert {\n",
              "      background-color: #E8F0FE;\n",
              "      border: none;\n",
              "      border-radius: 50%;\n",
              "      cursor: pointer;\n",
              "      display: none;\n",
              "      fill: #1967D2;\n",
              "      height: 32px;\n",
              "      padding: 0 0 0 0;\n",
              "      width: 32px;\n",
              "    }\n",
              "\n",
              "    .colab-df-convert:hover {\n",
              "      background-color: #E2EBFA;\n",
              "      box-shadow: 0px 1px 2px rgba(60, 64, 67, 0.3), 0px 1px 3px 1px rgba(60, 64, 67, 0.15);\n",
              "      fill: #174EA6;\n",
              "    }\n",
              "\n",
              "    [theme=dark] .colab-df-convert {\n",
              "      background-color: #3B4455;\n",
              "      fill: #D2E3FC;\n",
              "    }\n",
              "\n",
              "    [theme=dark] .colab-df-convert:hover {\n",
              "      background-color: #434B5C;\n",
              "      box-shadow: 0px 1px 3px 1px rgba(0, 0, 0, 0.15);\n",
              "      filter: drop-shadow(0px 1px 2px rgba(0, 0, 0, 0.3));\n",
              "      fill: #FFFFFF;\n",
              "    }\n",
              "  </style>\n",
              "\n",
              "      <script>\n",
              "        const buttonEl =\n",
              "          document.querySelector('#df-1f865c1d-cccb-443f-a0f4-d2cd2ea61a33 button.colab-df-convert');\n",
              "        buttonEl.style.display =\n",
              "          google.colab.kernel.accessAllowed ? 'block' : 'none';\n",
              "\n",
              "        async function convertToInteractive(key) {\n",
              "          const element = document.querySelector('#df-1f865c1d-cccb-443f-a0f4-d2cd2ea61a33');\n",
              "          const dataTable =\n",
              "            await google.colab.kernel.invokeFunction('convertToInteractive',\n",
              "                                                     [key], {});\n",
              "          if (!dataTable) return;\n",
              "\n",
              "          const docLinkHtml = 'Like what you see? Visit the ' +\n",
              "            '<a target=\"_blank\" href=https://colab.research.google.com/notebooks/data_table.ipynb>data table notebook</a>'\n",
              "            + ' to learn more about interactive tables.';\n",
              "          element.innerHTML = '';\n",
              "          dataTable['output_type'] = 'display_data';\n",
              "          await google.colab.output.renderOutput(dataTable, element);\n",
              "          const docLink = document.createElement('div');\n",
              "          docLink.innerHTML = docLinkHtml;\n",
              "          element.appendChild(docLink);\n",
              "        }\n",
              "      </script>\n",
              "    </div>\n",
              "  </div>\n",
              "  "
            ]
          },
          "metadata": {},
          "execution_count": 18
        }
      ],
      "source": [
        "# 5.1\n",
        "X.head()"
      ]
    },
    {
      "cell_type": "markdown",
      "metadata": {
        "collapsed": true,
        "id": "eRUeKaD63UtE"
      },
      "source": [
        "## Train and evaluate classifier"
      ]
    },
    {
      "cell_type": "markdown",
      "metadata": {
        "id": "W3nptbZw3UtF"
      },
      "source": [
        "For later comparison, we train a decision tree on all features (without selection):"
      ]
    },
    {
      "cell_type": "code",
      "execution_count": null,
      "metadata": {
        "id": "LKzh_1C43UtF"
      },
      "outputs": [],
      "source": [
        "# 6.0\n",
        "X_train, X_test, y_train, y_test = train_test_split(X, y[:500], test_size=.2)"
      ]
    },
    {
      "cell_type": "code",
      "execution_count": null,
      "metadata": {
        "scrolled": true,
        "tags": [],
        "colab": {
          "base_uri": "https://localhost:8080/"
        },
        "id": "S9cCgnV23UtG",
        "outputId": "6d3d0632-b45f-4895-e0be-2243df771046"
      },
      "outputs": [
        {
          "output_type": "execute_result",
          "data": {
            "text/plain": [
              "DecisionTreeClassifier()"
            ]
          },
          "metadata": {},
          "execution_count": 20
        },
        {
          "output_type": "stream",
          "name": "stdout",
          "text": [
            "              precision    recall  f1-score   support\n",
            "\n",
            "           1       1.00      0.93      0.96        29\n",
            "           2       0.92      1.00      0.96        12\n",
            "           3       0.89      1.00      0.94        17\n",
            "           4       0.33      0.29      0.31        14\n",
            "           5       0.50      0.64      0.56        14\n",
            "           6       0.27      0.21      0.24        14\n",
            "\n",
            "    accuracy                           0.72       100\n",
            "   macro avg       0.65      0.68      0.66       100\n",
            "weighted avg       0.71      0.72      0.71       100\n",
            "\n"
          ]
        }
      ],
      "source": [
        "# 6.1\n",
        "classifier_full = DecisionTreeClassifier()\n",
        "classifier_full.fit(X_train, y_train)\n",
        "print(classification_report(y_test, classifier_full.predict(X_test)))"
      ]
    },
    {
      "cell_type": "markdown",
      "metadata": {
        "id": "Q7ArJPKj3UtH"
      },
      "source": [
        "# Multiclass feature selection"
      ]
    },
    {
      "cell_type": "markdown",
      "metadata": {
        "id": "v760NE-i3UtI"
      },
      "source": [
        "We will now select a subset of relevant features using the `tsfresh` select features method.\n",
        "However it only works for binary classification or regression tasks. \n",
        "\n",
        "For a 6 label multi classification we therefore split the selection problem into 6 binary one-versus all classification problems. \n",
        "For each of them we can do a binary classification feature selection:"
      ]
    },
    {
      "cell_type": "code",
      "execution_count": null,
      "metadata": {
        "tags": [],
        "colab": {
          "base_uri": "https://localhost:8080/"
        },
        "id": "xjtCKHmB3UtI",
        "outputId": "66ebc208-e815-4bc8-ffcc-a8b6fd18f274"
      },
      "outputs": [
        {
          "output_type": "stream",
          "name": "stdout",
          "text": [
            "Number of relevant features for class 5: 239/783\n",
            "Number of relevant features for class 4: 219/783\n",
            "Number of relevant features for class 6: 207/783\n",
            "Number of relevant features for class 1: 236/783\n",
            "Number of relevant features for class 3: 253/783\n",
            "Number of relevant features for class 2: 204/783\n"
          ]
        }
      ],
      "source": [
        "# 7.0\n",
        "relevant_features = set()\n",
        "\n",
        "for label in y.unique():\n",
        "    y_train_binary = y_train == label\n",
        "    X_train_filtered = select_features(X_train, y_train_binary)\n",
        "    print(\"Number of relevant features for class {}: {}/{}\".format(label, X_train_filtered.shape[1], X_train.shape[1]))\n",
        "    relevant_features = relevant_features.union(set(X_train_filtered.columns))"
      ]
    },
    {
      "cell_type": "code",
      "execution_count": null,
      "metadata": {
        "colab": {
          "base_uri": "https://localhost:8080/"
        },
        "id": "sY-UUbNg3UtK",
        "outputId": "4b0f839f-be48-44d9-c31b-c195bf8ed7ef"
      },
      "outputs": [
        {
          "output_type": "execute_result",
          "data": {
            "text/plain": [
              "299"
            ]
          },
          "metadata": {},
          "execution_count": 22
        }
      ],
      "source": [
        "# 7.1\n",
        "len(relevant_features)"
      ]
    },
    {
      "cell_type": "markdown",
      "metadata": {
        "id": "zeA-q7uf3UtK"
      },
      "source": [
        "we keep only those features that we selected above, for both the train and test set"
      ]
    },
    {
      "cell_type": "code",
      "execution_count": null,
      "metadata": {
        "id": "NBuYLHNT3UtK"
      },
      "outputs": [],
      "source": [
        "# 7.2\n",
        "X_train_filtered = X_train[list(relevant_features)]\n",
        "X_test_filtered = X_test[list(relevant_features)]"
      ]
    },
    {
      "cell_type": "markdown",
      "metadata": {
        "id": "8R3M3tNR3UtK"
      },
      "source": [
        "and train again:"
      ]
    },
    {
      "cell_type": "code",
      "execution_count": null,
      "metadata": {
        "tags": [],
        "colab": {
          "base_uri": "https://localhost:8080/"
        },
        "id": "ekUP90wQ3UtK",
        "outputId": "5b739b99-3c03-4c39-d9f1-ccdca05f05ff"
      },
      "outputs": [
        {
          "output_type": "execute_result",
          "data": {
            "text/plain": [
              "DecisionTreeClassifier()"
            ]
          },
          "metadata": {},
          "execution_count": 24
        },
        {
          "output_type": "stream",
          "name": "stdout",
          "text": [
            "              precision    recall  f1-score   support\n",
            "\n",
            "           1       1.00      0.93      0.96        29\n",
            "           2       0.86      1.00      0.92        12\n",
            "           3       1.00      1.00      1.00        17\n",
            "           4       0.33      0.36      0.34        14\n",
            "           5       0.56      0.36      0.43        14\n",
            "           6       0.39      0.50      0.44        14\n",
            "\n",
            "    accuracy                           0.73       100\n",
            "   macro avg       0.69      0.69      0.68       100\n",
            "weighted avg       0.74      0.73      0.73       100\n",
            "\n"
          ]
        }
      ],
      "source": [
        "# 8.0\n",
        "classifier_selected = DecisionTreeClassifier()\n",
        "classifier_selected.fit(X_train_filtered, y_train)\n",
        "print(classification_report(y_test, classifier_selected.predict(X_test_filtered)))"
      ]
    },
    {
      "cell_type": "markdown",
      "metadata": {
        "id": "VRa4zyO13UtL"
      },
      "source": [
        "It worked! The precision improved by removing irrelevant features."
      ]
    },
    {
      "source": [
        "## Improved Multiclass feature selection\n",
        "We can instead specify the number of classes for which a feature should be a relevant predictor in order to pass through the filtering process. This is as simple as setting the `multiclass` parameter to `True` and setting `n_significant` to the required number of classes. We will try with a requirement of being relevant for 5 classes."
      ],
      "cell_type": "markdown",
      "metadata": {
        "id": "aYl_SORR3UtL"
      }
    },
    {
      "cell_type": "code",
      "execution_count": null,
      "metadata": {
        "colab": {
          "base_uri": "https://localhost:8080/"
        },
        "id": "iKt7rVCE3UtM",
        "outputId": "b41c690e-39d3-46fe-9385-1f7852e4b5e2"
      },
      "outputs": [
        {
          "output_type": "execute_result",
          "data": {
            "text/plain": [
              "(400, 192)"
            ]
          },
          "metadata": {},
          "execution_count": 25
        }
      ],
      "source": [
        "# 9.0\n",
        "X_train_filtered_multi = select_features(X_train, y_train,\n",
        "                                         multiclass=True,\n",
        "                                         n_significant=5\n",
        "                                         )\n",
        "X_train_filtered_multi.shape"
      ]
    },
    {
      "source": [
        "We can see that the number of relevant features is lower than the previous implementation."
      ],
      "cell_type": "markdown",
      "metadata": {
        "id": "-lCMNt3w3UtM"
      }
    },
    {
      "cell_type": "code",
      "execution_count": null,
      "metadata": {
        "tags": [],
        "id": "XqxPVJos3UtN"
      },
      "outputs": [],
      "source": [
        "# 9.1\n",
        "classifier_selected_multi = DecisionTreeClassifier()"
      ]
    },
    {
      "cell_type": "code",
      "source": [
        "# 9.2\n",
        "classifier_selected_multi.fit(X_train_filtered_multi, y_train)"
      ],
      "metadata": {
        "colab": {
          "base_uri": "https://localhost:8080/"
        },
        "id": "97cFC_kH6tgj",
        "outputId": "06a54197-34bb-43d4-9c4c-a0db96c7286b"
      },
      "execution_count": null,
      "outputs": [
        {
          "output_type": "execute_result",
          "data": {
            "text/plain": [
              "DecisionTreeClassifier()"
            ]
          },
          "metadata": {},
          "execution_count": 27
        }
      ]
    },
    {
      "cell_type": "code",
      "source": [
        "# 9.3\n",
        "X_test_filtered_multi = X_test[X_train_filtered_multi.columns]"
      ],
      "metadata": {
        "id": "ppFmRepp6vtz"
      },
      "execution_count": null,
      "outputs": []
    },
    {
      "source": [
        "We now get slightly better classification performance, especially for classes where the previous classifier performed poorly. The parameter `n_significant` can be tuned for best results."
      ],
      "cell_type": "markdown",
      "metadata": {
        "id": "2QSusH6C3UtO"
      }
    },
    {
      "cell_type": "code",
      "source": [
        "# 9.4\n",
        "print(classification_report(y_test, classifier_selected_multi.predict(X_test_filtered_multi)))"
      ],
      "metadata": {
        "colab": {
          "base_uri": "https://localhost:8080/"
        },
        "id": "KpBD4_KZ6yic",
        "outputId": "76e8d81a-66be-4fad-a34c-fb97d7307b1e"
      },
      "execution_count": null,
      "outputs": [
        {
          "output_type": "stream",
          "name": "stdout",
          "text": [
            "              precision    recall  f1-score   support\n",
            "\n",
            "           1       1.00      0.97      0.98        29\n",
            "           2       0.86      1.00      0.92        12\n",
            "           3       0.94      1.00      0.97        17\n",
            "           4       0.55      0.43      0.48        14\n",
            "           5       0.58      0.50      0.54        14\n",
            "           6       0.47      0.57      0.52        14\n",
            "\n",
            "    accuracy                           0.78       100\n",
            "   macro avg       0.73      0.74      0.74       100\n",
            "weighted avg       0.78      0.78      0.78       100\n",
            "\n"
          ]
        }
      ]
    },
    {
      "cell_type": "code",
      "source": [
        "########### I am done ################"
      ],
      "metadata": {
        "id": "QxyBlnLJX2tg"
      },
      "execution_count": null,
      "outputs": []
    }
  ],
  "metadata": {
    "kernelspec": {
      "display_name": "Python 3.8.5 64-bit ('tsfresh_env': conda)",
      "language": "python",
      "name": "python_defaultSpec_1601507548243"
    },
    "language_info": {
      "codemirror_mode": {
        "name": "ipython",
        "version": 3
      },
      "file_extension": ".py",
      "mimetype": "text/x-python",
      "name": "python",
      "nbconvert_exporter": "python",
      "pygments_lexer": "ipython3",
      "version": "3.8.5-final"
    },
    "colab": {
      "provenance": [],
      "include_colab_link": true
    }
  },
  "nbformat": 4,
  "nbformat_minor": 0
}