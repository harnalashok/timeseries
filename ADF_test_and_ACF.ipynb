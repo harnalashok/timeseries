{
  "cells": [
    {
      "cell_type": "markdown",
      "metadata": {
        "id": "view-in-github",
        "colab_type": "text"
      },
      "source": [
        "<a href=\"https://colab.research.google.com/github/harnalashok/timeseries/blob/main/ADF_test_and_ACF.ipynb\" target=\"_parent\"><img src=\"https://colab.research.google.com/assets/colab-badge.svg\" alt=\"Open In Colab\"/></a>"
      ]
    },
    {
      "cell_type": "code",
      "source": [
        "# Last amended: 27th Feb, 2023\n",
        "# Ref: https://github.com/marcopeix/TimeSeriesForecastingInPython/blob/master/CH04/CH04.ipynb\n",
        "#      https://github.com/marcopeix/TimeSeriesForecastingInPython/blob/master/CH03/CH03.ipynb\n",
        "#      https://koalatea.io/python-stationary-check/\n",
        "\n",
        "# Other references:\n",
        "#  https://analyticsindiamag.com/general-overview-of-time-series-data-analysis/\n",
        "#  https://analyticsindiamag.com/a-guide-to-varma-with-auto-arima-in-time-series-modelling/\n",
        "#  https://analyticsindiamag.com/complete-guide-to-sarimax-in-python-for-time-series-modeling/"
      ],
      "metadata": {
        "id": "qrLAcy9Xl8_Z"
      },
      "id": "qrLAcy9Xl8_Z",
      "execution_count": null,
      "outputs": []
    },
    {
      "cell_type": "code",
      "source": [
        "# Objective(s)\n",
        "#             To test is a timeseries (or residuals)\n",
        "#             are stationary through two tests:\n",
        "#             adfuller and acorr_ljungbox"
      ],
      "metadata": {
        "id": "vl3K1uCg7m2d"
      },
      "id": "vl3K1uCg7m2d",
      "execution_count": null,
      "outputs": []
    },
    {
      "cell_type": "markdown",
      "source": [
        "## About statsmodel\n",
        "Complete strature of statsmodel.tsa is given at [this link](https://www.statsmodels.org/dev/tsa.html). You can have a look at the graphics module [here](https://www.statsmodels.org/dev/graphics.html)"
      ],
      "metadata": {
        "id": "aTTOhrF_lzh1"
      },
      "id": "aTTOhrF_lzh1"
    },
    {
      "cell_type": "markdown",
      "source": [
        "`statsmodels.tsa.seasonal.STL` is commonly used to remove seasonal components from a time series. The deseasonalized time series can then be modeled using a any non-seasonal model, and forecasts are constructed by adding the forecast from the non-seasonal model to the estimates of the seasonal component from the final full-cycle which are forecast using a random-walk model. <br> `stattools` module contains tests, acf, pacf, granger-causality, adf unit root test, kpss test, bds test, ljung-box test and others."
      ],
      "metadata": {
        "id": "rQlaQYqVCjtD"
      },
      "id": "rQlaQYqVCjtD"
    },
    {
      "cell_type": "code",
      "source": [
        "from statsmodels.tsa.seasonal import seasonal_decompose, STL\n",
        "from statsmodels.tsa.stattools import adfuller\n",
        "from statsmodels.stats.diagnostic import acorr_ljungbox"
      ],
      "metadata": {
        "id": "Y6VCJNx9AtwB"
      },
      "id": "Y6VCJNx9AtwB",
      "execution_count": 4,
      "outputs": []
    },
    {
      "cell_type": "code",
      "source": [
        "import matplotlib.pyplot as plt\n",
        "from statsmodels.graphics.tsaplots import plot_acf"
      ],
      "metadata": {
        "id": "QGPvnjHsEJ8J"
      },
      "id": "QGPvnjHsEJ8J",
      "execution_count": 2,
      "outputs": []
    },
    {
      "cell_type": "code",
      "execution_count": 3,
      "id": "environmental-wrapping",
      "metadata": {
        "id": "environmental-wrapping"
      },
      "outputs": [],
      "source": [
        "import numpy as np\n",
        "import pandas as pd\n",
        "import pathlib\n",
        "import warnings\n",
        "warnings.filterwarnings('ignore')\n",
        "\n",
        "%matplotlib inline"
      ]
    },
    {
      "cell_type": "code",
      "source": [
        "from IPython.core.interactiveshell import InteractiveShell\n",
        "InteractiveShell.ast_node_interactivity = \"all\""
      ],
      "metadata": {
        "id": "8usAgkf6T8-x"
      },
      "id": "8usAgkf6T8-x",
      "execution_count": 11,
      "outputs": []
    },
    {
      "cell_type": "code",
      "source": [
        "from google.colab import drive\n",
        "drive.mount('/gdrive')"
      ],
      "metadata": {
        "colab": {
          "base_uri": "https://localhost:8080/"
        },
        "id": "824Ji25rTH_T",
        "outputId": "89cd36b6-59f7-43f7-aed3-bff8bce2e579"
      },
      "id": "824Ji25rTH_T",
      "execution_count": null,
      "outputs": [
        {
          "output_type": "stream",
          "name": "stdout",
          "text": [
            "Drive already mounted at /gdrive; to attempt to forcibly remount, call drive.mount(\"/gdrive\", force_remount=True).\n"
          ]
        }
      ]
    },
    {
      "cell_type": "code",
      "source": [
        "path = \"/gdrive/MyDrive/Colab_data_files/time_series\"\n",
        "path = pathlib.Path(path)"
      ],
      "metadata": {
        "id": "SclUSuxFTDmW"
      },
      "id": "SclUSuxFTDmW",
      "execution_count": null,
      "outputs": []
    },
    {
      "cell_type": "markdown",
      "source": [
        "## Random walk"
      ],
      "metadata": {
        "id": "2YKyfTfHy9k-"
      },
      "id": "2YKyfTfHy9k-"
    },
    {
      "cell_type": "markdown",
      "source": [
        "A [random walk](https://en.wikipedia.org/wiki/Random_walk) is a random process that describes a path that consists of a succession of random steps on some mathematical space. <br>\n",
        "An elementary example of a random walk is the random walk on the integer number line Z, which starts at 0, and at each step moves +1 or −1 with equal probability.<br>\n",
        "A random walk is a time series."
      ],
      "metadata": {
        "id": "g33z7k7KQaUg"
      },
      "id": "g33z7k7KQaUg"
    },
    {
      "cell_type": "code",
      "source": [
        "# We will walk as per values of a std normal\n",
        "#  distribution:. \n",
        "steps = np.random.standard_normal(1000)\n",
        "steps[:5]"
      ],
      "metadata": {
        "colab": {
          "base_uri": "https://localhost:8080/"
        },
        "id": "zA2VCmtSPDrA",
        "outputId": "88d284bd-743b-4ad8-a96e-659ef01cf4ae"
      },
      "id": "zA2VCmtSPDrA",
      "execution_count": null,
      "outputs": [
        {
          "output_type": "execute_result",
          "data": {
            "text/plain": [
              "array([ 0.2726326 ,  0.49916825, -0.05738165, -1.18750399,  0.5053882 ])"
            ]
          },
          "metadata": {},
          "execution_count": 20
        }
      ]
    },
    {
      "cell_type": "code",
      "source": [
        "# We begin our journey from pt 0\n",
        "steps[0]=0"
      ],
      "metadata": {
        "id": "0TX0ptw5P094"
      },
      "id": "0TX0ptw5P094",
      "execution_count": null,
      "outputs": []
    },
    {
      "cell_type": "code",
      "source": [
        "# Begin walking now:\n",
        "random_walk = np.cumsum(steps)\n",
        "random_walk[:5]"
      ],
      "metadata": {
        "id": "OwOf9UYZy8Uf",
        "colab": {
          "base_uri": "https://localhost:8080/"
        },
        "outputId": "6840fed4-fd53-4ecf-cbc6-adb9b2c02bce"
      },
      "id": "OwOf9UYZy8Uf",
      "execution_count": null,
      "outputs": [
        {
          "output_type": "execute_result",
          "data": {
            "text/plain": [
              "array([ 0.        ,  0.49916825,  0.4417866 , -0.74571739, -0.24032919])"
            ]
          },
          "metadata": {},
          "execution_count": 23
        }
      ]
    },
    {
      "cell_type": "code",
      "source": [
        "# Plot your path:\n",
        "\n",
        "fig, ax = plt.subplots()\n",
        "ax.plot(random_walk) ;\n",
        "ax.set_xlabel('Timesteps') ;\n",
        "ax.set_ylabel('Value') ;\n",
        "plt.tight_layout() ;"
      ],
      "metadata": {
        "colab": {
          "base_uri": "https://localhost:8080/",
          "height": 297
        },
        "id": "NziZBKYozJLX",
        "outputId": "f4285c84-0b78-47df-fbbb-faf26626f641"
      },
      "id": "NziZBKYozJLX",
      "execution_count": null,
      "outputs": [
        {
          "output_type": "display_data",
          "data": {
            "text/plain": [
              "<Figure size 432x288 with 1 Axes>"
            ],
            "image/png": "[encoded data removed]"
          },
          "metadata": {
            "needs_background": "light"
          }
        }
      ]
    },
    {
      "cell_type": "markdown",
      "source": [
        "<i>Augmented Dickey Fuller test (ADF Test)</i> is a common statistical test used to test whether a given Time series is stationary or not. It is one of the most commonly used statistical test when it comes to analyzing the stationary of a series. In ARIMA time series forecasting, the first step is to determine the number of differencing required to make the series stationary. ADF test is fundamentally a statistical significance test. A Dickey-Fuller test is a unit root test that tests the null hypothesis that α = 1. Thisimplies that time series is non-stationary. Null Hypothesis (Ho): α (alpha) =1.<br>\n",
        "For syntax of `adfuller`, refer [here](https://www.statsmodels.org/dev/generated/statsmodels.tsa.stattools.adfuller.html)\n"
      ],
      "metadata": {
        "id": "B96efX5JRe5g"
      },
      "id": "B96efX5JRe5g"
    },
    {
      "cell_type": "code",
      "source": [
        "# Test if random walk is stationary or not\n",
        "ADF_result = adfuller(random_walk)\n",
        "print(f'ADF Statistic: {ADF_result[0]}')\n",
        "print(f'p-value: {ADF_result[1]}')"
      ],
      "metadata": {
        "colab": {
          "base_uri": "https://localhost:8080/"
        },
        "id": "DN8MlugozY2O",
        "outputId": "4edb9473-dbdf-492e-d05f-785436f9d6a4"
      },
      "id": "DN8MlugozY2O",
      "execution_count": null,
      "outputs": [
        {
          "output_type": "stream",
          "name": "stdout",
          "text": [
            "ADF Statistic: -1.1257170309578675\n",
            "p-value: 0.7047080645542082\n"
          ]
        }
      ]
    },
    {
      "cell_type": "markdown",
      "source": [
        "p-value > 0.05 indicates that test is not significant. Null hypothesis stands and the series is non-stationary."
      ],
      "metadata": {
        "id": "eDj_uq9eWiU8"
      },
      "id": "eDj_uq9eWiU8"
    },
    {
      "cell_type": "markdown",
      "source": [
        "Auto correlation function or acf is Correlation between time series with a lagged version of itself. The correlation between the observation at the current time spot and the observations at previous time spots.The autocorrelation function starts a lag 0, which is the correlation of the time series with itself and therefore results in a correlation of 1. The ACF plot can provide answers to the following questions:\n",
        "> Is the observed time series white noise / random?<br>\n",
        "> Is an observation related to an adjacent observation, an observation twice-removed, and so on?"
      ],
      "metadata": {
        "id": "npM-POfNaVT9"
      },
      "id": "npM-POfNaVT9"
    },
    {
      "cell_type": "code",
      "source": [
        "# ACF of random walk upto 20 lags:\n",
        "plot_acf(random_walk, lags=20);"
      ],
      "metadata": {
        "colab": {
          "base_uri": "https://localhost:8080/",
          "height": 281
        },
        "id": "tPHCBbv_zn9F",
        "outputId": "c374546f-74de-4e9f-c242-aae0c6396ce1"
      },
      "id": "tPHCBbv_zn9F",
      "execution_count": null,
      "outputs": [
        {
          "output_type": "display_data",
          "data": {
            "text/plain": [
              "<Figure size 432x288 with 1 Axes>"
            ],
            "image/png": "[encoded data removed]"
          },
          "metadata": {
            "needs_background": "light"
          }
        }
      ]
    },
    {
      "cell_type": "code",
      "source": [
        "# Let us take first difference and then look at the \n",
        "#  differenced series:\n",
        "diff_random_walk = np.diff(random_walk, n=1)"
      ],
      "metadata": {
        "id": "2Qk0g9omzwOf"
      },
      "id": "2Qk0g9omzwOf",
      "execution_count": null,
      "outputs": []
    },
    {
      "cell_type": "code",
      "source": [
        "# Plot of diffrenced series:\n",
        "plt.plot(diff_random_walk)\n",
        "plt.title('Differenced Random Walk')\n",
        "plt.xlabel('Timesteps')\n",
        "plt.ylabel('Value')\n",
        "plt.tight_layout()"
      ],
      "metadata": {
        "colab": {
          "base_uri": "https://localhost:8080/",
          "height": 314
        },
        "id": "6aTcvXswzy8l",
        "outputId": "ec01c157-5efe-4864-9c4f-5f407141ce04"
      },
      "id": "6aTcvXswzy8l",
      "execution_count": null,
      "outputs": [
        {
          "output_type": "execute_result",
          "data": {
            "text/plain": [
              "[<matplotlib.lines.Line2D at 0x7efcbad96970>]"
            ]
          },
          "metadata": {},
          "execution_count": 29
        },
        {
          "output_type": "execute_result",
          "data": {
            "text/plain": [
              "Text(0.5, 1.0, 'Differenced Random Walk')"
            ]
          },
          "metadata": {},
          "execution_count": 29
        },
        {
          "output_type": "execute_result",
          "data": {
            "text/plain": [
              "Text(0.5, 0, 'Timesteps')"
            ]
          },
          "metadata": {},
          "execution_count": 29
        },
        {
          "output_type": "execute_result",
          "data": {
            "text/plain": [
              "Text(0, 0.5, 'Value')"
            ]
          },
          "metadata": {},
          "execution_count": 29
        },
        {
          "output_type": "display_data",
          "data": {
            "text/plain": [
              "<Figure size 432x288 with 1 Axes>"
            ],
            "image/png": "[encoded data removed]"
          },
          "metadata": {
            "needs_background": "light"
          }
        }
      ]
    },
    {
      "cell_type": "code",
      "source": [
        "# ADF test for diffrenced series:\n",
        "\n",
        "ADF_result = adfuller(diff_random_walk)\n",
        "\n",
        "print(f'ADF Statistic: {ADF_result[0]}')\n",
        "print(f'p-value: {ADF_result[1]}')"
      ],
      "metadata": {
        "colab": {
          "base_uri": "https://localhost:8080/"
        },
        "id": "0EusVRIMz4SO",
        "outputId": "a98f9f44-1ba7-4412-b625-58bb4538e22e"
      },
      "id": "0EusVRIMz4SO",
      "execution_count": null,
      "outputs": [
        {
          "output_type": "stream",
          "name": "stdout",
          "text": [
            "ADF Statistic: -21.647054710293684\n",
            "p-value: 0.0\n"
          ]
        }
      ]
    },
    {
      "cell_type": "code",
      "source": [
        "# ACF plot for differenced series:\n",
        "plot_acf(diff_random_walk, lags=20);\n"
      ],
      "metadata": {
        "colab": {
          "base_uri": "https://localhost:8080/",
          "height": 281
        },
        "id": "A2wLP7jmz_0-",
        "outputId": "3e98aed3-2414-457e-8b93-571f43c1143a"
      },
      "id": "A2wLP7jmz_0-",
      "execution_count": null,
      "outputs": [
        {
          "output_type": "display_data",
          "data": {
            "text/plain": [
              "<Figure size 432x288 with 1 Axes>"
            ],
            "image/png": "[encoded data removed]"
          },
          "metadata": {
            "needs_background": "light"
          }
        }
      ]
    },
    {
      "cell_type": "markdown",
      "source": [
        "##  Is GOOGL a random walk?\n",
        "Are google share prices, a random walk?"
      ],
      "metadata": {
        "id": "me1WV7ed0D2M"
      },
      "id": "me1WV7ed0D2M"
    },
    {
      "cell_type": "code",
      "source": [
        "# Read stock prices:\n",
        "df_g = pd.read_csv( path / \"google.csv\")"
      ],
      "metadata": {
        "id": "CeLa7S680KY9"
      },
      "id": "CeLa7S680KY9",
      "execution_count": null,
      "outputs": []
    },
    {
      "cell_type": "code",
      "source": [
        "df_g.shape\n",
        "df_g.head()"
      ],
      "metadata": {
        "id": "h_0aHGTscDDt",
        "outputId": "025c4948-82ee-46c7-ab2c-ed93651e261b",
        "colab": {
          "base_uri": "https://localhost:8080/",
          "height": 224
        }
      },
      "id": "h_0aHGTscDDt",
      "execution_count": null,
      "outputs": [
        {
          "output_type": "execute_result",
          "data": {
            "text/plain": [
              "(253, 7)"
            ]
          },
          "metadata": {},
          "execution_count": 33
        },
        {
          "output_type": "execute_result",
          "data": {
            "text/plain": [
              "         Date         Open         High          Low        Close  \\\n",
              "0  2020-04-27  1292.000000  1294.099976  1265.060059  1270.859985   \n",
              "1  2020-04-28  1283.199951  1284.760010  1230.380005  1232.589966   \n",
              "2  2020-04-29  1345.000000  1360.150024  1326.729980  1342.180054   \n",
              "3  2020-04-30  1331.359985  1350.000000  1321.500000  1346.699951   \n",
              "4  2020-05-01  1324.089966  1351.430054  1309.660034  1317.319946   \n",
              "\n",
              "     Adj Close   Volume  \n",
              "0  1270.859985  2209300  \n",
              "1  1232.589966  4035000  \n",
              "2  1342.180054  5417900  \n",
              "3  1346.699951  2792100  \n",
              "4  1317.319946  2443600  "
            ],
            "text/html": [
              "\n",
              "  <div id=\"df-ef41c5a1-69df-43af-a429-5c185b4910bc\">\n",
              "    <div class=\"colab-df-container\">\n",
              "      <div>\n",
              "<style scoped>\n",
              "    .dataframe tbody tr th:only-of-type {\n",
              "        vertical-align: middle;\n",
              "    }\n",
              "\n",
              "    .dataframe tbody tr th {\n",
              "        vertical-align: top;\n",
              "    }\n",
              "\n",
              "    .dataframe thead th {\n",
              "        text-align: right;\n",
              "    }\n",
              "</style>\n",
              "<table border=\"1\" class=\"dataframe\">\n",
              "  <thead>\n",
              "    <tr style=\"text-align: right;\">\n",
              "      <th></th>\n",
              "      <th>Date</th>\n",
              "      <th>Open</th>\n",
              "      <th>High</th>\n",
              "      <th>Low</th>\n",
              "      <th>Close</th>\n",
              "      <th>Adj Close</th>\n",
              "      <th>Volume</th>\n",
              "    </tr>\n",
              "  </thead>\n",
              "  <tbody>\n",
              "    <tr>\n",
              "      <th>0</th>\n",
              "      <td>2020-04-27</td>\n",
              "      <td>1292.000000</td>\n",
              "      <td>1294.099976</td>\n",
              "      <td>1265.060059</td>\n",
              "      <td>1270.859985</td>\n",
              "      <td>1270.859985</td>\n",
              "      <td>2209300</td>\n",
              "    </tr>\n",
              "    <tr>\n",
              "      <th>1</th>\n",
              "      <td>2020-04-28</td>\n",
              "      <td>1283.199951</td>\n",
              "      <td>1284.760010</td>\n",
              "      <td>1230.380005</td>\n",
              "      <td>1232.589966</td>\n",
              "      <td>1232.589966</td>\n",
              "      <td>4035000</td>\n",
              "    </tr>\n",
              "    <tr>\n",
              "      <th>2</th>\n",
              "      <td>2020-04-29</td>\n",
              "      <td>1345.000000</td>\n",
              "      <td>1360.150024</td>\n",
              "      <td>1326.729980</td>\n",
              "      <td>1342.180054</td>\n",
              "      <td>1342.180054</td>\n",
              "      <td>5417900</td>\n",
              "    </tr>\n",
              "    <tr>\n",
              "      <th>3</th>\n",
              "      <td>2020-04-30</td>\n",
              "      <td>1331.359985</td>\n",
              "      <td>1350.000000</td>\n",
              "      <td>1321.500000</td>\n",
              "      <td>1346.699951</td>\n",
              "      <td>1346.699951</td>\n",
              "      <td>2792100</td>\n",
              "    </tr>\n",
              "    <tr>\n",
              "      <th>4</th>\n",
              "      <td>2020-05-01</td>\n",
              "      <td>1324.089966</td>\n",
              "      <td>1351.430054</td>\n",
              "      <td>1309.660034</td>\n",
              "      <td>1317.319946</td>\n",
              "      <td>1317.319946</td>\n",
              "      <td>2443600</td>\n",
              "    </tr>\n",
              "  </tbody>\n",
              "</table>\n",
              "</div>\n",
              "      <button class=\"colab-df-convert\" onclick=\"convertToInteractive('df-ef41c5a1-69df-43af-a429-5c185b4910bc')\"\n",
              "              title=\"Convert this dataframe to an interactive table.\"\n",
              "              style=\"display:none;\">\n",
              "        \n",
              "  <svg xmlns=\"http://www.w3.org/2000/svg\" height=\"24px\"viewBox=\"0 0 24 24\"\n",
              "       width=\"24px\">\n",
              "    <path d=\"M0 0h24v24H0V0z\" fill=\"none\"/>\n",
              "    <path d=\"M18.56 5.44l.94 2.06.94-2.06 2.06-.94-2.06-.94-.94-2.06-.94 2.06-2.06.94zm-11 1L8.5 8.5l.94-2.06 2.06-.94-2.06-.94L8.5 2.5l-.94 2.06-2.06.94zm10 10l.94 2.06.94-2.06 2.06-.94-2.06-.94-.94-2.06-.94 2.06-2.06.94z\"/><path d=\"M17.41 7.96l-1.37-1.37c-.4-.4-.92-.59-1.43-.59-.52 0-1.04.2-1.43.59L10.3 9.45l-7.72 7.72c-.78.78-.78 2.05 0 2.83L4 21.41c.39.39.9.59 1.41.59.51 0 1.02-.2 1.41-.59l7.78-7.78 2.81-2.81c.8-.78.8-2.07 0-2.86zM5.41 20L4 18.59l7.72-7.72 1.47 1.35L5.41 20z\"/>\n",
              "  </svg>\n",
              "      </button>\n",
              "      \n",
              "  <style>\n",
              "    .colab-df-container {\n",
              "      display:flex;\n",
              "      flex-wrap:wrap;\n",
              "      gap: 12px;\n",
              "    }\n",
              "\n",
              "    .colab-df-convert {\n",
              "      background-color: #E8F0FE;\n",
              "      border: none;\n",
              "      border-radius: 50%;\n",
              "      cursor: pointer;\n",
              "      display: none;\n",
              "      fill: #1967D2;\n",
              "      height: 32px;\n",
              "      padding: 0 0 0 0;\n",
              "      width: 32px;\n",
              "    }\n",
              "\n",
              "    .colab-df-convert:hover {\n",
              "      background-color: #E2EBFA;\n",
              "      box-shadow: 0px 1px 2px rgba(60, 64, 67, 0.3), 0px 1px 3px 1px rgba(60, 64, 67, 0.15);\n",
              "      fill: #174EA6;\n",
              "    }\n",
              "\n",
              "    [theme=dark] .colab-df-convert {\n",
              "      background-color: #3B4455;\n",
              "      fill: #D2E3FC;\n",
              "    }\n",
              "\n",
              "    [theme=dark] .colab-df-convert:hover {\n",
              "      background-color: #434B5C;\n",
              "      box-shadow: 0px 1px 3px 1px rgba(0, 0, 0, 0.15);\n",
              "      filter: drop-shadow(0px 1px 2px rgba(0, 0, 0, 0.3));\n",
              "      fill: #FFFFFF;\n",
              "    }\n",
              "  </style>\n",
              "\n",
              "      <script>\n",
              "        const buttonEl =\n",
              "          document.querySelector('#df-ef41c5a1-69df-43af-a429-5c185b4910bc button.colab-df-convert');\n",
              "        buttonEl.style.display =\n",
              "          google.colab.kernel.accessAllowed ? 'block' : 'none';\n",
              "\n",
              "        async function convertToInteractive(key) {\n",
              "          const element = document.querySelector('#df-ef41c5a1-69df-43af-a429-5c185b4910bc');\n",
              "          const dataTable =\n",
              "            await google.colab.kernel.invokeFunction('convertToInteractive',\n",
              "                                                     [key], {});\n",
              "          if (!dataTable) return;\n",
              "\n",
              "          const docLinkHtml = 'Like what you see? Visit the ' +\n",
              "            '<a target=\"_blank\" href=https://colab.research.google.com/notebooks/data_table.ipynb>data table notebook</a>'\n",
              "            + ' to learn more about interactive tables.';\n",
              "          element.innerHTML = '';\n",
              "          dataTable['output_type'] = 'display_data';\n",
              "          await google.colab.output.renderOutput(dataTable, element);\n",
              "          const docLink = document.createElement('div');\n",
              "          docLink.innerHTML = docLinkHtml;\n",
              "          element.appendChild(docLink);\n",
              "        }\n",
              "      </script>\n",
              "    </div>\n",
              "  </div>\n",
              "  "
            ]
          },
          "metadata": {},
          "execution_count": 33
        }
      ]
    },
    {
      "cell_type": "code",
      "source": [
        "# Plot the close prices\n",
        "fig, ax = plt.subplots();\n",
        "ax.plot(df_g['Date'], df_g['Close']);\n",
        "ax.set_xlabel('Date');\n",
        "ax.set_ylabel('Closing price (USD)');\n",
        "\n",
        "plt.xticks(\n",
        "    [4, 24, 46, 68, 89, 110, 132, 152, 174, 193, 212, 235], \n",
        "    ['May', 'June', 'July', 'Aug', 'Sep', 'Oct', 'Nov', 'Dec', 'Jan 2021', 'Feb', 'Mar', 'April']);\n",
        "\n",
        "fig.autofmt_xdate();\n",
        "plt.tight_layout();"
      ],
      "metadata": {
        "colab": {
          "base_uri": "https://localhost:8080/",
          "height": 297
        },
        "id": "Fq2Vim2V1h4F",
        "outputId": "f32a1f24-5412-4168-eb75-933f0d92c941"
      },
      "id": "Fq2Vim2V1h4F",
      "execution_count": null,
      "outputs": [
        {
          "output_type": "display_data",
          "data": {
            "text/plain": [
              "<Figure size 432x288 with 1 Axes>"
            ],
            "image/png": "[encoded data removed]"
          },
          "metadata": {
            "needs_background": "light"
          }
        }
      ]
    },
    {
      "cell_type": "code",
      "source": [
        "GOOGL_ADF_result = adfuller(df_g['Close'])\n",
        "\n",
        "print(f'ADF Statistic: {GOOGL_ADF_result[0]}')\n",
        "print(f'p-value: {GOOGL_ADF_result[1]}')"
      ],
      "metadata": {
        "colab": {
          "base_uri": "https://localhost:8080/"
        },
        "id": "wkLMZ34d1viX",
        "outputId": "ae691795-da72-42f9-a97b-82bcbfb4ff64"
      },
      "id": "wkLMZ34d1viX",
      "execution_count": null,
      "outputs": [
        {
          "output_type": "stream",
          "name": "stdout",
          "text": [
            "ADF Statistic: 0.16025048664771302\n",
            "p-value: 0.9699419435913057\n"
          ]
        }
      ]
    },
    {
      "cell_type": "code",
      "source": [
        "# Let us take first difference and then look at the \n",
        "#  differenced series:\n",
        "diff_close = np.diff(df_g['Close'].values, n=1)"
      ],
      "metadata": {
        "id": "GB0pTybscm79"
      },
      "id": "GB0pTybscm79",
      "execution_count": null,
      "outputs": []
    },
    {
      "cell_type": "code",
      "source": [
        "plot_acf(diff_close, lags=20);\n"
      ],
      "metadata": {
        "colab": {
          "base_uri": "https://localhost:8080/",
          "height": 281
        },
        "id": "TsD2XFoA1-LO",
        "outputId": "58de706b-853e-47a5-991c-af6897729116"
      },
      "id": "TsD2XFoA1-LO",
      "execution_count": null,
      "outputs": [
        {
          "output_type": "display_data",
          "data": {
            "text/plain": [
              "<Figure size 432x288 with 1 Axes>"
            ],
            "image/png": "[encoded data removed]"
          },
          "metadata": {
            "needs_background": "light"
          }
        }
      ]
    },
    {
      "cell_type": "code",
      "source": [
        "GOOGL_diff_ADF_result = adfuller(diff_close)\n",
        "\n",
        "print(f'ADF Statistic: {GOOGL_diff_ADF_result[0]}')\n",
        "print(f'p-value: {GOOGL_diff_ADF_result[1]}')"
      ],
      "metadata": {
        "colab": {
          "base_uri": "https://localhost:8080/"
        },
        "id": "YJ03DQHA16j2",
        "outputId": "2608d76d-653b-4571-a7d4-afb63ebc2b0a"
      },
      "id": "YJ03DQHA16j2",
      "execution_count": null,
      "outputs": [
        {
          "output_type": "stream",
          "name": "stdout",
          "text": [
            "ADF Statistic: -5.303439704295234\n",
            "p-value: 5.3865309614545585e-06\n"
          ]
        }
      ]
    },
    {
      "cell_type": "markdown",
      "source": [
        "## Using the Ljung-Box test"
      ],
      "metadata": {
        "id": "NtzfWTGA45FN"
      },
      "id": "NtzfWTGA45FN"
    },
    {
      "cell_type": "markdown",
      "source": [
        "Another test we can use is the Ljung-Box test. This test will check our data for independence. The Ljung-Box test is a statistical test that checks if autocorrelation exists in a time series. This is another hypothesis test with the assumption being that the data is independent, thus stationary. Alternatively, if we get a low p-value, we can reject the null hypothesis and assume the data is non-stationary. Null hypothesis is that data is stationary."
      ],
      "metadata": {
        "id": "aFDaZV8y4TDd"
      },
      "id": "aFDaZV8y4TDd"
    },
    {
      "cell_type": "code",
      "source": [
        "# Read the data:\n",
        "df = pd.read_csv('https://raw.githubusercontent.com/ourcodingclub/CC-time-series/master/monthly_milk.csv')"
      ],
      "metadata": {
        "id": "Ak3GzMiN4Slv",
        "outputId": "b25e8049-17cc-4307-bd13-77bb118096ba",
        "colab": {
          "base_uri": "https://localhost:8080/",
          "height": 259
        }
      },
      "id": "Ak3GzMiN4Slv",
      "execution_count": 12,
      "outputs": [
        {
          "output_type": "execute_result",
          "data": {
            "text/plain": [
              "        month  milk_prod_per_cow_kg\n",
              "0  1962-01-01                265.05\n",
              "1  1962-02-01                252.45\n",
              "2  1962-03-01                288.00\n",
              "3  1962-04-01                295.20\n",
              "4  1962-05-01                327.15"
            ],
            "text/html": [
              "\n",
              "  <div id=\"df-eb955f64-94a4-4bc1-81be-e70b969fac2c\">\n",
              "    <div class=\"colab-df-container\">\n",
              "      <div>\n",
              "<style scoped>\n",
              "    .dataframe tbody tr th:only-of-type {\n",
              "        vertical-align: middle;\n",
              "    }\n",
              "\n",
              "    .dataframe tbody tr th {\n",
              "        vertical-align: top;\n",
              "    }\n",
              "\n",
              "    .dataframe thead th {\n",
              "        text-align: right;\n",
              "    }\n",
              "</style>\n",
              "<table border=\"1\" class=\"dataframe\">\n",
              "  <thead>\n",
              "    <tr style=\"text-align: right;\">\n",
              "      <th></th>\n",
              "      <th>month</th>\n",
              "      <th>milk_prod_per_cow_kg</th>\n",
              "    </tr>\n",
              "  </thead>\n",
              "  <tbody>\n",
              "    <tr>\n",
              "      <th>0</th>\n",
              "      <td>1962-01-01</td>\n",
              "      <td>265.05</td>\n",
              "    </tr>\n",
              "    <tr>\n",
              "      <th>1</th>\n",
              "      <td>1962-02-01</td>\n",
              "      <td>252.45</td>\n",
              "    </tr>\n",
              "    <tr>\n",
              "      <th>2</th>\n",
              "      <td>1962-03-01</td>\n",
              "      <td>288.00</td>\n",
              "    </tr>\n",
              "    <tr>\n",
              "      <th>3</th>\n",
              "      <td>1962-04-01</td>\n",
              "      <td>295.20</td>\n",
              "    </tr>\n",
              "    <tr>\n",
              "      <th>4</th>\n",
              "      <td>1962-05-01</td>\n",
              "      <td>327.15</td>\n",
              "    </tr>\n",
              "  </tbody>\n",
              "</table>\n",
              "</div>\n",
              "      <button class=\"colab-df-convert\" onclick=\"convertToInteractive('df-eb955f64-94a4-4bc1-81be-e70b969fac2c')\"\n",
              "              title=\"Convert this dataframe to an interactive table.\"\n",
              "              style=\"display:none;\">\n",
              "        \n",
              "  <svg xmlns=\"http://www.w3.org/2000/svg\" height=\"24px\"viewBox=\"0 0 24 24\"\n",
              "       width=\"24px\">\n",
              "    <path d=\"M0 0h24v24H0V0z\" fill=\"none\"/>\n",
              "    <path d=\"M18.56 5.44l.94 2.06.94-2.06 2.06-.94-2.06-.94-.94-2.06-.94 2.06-2.06.94zm-11 1L8.5 8.5l.94-2.06 2.06-.94-2.06-.94L8.5 2.5l-.94 2.06-2.06.94zm10 10l.94 2.06.94-2.06 2.06-.94-2.06-.94-.94-2.06-.94 2.06-2.06.94z\"/><path d=\"M17.41 7.96l-1.37-1.37c-.4-.4-.92-.59-1.43-.59-.52 0-1.04.2-1.43.59L10.3 9.45l-7.72 7.72c-.78.78-.78 2.05 0 2.83L4 21.41c.39.39.9.59 1.41.59.51 0 1.02-.2 1.41-.59l7.78-7.78 2.81-2.81c.8-.78.8-2.07 0-2.86zM5.41 20L4 18.59l7.72-7.72 1.47 1.35L5.41 20z\"/>\n",
              "  </svg>\n",
              "      </button>\n",
              "      \n",
              "  <style>\n",
              "    .colab-df-container {\n",
              "      display:flex;\n",
              "      flex-wrap:wrap;\n",
              "      gap: 12px;\n",
              "    }\n",
              "\n",
              "    .colab-df-convert {\n",
              "      background-color: #E8F0FE;\n",
              "      border: none;\n",
              "      border-radius: 50%;\n",
              "      cursor: pointer;\n",
              "      display: none;\n",
              "      fill: #1967D2;\n",
              "      height: 32px;\n",
              "      padding: 0 0 0 0;\n",
              "      width: 32px;\n",
              "    }\n",
              "\n",
              "    .colab-df-convert:hover {\n",
              "      background-color: #E2EBFA;\n",
              "      box-shadow: 0px 1px 2px rgba(60, 64, 67, 0.3), 0px 1px 3px 1px rgba(60, 64, 67, 0.15);\n",
              "      fill: #174EA6;\n",
              "    }\n",
              "\n",
              "    [theme=dark] .colab-df-convert {\n",
              "      background-color: #3B4455;\n",
              "      fill: #D2E3FC;\n",
              "    }\n",
              "\n",
              "    [theme=dark] .colab-df-convert:hover {\n",
              "      background-color: #434B5C;\n",
              "      box-shadow: 0px 1px 3px 1px rgba(0, 0, 0, 0.15);\n",
              "      filter: drop-shadow(0px 1px 2px rgba(0, 0, 0, 0.3));\n",
              "      fill: #FFFFFF;\n",
              "    }\n",
              "  </style>\n",
              "\n",
              "      <script>\n",
              "        const buttonEl =\n",
              "          document.querySelector('#df-eb955f64-94a4-4bc1-81be-e70b969fac2c button.colab-df-convert');\n",
              "        buttonEl.style.display =\n",
              "          google.colab.kernel.accessAllowed ? 'block' : 'none';\n",
              "\n",
              "        async function convertToInteractive(key) {\n",
              "          const element = document.querySelector('#df-eb955f64-94a4-4bc1-81be-e70b969fac2c');\n",
              "          const dataTable =\n",
              "            await google.colab.kernel.invokeFunction('convertToInteractive',\n",
              "                                                     [key], {});\n",
              "          if (!dataTable) return;\n",
              "\n",
              "          const docLinkHtml = 'Like what you see? Visit the ' +\n",
              "            '<a target=\"_blank\" href=https://colab.research.google.com/notebooks/data_table.ipynb>data table notebook</a>'\n",
              "            + ' to learn more about interactive tables.';\n",
              "          element.innerHTML = '';\n",
              "          dataTable['output_type'] = 'display_data';\n",
              "          await google.colab.output.renderOutput(dataTable, element);\n",
              "          const docLink = document.createElement('div');\n",
              "          docLink.innerHTML = docLinkHtml;\n",
              "          element.appendChild(docLink);\n",
              "        }\n",
              "      </script>\n",
              "    </div>\n",
              "  </div>\n",
              "  "
            ]
          },
          "metadata": {},
          "execution_count": 12
        },
        {
          "output_type": "execute_result",
          "data": {
            "text/plain": [
              "month                    object\n",
              "milk_prod_per_cow_kg    float64\n",
              "dtype: object"
            ]
          },
          "metadata": {},
          "execution_count": 12
        }
      ]
    },
    {
      "cell_type": "code",
      "source": [
        "df.head()\n",
        "print(\"\\n=======\\n\")\n",
        "df.dtypes"
      ],
      "metadata": {
        "id": "9VI9TDle57jM",
        "outputId": "4824bb97-9ae0-4be6-e12c-7f8c4f518e53",
        "colab": {
          "base_uri": "https://localhost:8080/",
          "height": 312
        }
      },
      "id": "9VI9TDle57jM",
      "execution_count": 15,
      "outputs": [
        {
          "output_type": "execute_result",
          "data": {
            "text/plain": [
              "        month  milk_prod_per_cow_kg\n",
              "0  1962-01-01                265.05\n",
              "1  1962-02-01                252.45\n",
              "2  1962-03-01                288.00\n",
              "3  1962-04-01                295.20\n",
              "4  1962-05-01                327.15"
            ],
            "text/html": [
              "\n",
              "  <div id=\"df-69b74132-c70e-4b8c-83a8-8f597acfe535\">\n",
              "    <div class=\"colab-df-container\">\n",
              "      <div>\n",
              "<style scoped>\n",
              "    .dataframe tbody tr th:only-of-type {\n",
              "        vertical-align: middle;\n",
              "    }\n",
              "\n",
              "    .dataframe tbody tr th {\n",
              "        vertical-align: top;\n",
              "    }\n",
              "\n",
              "    .dataframe thead th {\n",
              "        text-align: right;\n",
              "    }\n",
              "</style>\n",
              "<table border=\"1\" class=\"dataframe\">\n",
              "  <thead>\n",
              "    <tr style=\"text-align: right;\">\n",
              "      <th></th>\n",
              "      <th>month</th>\n",
              "      <th>milk_prod_per_cow_kg</th>\n",
              "    </tr>\n",
              "  </thead>\n",
              "  <tbody>\n",
              "    <tr>\n",
              "      <th>0</th>\n",
              "      <td>1962-01-01</td>\n",
              "      <td>265.05</td>\n",
              "    </tr>\n",
              "    <tr>\n",
              "      <th>1</th>\n",
              "      <td>1962-02-01</td>\n",
              "      <td>252.45</td>\n",
              "    </tr>\n",
              "    <tr>\n",
              "      <th>2</th>\n",
              "      <td>1962-03-01</td>\n",
              "      <td>288.00</td>\n",
              "    </tr>\n",
              "    <tr>\n",
              "      <th>3</th>\n",
              "      <td>1962-04-01</td>\n",
              "      <td>295.20</td>\n",
              "    </tr>\n",
              "    <tr>\n",
              "      <th>4</th>\n",
              "      <td>1962-05-01</td>\n",
              "      <td>327.15</td>\n",
              "    </tr>\n",
              "  </tbody>\n",
              "</table>\n",
              "</div>\n",
              "      <button class=\"colab-df-convert\" onclick=\"convertToInteractive('df-69b74132-c70e-4b8c-83a8-8f597acfe535')\"\n",
              "              title=\"Convert this dataframe to an interactive table.\"\n",
              "              style=\"display:none;\">\n",
              "        \n",
              "  <svg xmlns=\"http://www.w3.org/2000/svg\" height=\"24px\"viewBox=\"0 0 24 24\"\n",
              "       width=\"24px\">\n",
              "    <path d=\"M0 0h24v24H0V0z\" fill=\"none\"/>\n",
              "    <path d=\"M18.56 5.44l.94 2.06.94-2.06 2.06-.94-2.06-.94-.94-2.06-.94 2.06-2.06.94zm-11 1L8.5 8.5l.94-2.06 2.06-.94-2.06-.94L8.5 2.5l-.94 2.06-2.06.94zm10 10l.94 2.06.94-2.06 2.06-.94-2.06-.94-.94-2.06-.94 2.06-2.06.94z\"/><path d=\"M17.41 7.96l-1.37-1.37c-.4-.4-.92-.59-1.43-.59-.52 0-1.04.2-1.43.59L10.3 9.45l-7.72 7.72c-.78.78-.78 2.05 0 2.83L4 21.41c.39.39.9.59 1.41.59.51 0 1.02-.2 1.41-.59l7.78-7.78 2.81-2.81c.8-.78.8-2.07 0-2.86zM5.41 20L4 18.59l7.72-7.72 1.47 1.35L5.41 20z\"/>\n",
              "  </svg>\n",
              "      </button>\n",
              "      \n",
              "  <style>\n",
              "    .colab-df-container {\n",
              "      display:flex;\n",
              "      flex-wrap:wrap;\n",
              "      gap: 12px;\n",
              "    }\n",
              "\n",
              "    .colab-df-convert {\n",
              "      background-color: #E8F0FE;\n",
              "      border: none;\n",
              "      border-radius: 50%;\n",
              "      cursor: pointer;\n",
              "      display: none;\n",
              "      fill: #1967D2;\n",
              "      height: 32px;\n",
              "      padding: 0 0 0 0;\n",
              "      width: 32px;\n",
              "    }\n",
              "\n",
              "    .colab-df-convert:hover {\n",
              "      background-color: #E2EBFA;\n",
              "      box-shadow: 0px 1px 2px rgba(60, 64, 67, 0.3), 0px 1px 3px 1px rgba(60, 64, 67, 0.15);\n",
              "      fill: #174EA6;\n",
              "    }\n",
              "\n",
              "    [theme=dark] .colab-df-convert {\n",
              "      background-color: #3B4455;\n",
              "      fill: #D2E3FC;\n",
              "    }\n",
              "\n",
              "    [theme=dark] .colab-df-convert:hover {\n",
              "      background-color: #434B5C;\n",
              "      box-shadow: 0px 1px 3px 1px rgba(0, 0, 0, 0.15);\n",
              "      filter: drop-shadow(0px 1px 2px rgba(0, 0, 0, 0.3));\n",
              "      fill: #FFFFFF;\n",
              "    }\n",
              "  </style>\n",
              "\n",
              "      <script>\n",
              "        const buttonEl =\n",
              "          document.querySelector('#df-69b74132-c70e-4b8c-83a8-8f597acfe535 button.colab-df-convert');\n",
              "        buttonEl.style.display =\n",
              "          google.colab.kernel.accessAllowed ? 'block' : 'none';\n",
              "\n",
              "        async function convertToInteractive(key) {\n",
              "          const element = document.querySelector('#df-69b74132-c70e-4b8c-83a8-8f597acfe535');\n",
              "          const dataTable =\n",
              "            await google.colab.kernel.invokeFunction('convertToInteractive',\n",
              "                                                     [key], {});\n",
              "          if (!dataTable) return;\n",
              "\n",
              "          const docLinkHtml = 'Like what you see? Visit the ' +\n",
              "            '<a target=\"_blank\" href=https://colab.research.google.com/notebooks/data_table.ipynb>data table notebook</a>'\n",
              "            + ' to learn more about interactive tables.';\n",
              "          element.innerHTML = '';\n",
              "          dataTable['output_type'] = 'display_data';\n",
              "          await google.colab.output.renderOutput(dataTable, element);\n",
              "          const docLink = document.createElement('div');\n",
              "          docLink.innerHTML = docLinkHtml;\n",
              "          element.appendChild(docLink);\n",
              "        }\n",
              "      </script>\n",
              "    </div>\n",
              "  </div>\n",
              "  "
            ]
          },
          "metadata": {},
          "execution_count": 15
        },
        {
          "output_type": "stream",
          "name": "stdout",
          "text": [
            "\n",
            "=======\n",
            "\n"
          ]
        },
        {
          "output_type": "execute_result",
          "data": {
            "text/plain": [
              "month                    object\n",
              "milk_prod_per_cow_kg    float64\n",
              "dtype: object"
            ]
          },
          "metadata": {},
          "execution_count": 15
        }
      ]
    },
    {
      "cell_type": "code",
      "source": [
        "# Transform month to datetime\n",
        "df.month = pd.to_datetime(df.month)\n",
        "df = df.set_index('month')"
      ],
      "metadata": {
        "id": "nHn-jSjs5x8u"
      },
      "id": "nHn-jSjs5x8u",
      "execution_count": 16,
      "outputs": []
    },
    {
      "cell_type": "code",
      "source": [
        "df.dtypes\n",
        "print(\"\\n==========\\n\")\n",
        "df.head()"
      ],
      "metadata": {
        "id": "WsAPFkxO6M6-",
        "outputId": "9437e0da-e713-438c-c48e-28d2b621df94",
        "colab": {
          "base_uri": "https://localhost:8080/",
          "height": 308
        }
      },
      "id": "WsAPFkxO6M6-",
      "execution_count": 17,
      "outputs": [
        {
          "output_type": "execute_result",
          "data": {
            "text/plain": [
              "milk_prod_per_cow_kg    float64\n",
              "dtype: object"
            ]
          },
          "metadata": {},
          "execution_count": 17
        },
        {
          "output_type": "stream",
          "name": "stdout",
          "text": [
            "\n",
            "==========\n",
            "\n"
          ]
        },
        {
          "output_type": "execute_result",
          "data": {
            "text/plain": [
              "            milk_prod_per_cow_kg\n",
              "month                           \n",
              "1962-01-01                265.05\n",
              "1962-02-01                252.45\n",
              "1962-03-01                288.00\n",
              "1962-04-01                295.20\n",
              "1962-05-01                327.15"
            ],
            "text/html": [
              "\n",
              "  <div id=\"df-15b058a9-2c0b-498f-a398-56d513643920\">\n",
              "    <div class=\"colab-df-container\">\n",
              "      <div>\n",
              "<style scoped>\n",
              "    .dataframe tbody tr th:only-of-type {\n",
              "        vertical-align: middle;\n",
              "    }\n",
              "\n",
              "    .dataframe tbody tr th {\n",
              "        vertical-align: top;\n",
              "    }\n",
              "\n",
              "    .dataframe thead th {\n",
              "        text-align: right;\n",
              "    }\n",
              "</style>\n",
              "<table border=\"1\" class=\"dataframe\">\n",
              "  <thead>\n",
              "    <tr style=\"text-align: right;\">\n",
              "      <th></th>\n",
              "      <th>milk_prod_per_cow_kg</th>\n",
              "    </tr>\n",
              "    <tr>\n",
              "      <th>month</th>\n",
              "      <th></th>\n",
              "    </tr>\n",
              "  </thead>\n",
              "  <tbody>\n",
              "    <tr>\n",
              "      <th>1962-01-01</th>\n",
              "      <td>265.05</td>\n",
              "    </tr>\n",
              "    <tr>\n",
              "      <th>1962-02-01</th>\n",
              "      <td>252.45</td>\n",
              "    </tr>\n",
              "    <tr>\n",
              "      <th>1962-03-01</th>\n",
              "      <td>288.00</td>\n",
              "    </tr>\n",
              "    <tr>\n",
              "      <th>1962-04-01</th>\n",
              "      <td>295.20</td>\n",
              "    </tr>\n",
              "    <tr>\n",
              "      <th>1962-05-01</th>\n",
              "      <td>327.15</td>\n",
              "    </tr>\n",
              "  </tbody>\n",
              "</table>\n",
              "</div>\n",
              "      <button class=\"colab-df-convert\" onclick=\"convertToInteractive('df-15b058a9-2c0b-498f-a398-56d513643920')\"\n",
              "              title=\"Convert this dataframe to an interactive table.\"\n",
              "              style=\"display:none;\">\n",
              "        \n",
              "  <svg xmlns=\"http://www.w3.org/2000/svg\" height=\"24px\"viewBox=\"0 0 24 24\"\n",
              "       width=\"24px\">\n",
              "    <path d=\"M0 0h24v24H0V0z\" fill=\"none\"/>\n",
              "    <path d=\"M18.56 5.44l.94 2.06.94-2.06 2.06-.94-2.06-.94-.94-2.06-.94 2.06-2.06.94zm-11 1L8.5 8.5l.94-2.06 2.06-.94-2.06-.94L8.5 2.5l-.94 2.06-2.06.94zm10 10l.94 2.06.94-2.06 2.06-.94-2.06-.94-.94-2.06-.94 2.06-2.06.94z\"/><path d=\"M17.41 7.96l-1.37-1.37c-.4-.4-.92-.59-1.43-.59-.52 0-1.04.2-1.43.59L10.3 9.45l-7.72 7.72c-.78.78-.78 2.05 0 2.83L4 21.41c.39.39.9.59 1.41.59.51 0 1.02-.2 1.41-.59l7.78-7.78 2.81-2.81c.8-.78.8-2.07 0-2.86zM5.41 20L4 18.59l7.72-7.72 1.47 1.35L5.41 20z\"/>\n",
              "  </svg>\n",
              "      </button>\n",
              "      \n",
              "  <style>\n",
              "    .colab-df-container {\n",
              "      display:flex;\n",
              "      flex-wrap:wrap;\n",
              "      gap: 12px;\n",
              "    }\n",
              "\n",
              "    .colab-df-convert {\n",
              "      background-color: #E8F0FE;\n",
              "      border: none;\n",
              "      border-radius: 50%;\n",
              "      cursor: pointer;\n",
              "      display: none;\n",
              "      fill: #1967D2;\n",
              "      height: 32px;\n",
              "      padding: 0 0 0 0;\n",
              "      width: 32px;\n",
              "    }\n",
              "\n",
              "    .colab-df-convert:hover {\n",
              "      background-color: #E2EBFA;\n",
              "      box-shadow: 0px 1px 2px rgba(60, 64, 67, 0.3), 0px 1px 3px 1px rgba(60, 64, 67, 0.15);\n",
              "      fill: #174EA6;\n",
              "    }\n",
              "\n",
              "    [theme=dark] .colab-df-convert {\n",
              "      background-color: #3B4455;\n",
              "      fill: #D2E3FC;\n",
              "    }\n",
              "\n",
              "    [theme=dark] .colab-df-convert:hover {\n",
              "      background-color: #434B5C;\n",
              "      box-shadow: 0px 1px 3px 1px rgba(0, 0, 0, 0.15);\n",
              "      filter: drop-shadow(0px 1px 2px rgba(0, 0, 0, 0.3));\n",
              "      fill: #FFFFFF;\n",
              "    }\n",
              "  </style>\n",
              "\n",
              "      <script>\n",
              "        const buttonEl =\n",
              "          document.querySelector('#df-15b058a9-2c0b-498f-a398-56d513643920 button.colab-df-convert');\n",
              "        buttonEl.style.display =\n",
              "          google.colab.kernel.accessAllowed ? 'block' : 'none';\n",
              "\n",
              "        async function convertToInteractive(key) {\n",
              "          const element = document.querySelector('#df-15b058a9-2c0b-498f-a398-56d513643920');\n",
              "          const dataTable =\n",
              "            await google.colab.kernel.invokeFunction('convertToInteractive',\n",
              "                                                     [key], {});\n",
              "          if (!dataTable) return;\n",
              "\n",
              "          const docLinkHtml = 'Like what you see? Visit the ' +\n",
              "            '<a target=\"_blank\" href=https://colab.research.google.com/notebooks/data_table.ipynb>data table notebook</a>'\n",
              "            + ' to learn more about interactive tables.';\n",
              "          element.innerHTML = '';\n",
              "          dataTable['output_type'] = 'display_data';\n",
              "          await google.colab.output.renderOutput(dataTable, element);\n",
              "          const docLink = document.createElement('div');\n",
              "          docLink.innerHTML = docLinkHtml;\n",
              "          element.appendChild(docLink);\n",
              "        }\n",
              "      </script>\n",
              "    </div>\n",
              "  </div>\n",
              "  "
            ]
          },
          "metadata": {},
          "execution_count": 17
        }
      ]
    },
    {
      "cell_type": "code",
      "source": [
        "# Plot timeseries\n",
        "df.plot();"
      ],
      "metadata": {
        "id": "UW8wNSjW4e-d",
        "outputId": "81ab86bd-2578-4dbe-ce83-19747aabebb0",
        "colab": {
          "base_uri": "https://localhost:8080/",
          "height": 279
        }
      },
      "id": "UW8wNSjW4e-d",
      "execution_count": 18,
      "outputs": [
        {
          "output_type": "display_data",
          "data": {
            "text/plain": [
              "<Figure size 432x288 with 1 Axes>"
            ],
            "image/png": "[encoded data removed]"
          },
          "metadata": {
            "needs_background": "light"
          }
        }
      ]
    },
    {
      "cell_type": "markdown",
      "source": [
        "See syntax of ljung-box test [here](https://www.statsmodels.org/dev/generated/statsmodels.stats.diagnostic.acorr_ljungbox.html).<br> There is also a small example at the bottom of this page for residuals. Generaly the test is used to test of autocorrelation in residuals (ie after a model has been fitted). An dhence the module of the test is `statsmodels.stats.diagnostic`"
      ],
      "metadata": {
        "id": "jpFQaGj36k21"
      },
      "id": "jpFQaGj36k21"
    },
    {
      "cell_type": "code",
      "source": [
        "# Perform the ljung-box test:\n",
        "\n",
        "acorr_ljungbox(df, lags=[1], return_df=True)"
      ],
      "metadata": {
        "id": "Mg6YgVX04weX",
        "outputId": "93f16667-8c6f-4b1f-87a8-b66e043fbdff",
        "colab": {
          "base_uri": "https://localhost:8080/",
          "height": 81
        }
      },
      "id": "Mg6YgVX04weX",
      "execution_count": 19,
      "outputs": [
        {
          "output_type": "execute_result",
          "data": {
            "text/plain": [
              "      lb_stat     lb_pvalue\n",
              "1  135.942829  2.053590e-31"
            ],
            "text/html": [
              "\n",
              "  <div id=\"df-8f96d606-eeb3-4df5-b430-d3b8e4728d63\">\n",
              "    <div class=\"colab-df-container\">\n",
              "      <div>\n",
              "<style scoped>\n",
              "    .dataframe tbody tr th:only-of-type {\n",
              "        vertical-align: middle;\n",
              "    }\n",
              "\n",
              "    .dataframe tbody tr th {\n",
              "        vertical-align: top;\n",
              "    }\n",
              "\n",
              "    .dataframe thead th {\n",
              "        text-align: right;\n",
              "    }\n",
              "</style>\n",
              "<table border=\"1\" class=\"dataframe\">\n",
              "  <thead>\n",
              "    <tr style=\"text-align: right;\">\n",
              "      <th></th>\n",
              "      <th>lb_stat</th>\n",
              "      <th>lb_pvalue</th>\n",
              "    </tr>\n",
              "  </thead>\n",
              "  <tbody>\n",
              "    <tr>\n",
              "      <th>1</th>\n",
              "      <td>135.942829</td>\n",
              "      <td>2.053590e-31</td>\n",
              "    </tr>\n",
              "  </tbody>\n",
              "</table>\n",
              "</div>\n",
              "      <button class=\"colab-df-convert\" onclick=\"convertToInteractive('df-8f96d606-eeb3-4df5-b430-d3b8e4728d63')\"\n",
              "              title=\"Convert this dataframe to an interactive table.\"\n",
              "              style=\"display:none;\">\n",
              "        \n",
              "  <svg xmlns=\"http://www.w3.org/2000/svg\" height=\"24px\"viewBox=\"0 0 24 24\"\n",
              "       width=\"24px\">\n",
              "    <path d=\"M0 0h24v24H0V0z\" fill=\"none\"/>\n",
              "    <path d=\"M18.56 5.44l.94 2.06.94-2.06 2.06-.94-2.06-.94-.94-2.06-.94 2.06-2.06.94zm-11 1L8.5 8.5l.94-2.06 2.06-.94-2.06-.94L8.5 2.5l-.94 2.06-2.06.94zm10 10l.94 2.06.94-2.06 2.06-.94-2.06-.94-.94-2.06-.94 2.06-2.06.94z\"/><path d=\"M17.41 7.96l-1.37-1.37c-.4-.4-.92-.59-1.43-.59-.52 0-1.04.2-1.43.59L10.3 9.45l-7.72 7.72c-.78.78-.78 2.05 0 2.83L4 21.41c.39.39.9.59 1.41.59.51 0 1.02-.2 1.41-.59l7.78-7.78 2.81-2.81c.8-.78.8-2.07 0-2.86zM5.41 20L4 18.59l7.72-7.72 1.47 1.35L5.41 20z\"/>\n",
              "  </svg>\n",
              "      </button>\n",
              "      \n",
              "  <style>\n",
              "    .colab-df-container {\n",
              "      display:flex;\n",
              "      flex-wrap:wrap;\n",
              "      gap: 12px;\n",
              "    }\n",
              "\n",
              "    .colab-df-convert {\n",
              "      background-color: #E8F0FE;\n",
              "      border: none;\n",
              "      border-radius: 50%;\n",
              "      cursor: pointer;\n",
              "      display: none;\n",
              "      fill: #1967D2;\n",
              "      height: 32px;\n",
              "      padding: 0 0 0 0;\n",
              "      width: 32px;\n",
              "    }\n",
              "\n",
              "    .colab-df-convert:hover {\n",
              "      background-color: #E2EBFA;\n",
              "      box-shadow: 0px 1px 2px rgba(60, 64, 67, 0.3), 0px 1px 3px 1px rgba(60, 64, 67, 0.15);\n",
              "      fill: #174EA6;\n",
              "    }\n",
              "\n",
              "    [theme=dark] .colab-df-convert {\n",
              "      background-color: #3B4455;\n",
              "      fill: #D2E3FC;\n",
              "    }\n",
              "\n",
              "    [theme=dark] .colab-df-convert:hover {\n",
              "      background-color: #434B5C;\n",
              "      box-shadow: 0px 1px 3px 1px rgba(0, 0, 0, 0.15);\n",
              "      filter: drop-shadow(0px 1px 2px rgba(0, 0, 0, 0.3));\n",
              "      fill: #FFFFFF;\n",
              "    }\n",
              "  </style>\n",
              "\n",
              "      <script>\n",
              "        const buttonEl =\n",
              "          document.querySelector('#df-8f96d606-eeb3-4df5-b430-d3b8e4728d63 button.colab-df-convert');\n",
              "        buttonEl.style.display =\n",
              "          google.colab.kernel.accessAllowed ? 'block' : 'none';\n",
              "\n",
              "        async function convertToInteractive(key) {\n",
              "          const element = document.querySelector('#df-8f96d606-eeb3-4df5-b430-d3b8e4728d63');\n",
              "          const dataTable =\n",
              "            await google.colab.kernel.invokeFunction('convertToInteractive',\n",
              "                                                     [key], {});\n",
              "          if (!dataTable) return;\n",
              "\n",
              "          const docLinkHtml = 'Like what you see? Visit the ' +\n",
              "            '<a target=\"_blank\" href=https://colab.research.google.com/notebooks/data_table.ipynb>data table notebook</a>'\n",
              "            + ' to learn more about interactive tables.';\n",
              "          element.innerHTML = '';\n",
              "          dataTable['output_type'] = 'display_data';\n",
              "          await google.colab.output.renderOutput(dataTable, element);\n",
              "          const docLink = document.createElement('div');\n",
              "          docLink.innerHTML = docLinkHtml;\n",
              "          element.appendChild(docLink);\n",
              "        }\n",
              "      </script>\n",
              "    </div>\n",
              "  </div>\n",
              "  "
            ]
          },
          "metadata": {},
          "execution_count": 19
        }
      ]
    },
    {
      "cell_type": "markdown",
      "source": [
        "### Exercise: Examine if timeseries `widget_sales.csv` is stationary or not?"
      ],
      "metadata": {
        "id": "qggCeDEXemxU"
      },
      "id": "qggCeDEXemxU"
    },
    {
      "cell_type": "code",
      "source": [
        "############# I am done ###############"
      ],
      "metadata": {
        "id": "YUN5W393e9Vn"
      },
      "id": "YUN5W393e9Vn",
      "execution_count": null,
      "outputs": []
    },
    {
      "cell_type": "code",
      "execution_count": null,
      "id": "social-snapshot",
      "metadata": {
        "id": "social-snapshot"
      },
      "outputs": [],
      "source": [
        "from statsmodels.tsa.statespace.sarimax import SARIMAX\n",
        "\n",
        "def rolling_forecast(df: pd.DataFrame, train_len: int, horizon: int, window: int, method: str) -> list:\n",
        "    \n",
        "    total_len = train_len + horizon\n",
        "    \n",
        "    if method == 'mean':\n",
        "        pred_mean = []\n",
        "        \n",
        "        for i in range(train_len, total_len, window):\n",
        "            mean = np.mean(df[:i].values)\n",
        "            pred_mean.extend(mean for _ in range(window))\n",
        "\n",
        "        return pred_mean\n",
        "\n",
        "    elif method == 'last':\n",
        "        pred_last_value = []\n",
        "        \n",
        "        for i in range(train_len, total_len, window):\n",
        "            last_value = df[:i].iloc[-1].values[0]\n",
        "            pred_last_value.extend(last_value for _ in range(window))\n",
        "            \n",
        "        return pred_last_value\n",
        "    \n",
        "    elif method == 'MA':\n",
        "        pred_MA = []\n",
        "        \n",
        "        for i in range(train_len, total_len, window):\n",
        "            model = SARIMAX(df[:i], order=(0,0,2))\n",
        "            res = model.fit(disp=False)\n",
        "            predictions = res.get_prediction(0, i + window - 1)\n",
        "            oos_pred = predictions.predicted_mean.iloc[-window:]\n",
        "            pred_MA.extend(oos_pred)\n",
        "            \n",
        "        return pred_MA"
      ]
    },
    {
      "cell_type": "code",
      "execution_count": null,
      "id": "supposed-injection",
      "metadata": {
        "id": "supposed-injection",
        "outputId": "15b7b358-8e1f-4ce6-d6af-696f2f4e97ac"
      },
      "outputs": [
        {
          "data": {
            "text/html": [
              "<div>\n",
              "<style scoped>\n",
              "    .dataframe tbody tr th:only-of-type {\n",
              "        vertical-align: middle;\n",
              "    }\n",
              "\n",
              "    .dataframe tbody tr th {\n",
              "        vertical-align: top;\n",
              "    }\n",
              "\n",
              "    .dataframe thead th {\n",
              "        text-align: right;\n",
              "    }\n",
              "</style>\n",
              "<table border=\"1\" class=\"dataframe\">\n",
              "  <thead>\n",
              "    <tr style=\"text-align: right;\">\n",
              "      <th></th>\n",
              "      <th>widget_sales_diff</th>\n",
              "      <th>pred_mean</th>\n",
              "      <th>pred_last_value</th>\n",
              "      <th>pred_MA</th>\n",
              "    </tr>\n",
              "  </thead>\n",
              "  <tbody>\n",
              "    <tr>\n",
              "      <th>449</th>\n",
              "      <td>-1.170131</td>\n",
              "      <td>0.034319</td>\n",
              "      <td>-1.803658</td>\n",
              "      <td>-1.078833</td>\n",
              "    </tr>\n",
              "    <tr>\n",
              "      <th>450</th>\n",
              "      <td>0.580967</td>\n",
              "      <td>0.034319</td>\n",
              "      <td>-1.803658</td>\n",
              "      <td>-0.273309</td>\n",
              "    </tr>\n",
              "    <tr>\n",
              "      <th>451</th>\n",
              "      <td>-0.144902</td>\n",
              "      <td>0.032861</td>\n",
              "      <td>0.580967</td>\n",
              "      <td>0.781223</td>\n",
              "    </tr>\n",
              "    <tr>\n",
              "      <th>452</th>\n",
              "      <td>-0.096564</td>\n",
              "      <td>0.032861</td>\n",
              "      <td>0.580967</td>\n",
              "      <td>0.234969</td>\n",
              "    </tr>\n",
              "    <tr>\n",
              "      <th>453</th>\n",
              "      <td>-0.372334</td>\n",
              "      <td>0.032183</td>\n",
              "      <td>-0.096564</td>\n",
              "      <td>0.168994</td>\n",
              "    </tr>\n",
              "  </tbody>\n",
              "</table>\n",
              "</div>"
            ],
            "text/plain": [
              "     widget_sales_diff  pred_mean  pred_last_value   pred_MA\n",
              "449          -1.170131   0.034319        -1.803658 -1.078833\n",
              "450           0.580967   0.034319        -1.803658 -0.273309\n",
              "451          -0.144902   0.032861         0.580967  0.781223\n",
              "452          -0.096564   0.032861         0.580967  0.234969\n",
              "453          -0.372334   0.032183        -0.096564  0.168994"
            ]
          },
          "execution_count": 16,
          "metadata": {},
          "output_type": "execute_result"
        }
      ],
      "source": [
        "pred_df = test.copy()\n",
        "\n",
        "TRAIN_LEN = len(train)\n",
        "HORIZON = len(test)\n",
        "WINDOW = 2\n",
        "\n",
        "pred_mean = rolling_forecast(df_diff, TRAIN_LEN, HORIZON, WINDOW, 'mean')\n",
        "pred_last_value = rolling_forecast(df_diff, TRAIN_LEN, HORIZON, WINDOW, 'last')\n",
        "pred_MA = rolling_forecast(df_diff, TRAIN_LEN, HORIZON, WINDOW, 'MA')\n",
        "\n",
        "pred_df['pred_mean'] = pred_mean\n",
        "pred_df['pred_last_value'] = pred_last_value\n",
        "pred_df['pred_MA'] = pred_MA\n",
        "\n",
        "pred_df.head()"
      ]
    },
    {
      "cell_type": "code",
      "execution_count": null,
      "id": "alleged-retail",
      "metadata": {
        "id": "alleged-retail",
        "outputId": "8835a484-9ff9-42b3-8d23-7585556dec48"
      },
      "outputs": [
        {
          "data": {
            "image/png": "[encoded data removed]",
            "text/plain": [
              "<Figure size 432x288 with 1 Axes>"
            ]
          },
          "metadata": {
            "needs_background": "light"
          },
          "output_type": "display_data"
        }
      ],
      "source": [
        "fig, ax = plt.subplots()\n",
        "\n",
        "ax.plot(df_diff['widget_sales_diff'])\n",
        "ax.plot(pred_df['widget_sales_diff'], 'b-', label='actual')\n",
        "ax.plot(pred_df['pred_mean'], 'g:', label='mean')\n",
        "ax.plot(pred_df['pred_last_value'], 'r-.', label='last')\n",
        "ax.plot(pred_df['pred_MA'], 'k--', label='MA(2)')\n",
        "\n",
        "ax.legend(loc=2)\n",
        "\n",
        "ax.set_xlabel('Time')\n",
        "ax.set_ylabel('Widget sales - diff (k$)')\n",
        "\n",
        "ax.axvspan(449, 498, color='#808080', alpha=0.2)\n",
        "\n",
        "ax.set_xlim(430, 500)\n",
        "\n",
        "plt.xticks(\n",
        "    [439, 468, 498], \n",
        "    ['Apr', 'May', 'Jun'])\n",
        "\n",
        "fig.autofmt_xdate()\n",
        "plt.tight_layout()\n",
        "\n",
        "plt.savefig('figures/CH04_F08_peixeiro.png', dpi=300)"
      ]
    },
    {
      "cell_type": "code",
      "execution_count": null,
      "id": "northern-nevada",
      "metadata": {
        "id": "northern-nevada",
        "outputId": "8109cc38-3cd6-4386-8d22-6787c4a488da"
      },
      "outputs": [
        {
          "name": "stdout",
          "output_type": "stream",
          "text": [
            "2.5606299456880537 3.2494260812249225 1.9481714497703646\n"
          ]
        }
      ],
      "source": [
        "from sklearn.metrics import mean_squared_error\n",
        "\n",
        "mse_mean = mean_squared_error(pred_df['widget_sales_diff'], pred_df['pred_mean'])\n",
        "mse_last = mean_squared_error(pred_df['widget_sales_diff'], pred_df['pred_last_value'])\n",
        "mse_MA = mean_squared_error(pred_df['widget_sales_diff'], pred_df['pred_MA'])\n",
        "\n",
        "print(mse_mean, mse_last, mse_MA)"
      ]
    },
    {
      "cell_type": "code",
      "execution_count": null,
      "id": "employed-study",
      "metadata": {
        "id": "employed-study",
        "outputId": "3d34b042-19a5-4b5d-cfe1-b9d9d6d34611"
      },
      "outputs": [
        {
          "data": {
            "image/png": "[encoded data removed]",
            "text/plain": [
              "<Figure size 432x288 with 1 Axes>"
            ]
          },
          "metadata": {
            "needs_background": "light"
          },
          "output_type": "display_data"
        }
      ],
      "source": [
        "fig, ax = plt.subplots()\n",
        "\n",
        "x = ['mean', 'last_value', 'MA(2)']\n",
        "y = [mse_mean, mse_last, mse_MA]\n",
        "\n",
        "ax.bar(x, y, width=0.4)\n",
        "ax.set_xlabel('Methods')\n",
        "ax.set_ylabel('MSE')\n",
        "ax.set_ylim(0, 5)\n",
        "\n",
        "for index, value in enumerate(y):\n",
        "    plt.text(x=index, y=value+0.25, s=str(round(value, 2)), ha='center')\n",
        "\n",
        "plt.tight_layout()\n",
        "\n",
        "plt.savefig('figures/CH04_F09_peixeiro.png', dpi=300)"
      ]
    },
    {
      "cell_type": "code",
      "execution_count": null,
      "id": "recovered-output",
      "metadata": {
        "id": "recovered-output"
      },
      "outputs": [],
      "source": [
        "df['pred_widget_sales'] = pd.Series()\n",
        "df['pred_widget_sales'][450:] = df['widget_sales'].iloc[450] + pred_df['pred_MA'].cumsum()"
      ]
    },
    {
      "cell_type": "code",
      "execution_count": null,
      "id": "defined-tongue",
      "metadata": {
        "id": "defined-tongue",
        "outputId": "6340319f-6002-416a-fbab-cdfd8351605f"
      },
      "outputs": [
        {
          "data": {
            "image/png": "[encoded data removed]",
            "text/plain": [
              "<Figure size 432x288 with 1 Axes>"
            ]
          },
          "metadata": {
            "needs_background": "light"
          },
          "output_type": "display_data"
        }
      ],
      "source": [
        "fig, ax = plt.subplots()\n",
        "\n",
        "ax.plot(df['widget_sales'], 'b-', label='actual')\n",
        "ax.plot(df['pred_widget_sales'], 'k--', label='MA(2)')\n",
        "\n",
        "ax.legend(loc=2)\n",
        "\n",
        "ax.set_xlabel('Time')\n",
        "ax.set_ylabel('Widget sales (K$)')\n",
        "\n",
        "ax.axvspan(450, 500, color='#808080', alpha=0.2)\n",
        "\n",
        "ax.set_xlim(400, 500)\n",
        "\n",
        "plt.xticks(\n",
        "    [409, 439, 468, 498], \n",
        "    ['Mar', 'Apr', 'May', 'Jun'])\n",
        "\n",
        "fig.autofmt_xdate()\n",
        "plt.tight_layout()\n",
        "\n",
        "plt.savefig('figures/CH04_F11_peixeiro.png', dpi=300)"
      ]
    },
    {
      "cell_type": "code",
      "execution_count": null,
      "id": "elect-thesis",
      "metadata": {
        "id": "elect-thesis",
        "outputId": "f50e3fa5-f661-4ecb-b418-45ee5046ce13"
      },
      "outputs": [
        {
          "name": "stdout",
          "output_type": "stream",
          "text": [
            "2.324470924412907\n"
          ]
        }
      ],
      "source": [
        "from sklearn.metrics import mean_absolute_error\n",
        "\n",
        "mae_MA_undiff = mean_absolute_error(df['widget_sales'].iloc[450:], df['pred_widget_sales'].iloc[450:])\n",
        "\n",
        "print(mae_MA_undiff)"
      ]
    },
    {
      "cell_type": "code",
      "execution_count": null,
      "id": "going-acceptance",
      "metadata": {
        "id": "going-acceptance"
      },
      "outputs": [],
      "source": []
    }
  ],
  "metadata": {
    "kernelspec": {
      "display_name": "Python 3 (ipykernel)",
      "language": "python",
      "name": "python3"
    },
    "language_info": {
      "codemirror_mode": {
        "name": "ipython",
        "version": 3
      },
      "file_extension": ".py",
      "mimetype": "text/x-python",
      "name": "python",
      "nbconvert_exporter": "python",
      "pygments_lexer": "ipython3",
      "version": "3.7.4"
    },
    "colab": {
      "provenance": [],
      "include_colab_link": true
    }
  },
  "nbformat": 4,
  "nbformat_minor": 5
}