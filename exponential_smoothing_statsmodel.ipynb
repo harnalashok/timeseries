{
  "cells": [
    {
      "cell_type": "markdown",
      "metadata": {
        "id": "view-in-github",
        "colab_type": "text"
      },
      "source": [
        "<a href=\"https://colab.research.google.com/github/harnalashok/timeseries/blob/main/exponential_smoothing_statsmodel.ipynb\" target=\"_parent\"><img src=\"https://colab.research.google.com/assets/colab-badge.svg\" alt=\"Open In Colab\"/></a>"
      ]
    },
    {
      "cell_type": "code",
      "source": [
        "# Last amended: 4th March, 2023\n",
        "# Ref: Examples from statsmodel github site:\n",
        "#      https://github.com/statsmodels/statsmodels/tree/main/examples/notebooks"
      ],
      "metadata": {
        "id": "HukH8Znyejxt"
      },
      "execution_count": null,
      "outputs": []
    },
    {
      "cell_type": "markdown",
      "metadata": {
        "id": "Yula2RakefZ2"
      },
      "source": [
        "# Exponential smoothing\n",
        "\n",
        "Let us consider chapter 7 of the excellent treatise on the subject of Exponential Smoothing By Hyndman and Athanasopoulos [1].\n",
        "We will work through all the examples in the chapter as they unfold.\n",
        "\n",
        "[1] [Hyndman, Rob J., and George Athanasopoulos. Forecasting: principles and practice. OTexts, 2014.](https://www.otexts.org/fpp/7)"
      ]
    },
    {
      "cell_type": "markdown",
      "metadata": {
        "id": "C9GaI0z5efZ5"
      },
      "source": [
        "## Call libraries\n",
        "\n"
      ]
    },
    {
      "cell_type": "code",
      "source": [
        "import os\n",
        "import numpy as np\n",
        "import pandas as pd\n",
        "import matplotlib.pyplot as plt\n",
        "from statsmodels.tsa.api import ExponentialSmoothing, SimpleExpSmoothing, Holt\n",
        "%matplotlib inline"
      ],
      "metadata": {
        "id": "FJ22Mjg0ss1A"
      },
      "execution_count": 4,
      "outputs": []
    },
    {
      "cell_type": "code",
      "source": [
        "from IPython.core.interactiveshell import InteractiveShell\n",
        "InteractiveShell.ast_node_interactivity = \"all\""
      ],
      "metadata": {
        "id": "oJvXbAe-wuPt"
      },
      "execution_count": 5,
      "outputs": []
    },
    {
      "cell_type": "markdown",
      "source": [
        "## Load data\n",
        "First we load some data. We have included the R data in the notebook for expedience."
      ],
      "metadata": {
        "id": "pQW2-h9sgfPz"
      }
    },
    {
      "cell_type": "code",
      "source": [
        "# These are data from R package as used in the book\"\n",
        "\n",
        "data = [\n",
        "    446.6565,\n",
        "    454.4733,\n",
        "    455.663,\n",
        "    423.6322,\n",
        "    456.2713,\n",
        "    440.5881,\n",
        "    425.3325,\n",
        "    485.1494,\n",
        "    506.0482,\n",
        "    526.792,\n",
        "    514.2689,\n",
        "    494.211,\n",
        "]\n",
        "\n",
        "# Freq is annual\n",
        "index = pd.date_range(start=\"1996\", end=\"2008\", freq=\"A\")\n",
        "oildata = pd.Series(data, index)\n",
        "oildata.head()\n",
        "print(\"\\n===========\\n\")\n",
        "oildata.tail()   # upto 31st Dec, 2007"
      ],
      "metadata": {
        "colab": {
          "base_uri": "https://localhost:8080/"
        },
        "id": "NwsmrQJKtCU3",
        "outputId": "01d39f96-b851-4ee8-ebb6-4e2bde0f86e3"
      },
      "execution_count": 6,
      "outputs": [
        {
          "output_type": "execute_result",
          "data": {
            "text/plain": [
              "1996-12-31    446.6565\n",
              "1997-12-31    454.4733\n",
              "1998-12-31    455.6630\n",
              "1999-12-31    423.6322\n",
              "2000-12-31    456.2713\n",
              "Freq: A-DEC, dtype: float64"
            ]
          },
          "metadata": {},
          "execution_count": 6
        },
        {
          "output_type": "stream",
          "name": "stdout",
          "text": [
            "\n",
            "===========\n",
            "\n"
          ]
        },
        {
          "output_type": "execute_result",
          "data": {
            "text/plain": [
              "2003-12-31    485.1494\n",
              "2004-12-31    506.0482\n",
              "2005-12-31    526.7920\n",
              "2006-12-31    514.2689\n",
              "2007-12-31    494.2110\n",
              "Freq: A-DEC, dtype: float64"
            ]
          },
          "metadata": {},
          "execution_count": 6
        }
      ]
    },
    {
      "cell_type": "code",
      "source": [
        "data = [\n",
        "    17.5534,\n",
        "    21.86,\n",
        "    23.8866,\n",
        "    26.9293,\n",
        "    26.8885,\n",
        "    28.8314,\n",
        "    30.0751,\n",
        "    30.9535,\n",
        "    30.1857,\n",
        "    31.5797,\n",
        "    32.5776,\n",
        "    33.4774,\n",
        "    39.0216,\n",
        "    41.3864,\n",
        "    41.5966,\n",
        "]\n",
        "\n",
        "# Freq is annual\n",
        "index = pd.date_range(start=\"1990\", end=\"2005\", freq=\"A\")\n",
        "air = pd.Series(data, index)\n",
        "air.head()"
      ],
      "metadata": {
        "colab": {
          "base_uri": "https://localhost:8080/"
        },
        "id": "ru8FIJH9tHEv",
        "outputId": "98ce16df-eb4f-4adc-f4e0-e5ceccadba93"
      },
      "execution_count": 7,
      "outputs": [
        {
          "output_type": "execute_result",
          "data": {
            "text/plain": [
              "1990-12-31    17.5534\n",
              "1991-12-31    21.8600\n",
              "1992-12-31    23.8866\n",
              "1993-12-31    26.9293\n",
              "1994-12-31    26.8885\n",
              "Freq: A-DEC, dtype: float64"
            ]
          },
          "metadata": {},
          "execution_count": 7
        }
      ]
    },
    {
      "cell_type": "code",
      "source": [
        "\n",
        "data = [\n",
        "    263.9177,\n",
        "    268.3072,\n",
        "    260.6626,\n",
        "    266.6394,\n",
        "    277.5158,\n",
        "    283.834,\n",
        "    290.309,\n",
        "    292.4742,\n",
        "    300.8307,\n",
        "    309.2867,\n",
        "    318.3311,\n",
        "    329.3724,\n",
        "    338.884,\n",
        "    339.2441,\n",
        "    328.6006,\n",
        "    314.2554,\n",
        "    314.4597,\n",
        "    321.4138,\n",
        "    329.7893,\n",
        "    346.3852,\n",
        "    352.2979,\n",
        "    348.3705,\n",
        "    417.5629,\n",
        "    417.1236,\n",
        "    417.7495,\n",
        "    412.2339,\n",
        "    411.9468,\n",
        "    394.6971,\n",
        "    401.4993,\n",
        "    408.2705,\n",
        "    414.2428,\n",
        "]\n",
        "\n",
        "index = pd.date_range(start=\"1970\", end=\"2001\", freq=\"A\")\n",
        "livestock2 = pd.Series(data, index)\n",
        "livestock2.head()"
      ],
      "metadata": {
        "colab": {
          "base_uri": "https://localhost:8080/"
        },
        "id": "5Cr39PYbtRq9",
        "outputId": "d0ed897b-3665-4f33-e818-d1bb0265f61f"
      },
      "execution_count": 8,
      "outputs": [
        {
          "output_type": "execute_result",
          "data": {
            "text/plain": [
              "1970-12-31    263.9177\n",
              "1971-12-31    268.3072\n",
              "1972-12-31    260.6626\n",
              "1973-12-31    266.6394\n",
              "1974-12-31    277.5158\n",
              "Freq: A-DEC, dtype: float64"
            ]
          },
          "metadata": {},
          "execution_count": 8
        }
      ]
    },
    {
      "cell_type": "code",
      "execution_count": 9,
      "metadata": {
        "ExecuteTime": {
          "end_time": "2017-12-07T12:39:15.020317Z",
          "start_time": "2017-12-07T12:39:14.263100Z"
        },
        "id": "Zg50ZyS9efZ7",
        "colab": {
          "base_uri": "https://localhost:8080/"
        },
        "outputId": "c1763558-a174-4fd3-9634-26889106c9cc"
      },
      "outputs": [
        {
          "output_type": "execute_result",
          "data": {
            "text/plain": [
              "2005-01-01    41.7275\n",
              "2005-04-01    24.0418\n",
              "2005-07-01    32.3281\n",
              "2005-10-01    37.3287\n",
              "2006-01-01    46.2132\n",
              "Freq: QS-OCT, dtype: float64"
            ]
          },
          "metadata": {},
          "execution_count": 9
        },
        {
          "output_type": "stream",
          "name": "stdout",
          "text": [
            "\n",
            "===========\n",
            "\n"
          ]
        },
        {
          "output_type": "execute_result",
          "data": {
            "text/plain": [
              "2009-10-01    45.6423\n",
              "2010-01-01    59.7668\n",
              "2010-04-01    35.1919\n",
              "2010-07-01    44.3197\n",
              "2010-10-01    47.9137\n",
              "Freq: QS-OCT, dtype: float64"
            ]
          },
          "metadata": {},
          "execution_count": 9
        }
      ],
      "source": [
        "data = [407.9979, 403.4608, 413.8249, 428.105, 445.3387, 452.9942, 455.7402]\n",
        "index = pd.date_range(start=\"2001\", end=\"2008\", freq=\"A\")\n",
        "livestock3 = pd.Series(data, index)\n",
        "\n",
        "data = [\n",
        "    41.7275,\n",
        "    24.0418,\n",
        "    32.3281,\n",
        "    37.3287,\n",
        "    46.2132,\n",
        "    29.3463,\n",
        "    36.4829,\n",
        "    42.9777,\n",
        "    48.9015,\n",
        "    31.1802,\n",
        "    37.7179,\n",
        "    40.4202,\n",
        "    51.2069,\n",
        "    31.8872,\n",
        "    40.9783,\n",
        "    43.7725,\n",
        "    55.5586,\n",
        "    33.8509,\n",
        "    42.0764,\n",
        "    45.6423,\n",
        "    59.7668,\n",
        "    35.1919,\n",
        "    44.3197,\n",
        "    47.9137,\n",
        "]\n",
        "# Using pandas offset aliases and Anchored offset aliases:\n",
        "# StackOverflow: https://stackoverflow.com/a/35339226\n",
        "index = pd.date_range(start=\"2005\", end=\"2010-Q4\", freq=\"QS-OCT\")\n",
        "aust = pd.Series(data, index)\n",
        "aust.head()\n",
        "print(\"\\n===========\\n\")\n",
        "aust.tail()"
      ]
    },
    {
      "cell_type": "markdown",
      "metadata": {
        "id": "rHxIwNOQefZ-"
      },
      "source": [
        "## Simple Exponential Smoothing\n",
        "Lets use Simple Exponential Smoothing to forecast the below oil data."
      ]
    },
    {
      "cell_type": "code",
      "execution_count": 10,
      "metadata": {
        "ExecuteTime": {
          "end_time": "2017-12-07T12:39:15.189907Z",
          "start_time": "2017-12-07T12:39:15.022229Z"
        },
        "colab": {
          "base_uri": "https://localhost:8080/",
          "height": 0
        },
        "id": "ptolRGtmefZ-",
        "outputId": "14912401-38a3-4297-bdc4-336297750a0a"
      },
      "outputs": [
        {
          "output_type": "execute_result",
          "data": {
            "text/plain": [
              "Text(0.5, 0, 'Year')"
            ]
          },
          "metadata": {},
          "execution_count": 10
        },
        {
          "output_type": "execute_result",
          "data": {
            "text/plain": [
              "Text(0, 0.5, 'Oil (millions of tonnes)')"
            ]
          },
          "metadata": {},
          "execution_count": 10
        },
        {
          "output_type": "stream",
          "name": "stdout",
          "text": [
            "Figure 7.1: Oil production in Saudi Arabia from 1996 to 2007.\n"
          ]
        },
        {
          "output_type": "display_data",
          "data": {
            "text/plain": [
              "<Figure size 432x288 with 1 Axes>"
            ],
            "image/png": "[encoded data removed]"
          },
          "metadata": {
            "needs_background": "light"
          }
        }
      ],
      "source": [
        "ax = oildata.plot()\n",
        "ax.set_xlabel(\"Year\")\n",
        "ax.set_ylabel(\"Oil (millions of tonnes)\")\n",
        "print(\"Figure 7.1: Oil production in Saudi Arabia from 1996 to 2007.\")"
      ]
    },
    {
      "cell_type": "markdown",
      "metadata": {
        "id": "SnHSkWAxefZ_"
      },
      "source": [
        "Here we run three variants of simple exponential smoothing:\n",
        "1. In ```fit1``` we do not use the auto optimization but instead choose to explicitly provide the model with the $\\alpha=0.2$ parameter\n",
        "2. In ```fit2``` as above we choose an $\\alpha=0.6$\n",
        "3. In ```fit3``` we allow statsmodels to automatically find an optimized $\\alpha$ value for us. This is <u>the recommended approach</u>."
      ]
    },
    {
      "cell_type": "code",
      "source": [
        "fit1 = SimpleExpSmoothing(\n",
        "                          oildata,\n",
        "                          initialization_method=\"heuristic\"\n",
        "                          ).fit(smoothing_level=0.2,\n",
        "                                optimized=False\n",
        "                          )\n",
        "\n",
        "\n",
        "# Forecast beyond 31st Dec, 2007\n",
        "# For next three years:\n",
        "fcast1 = fit1.forecast(3)\n",
        "fcast1\n",
        "print(\"\\n===========\\n\")\n",
        "type(fcast1)\n",
        "print(\"\\n===========\\n\")\n",
        "fcast1 = fit1.forecast(3).rename(r\"$\\alpha=0.2$\")\n",
        "fcast1\n"
      ],
      "metadata": {
        "colab": {
          "base_uri": "https://localhost:8080/"
        },
        "id": "YhAfMN-mwcC6",
        "outputId": "6a174326-23af-4811-d887-74fc4e89c2f4"
      },
      "execution_count": 11,
      "outputs": [
        {
          "output_type": "execute_result",
          "data": {
            "text/plain": [
              "2008-12-31    483.068515\n",
              "2009-12-31    483.068515\n",
              "2010-12-31    483.068515\n",
              "Freq: A-DEC, dtype: float64"
            ]
          },
          "metadata": {},
          "execution_count": 11
        },
        {
          "output_type": "stream",
          "name": "stdout",
          "text": [
            "\n",
            "===========\n",
            "\n"
          ]
        },
        {
          "output_type": "execute_result",
          "data": {
            "text/plain": [
              "pandas.core.series.Series"
            ]
          },
          "metadata": {},
          "execution_count": 11
        },
        {
          "output_type": "stream",
          "name": "stdout",
          "text": [
            "\n",
            "===========\n",
            "\n"
          ]
        },
        {
          "output_type": "execute_result",
          "data": {
            "text/plain": [
              "2008-12-31    483.068515\n",
              "2009-12-31    483.068515\n",
              "2010-12-31    483.068515\n",
              "Freq: A-DEC, Name: $\\alpha=0.2$, dtype: float64"
            ]
          },
          "metadata": {},
          "execution_count": 11
        }
      ]
    },
    {
      "cell_type": "code",
      "source": [
        "fit2 = SimpleExpSmoothing(\n",
        "                          oildata,\n",
        "                          initialization_method=\"heuristic\"\n",
        "                          ).fit(smoothing_level=0.6,\n",
        "                                optimized=False\n",
        "                                )\n",
        "\n",
        "fcast2 = fit2.forecast(3).rename(r\"$\\alpha=0.6$\")\n",
        "fcast2"
      ],
      "metadata": {
        "colab": {
          "base_uri": "https://localhost:8080/"
        },
        "id": "0u4Ezbuax1s_",
        "outputId": "7fbe5f0b-6807-431b-a72f-2b59ca68bc28"
      },
      "execution_count": 12,
      "outputs": [
        {
          "output_type": "execute_result",
          "data": {
            "text/plain": [
              "2008-12-31    501.837031\n",
              "2009-12-31    501.837031\n",
              "2010-12-31    501.837031\n",
              "Freq: A-DEC, Name: $\\alpha=0.6$, dtype: float64"
            ]
          },
          "metadata": {},
          "execution_count": 12
        }
      ]
    },
    {
      "cell_type": "code",
      "source": [
        "fit3 = SimpleExpSmoothing(\n",
        "                          oildata,\n",
        "                          initialization_method=\"estimated\"\n",
        "                          ).fit()\n",
        "                          \n",
        "fcast3 = fit3.forecast(3).rename(r\"$\\alpha=%s$\" % fit3.model.params[\"smoothing_level\"])\n",
        "fcast3"
      ],
      "metadata": {
        "colab": {
          "base_uri": "https://localhost:8080/"
        },
        "id": "Ez41WKrnx7ow",
        "outputId": "eacba258-e959-4460-bed3-780bc72a86c2"
      },
      "execution_count": 13,
      "outputs": [
        {
          "output_type": "execute_result",
          "data": {
            "text/plain": [
              "2008-12-31    496.49349\n",
              "2009-12-31    496.49349\n",
              "2010-12-31    496.49349\n",
              "Freq: A-DEC, Name: $\\alpha=0.8920002400624609$, dtype: float64"
            ]
          },
          "metadata": {},
          "execution_count": 13
        }
      ]
    },
    {
      "cell_type": "code",
      "execution_count": 14,
      "metadata": {
        "ExecuteTime": {
          "end_time": "2017-12-07T12:39:15.785068Z",
          "start_time": "2017-12-07T12:39:15.191930Z"
        },
        "colab": {
          "base_uri": "https://localhost:8080/",
          "height": 0
        },
        "id": "JtSZ1cuqefZ_",
        "outputId": "a90d3bb1-89fe-4717-cda2-108c249fb23e"
      },
      "outputs": [
        {
          "output_type": "display_data",
          "data": {
            "text/plain": [
              "<Figure size 864x576 with 1 Axes>"
            ],
            "image/png": "[encoded data removed]"
          },
          "metadata": {
            "needs_background": "light"
          }
        }
      ],
      "source": [
        "# Plot figures now:\n",
        "plt.figure(figsize=(12, 8))\n",
        "\n",
        "## Oil data \n",
        "# Original oil data\n",
        "plt.plot(oildata, marker=\"o\", color=\"black\")\n",
        "\n",
        "## alpha = 0.2\n",
        "# Forecast fitted to existing time-values\n",
        "plt.plot(fit1.fittedvalues, marker=\"o\", color=\"blue\")\n",
        "# Forecasted valuse for next 3-years\n",
        "_ = plt.plot(fcast1, marker=\"o\", color=\"blue\", label = fcast1.name)\n",
        "\n",
        "## alpha = 0.6\n",
        "plt.plot(fit2.fittedvalues, marker=\"o\", color=\"red\")\n",
        "_ = plt.plot(fcast2, marker=\"o\", color=\"red\", label = fcast2.name )\n",
        "\n",
        "## alpha: optimized\n",
        "plt.plot(fit3.fittedvalues, marker=\"o\", color=\"green\")\n",
        "_  = plt.plot(fcast3, marker=\"o\", color=\"green\", label = fcast3.name)\n",
        "\n",
        "# Legend\n",
        "plt.legend();"
      ]
    },
    {
      "cell_type": "markdown",
      "metadata": {
        "id": "n0drIlK9efaA"
      },
      "source": [
        "## Holt's Method\n",
        "\n",
        "Lets take a look at another example.\n",
        "This time we use air pollution data and the Holt's Method.\n",
        "We will fit three examples again.\n",
        "1. In ```fit1``` we again choose not to use the optimizer and provide explicit values for $\\alpha=0.8$ and $\\beta=0.2$\n",
        "2. In ```fit2``` we do the same as in ```fit1``` but choose to use an exponential model rather than a Holt's additive model.\n",
        "3. In ```fit3``` we used a damped versions of the Holt's additive model but allow the dampening parameter $\\phi$ to be optimized while fixing the values for $\\alpha=0.8$ and $\\beta=0.2$"
      ]
    },
    {
      "cell_type": "code",
      "source": [
        "fit1 = Holt(\n",
        "            air,\n",
        "            initialization_method=\"estimated\"\n",
        "            ).fit(smoothing_level=0.8,\n",
        "                  smoothing_trend=0.2,\n",
        "                  optimized=False\n",
        "                  )\n",
        "\n",
        "fcast1 = fit1.forecast(5).rename(\"Holt's linear trend\")\n",
        "fcast1"
      ],
      "metadata": {
        "colab": {
          "base_uri": "https://localhost:8080/"
        },
        "id": "V-pqCWJN0nBR",
        "outputId": "67deee36-6795-4dd1-f00f-a9d330e76a9f"
      },
      "execution_count": 15,
      "outputs": [
        {
          "output_type": "execute_result",
          "data": {
            "text/plain": [
              "2005-12-31    43.625006\n",
              "2006-12-31    45.363183\n",
              "2007-12-31    47.101359\n",
              "2008-12-31    48.839536\n",
              "2009-12-31    50.577713\n",
              "Freq: A-DEC, Name: Holt's linear trend, dtype: float64"
            ]
          },
          "metadata": {},
          "execution_count": 15
        }
      ]
    },
    {
      "cell_type": "code",
      "source": [
        "fit2 = Holt(\n",
        "            air,\n",
        "            exponential=True,\n",
        "            initialization_method=\"estimated\"\n",
        "            ).fit(smoothing_level=0.8,\n",
        "                  smoothing_trend=0.2,\n",
        "                  optimized=False\n",
        "                  )\n",
        "            \n",
        "fcast2 = fit2.forecast(5).rename(\"Exponential trend\")\n",
        "fcast2"
      ],
      "metadata": {
        "colab": {
          "base_uri": "https://localhost:8080/"
        },
        "id": "K5Z7g0TI0q7N",
        "outputId": "5f00f9be-8411-403d-989a-66717d0f097b"
      },
      "execution_count": 16,
      "outputs": [
        {
          "output_type": "execute_result",
          "data": {
            "text/plain": [
              "2005-12-31    44.269806\n",
              "2006-12-31    46.636686\n",
              "2007-12-31    49.130110\n",
              "2008-12-31    51.756845\n",
              "2009-12-31    54.524018\n",
              "Freq: A-DEC, Name: Exponential trend, dtype: float64"
            ]
          },
          "metadata": {},
          "execution_count": 16
        }
      ]
    },
    {
      "cell_type": "code",
      "source": [
        "fit3 = Holt(\n",
        "            air,\n",
        "            damped_trend=True,\n",
        "            initialization_method=\"estimated\"\n",
        "            ).fit(smoothing_level=0.8,\n",
        "                  smoothing_trend=0.2\n",
        "                  )\n",
        "\n",
        "            \n",
        "fcast3 = fit3.forecast(5).rename(\"Additive damped trend\")\n",
        "fcast3"
      ],
      "metadata": {
        "colab": {
          "base_uri": "https://localhost:8080/"
        },
        "id": "aTpy22YY0tYi",
        "outputId": "42ce20ab-6909-4f6c-9fcb-667f8c631474"
      },
      "execution_count": 17,
      "outputs": [
        {
          "output_type": "execute_result",
          "data": {
            "text/plain": [
              "2005-12-31    42.844716\n",
              "2006-12-31    43.812170\n",
              "2007-12-31    44.661540\n",
              "2008-12-31    45.407238\n",
              "2009-12-31    46.061918\n",
              "Freq: A-DEC, Name: Additive damped trend, dtype: float64"
            ]
          },
          "metadata": {},
          "execution_count": 17
        }
      ]
    },
    {
      "cell_type": "code",
      "execution_count": 18,
      "metadata": {
        "ExecuteTime": {
          "end_time": "2017-12-07T12:39:16.114361Z",
          "start_time": "2017-12-07T12:39:15.786542Z"
        },
        "colab": {
          "base_uri": "https://localhost:8080/",
          "height": 483
        },
        "id": "-KfRH-2hefaB",
        "outputId": "fa9dfc81-2c3b-480f-8396-464c0845933f"
      },
      "outputs": [
        {
          "output_type": "display_data",
          "data": {
            "text/plain": [
              "<Figure size 864x576 with 1 Axes>"
            ],
            "image/png": "[encoded data removed]"
          },
          "metadata": {
            "needs_background": "light"
          }
        }
      ],
      "source": [
        "# Plot figures now:\n",
        "plt.figure(figsize=(12, 8))\n",
        "\n",
        "plt.plot(air, marker=\"o\", color=\"black\")\n",
        "plt.plot(fit1.fittedvalues, color=\"blue\")\n",
        "_ = plt.plot(fcast1, marker=\"o\", color=\"blue\", label =fcast1.name)\n",
        "plt.plot(fit2.fittedvalues, color=\"red\")\n",
        "_ = plt.plot(fcast2, marker=\"o\", color=\"red\", label =fcast2.name)\n",
        "plt.plot(fit3.fittedvalues, color=\"green\")\n",
        "_ = plt.plot(fcast3, marker=\"o\", color=\"green\", label =fcast3.name)\n",
        "plt.legend();"
      ]
    },
    {
      "cell_type": "markdown",
      "metadata": {
        "id": "0EUcycS4efaC"
      },
      "source": [
        "## Holt's method: Seasonally adjusted data\n",
        "Lets look at some seasonally adjusted livestock data. We fit five Holt's models.\n",
        "The below table allows us to compare results when we use exponential versus additive and damped versus non-damped.\n",
        " \n",
        "Note: ```fit4``` does not allow the parameter $\\phi$ to be optimized by providing a fixed value of $\\phi=0.98$"
      ]
    },
    {
      "cell_type": "code",
      "source": [
        "fit1 = SimpleExpSmoothing(\n",
        "                          livestock2,\n",
        "                          initialization_method=\"estimated\"\n",
        "                          ).fit()\n",
        "\n",
        "fit2 = Holt(\n",
        "            livestock2,\n",
        "            initialization_method=\"estimated\"\n",
        "            ).fit()\n",
        "\n",
        "fit3 = Holt(\n",
        "            livestock2,\n",
        "            exponential=True,\n",
        "            initialization_method=\"estimated\"\n",
        "            ).fit()\n",
        "\n",
        "fit4 = Holt(\n",
        "            livestock2,\n",
        "            damped_trend=True,\n",
        "            initialization_method=\"estimated\"\n",
        "            ).fit(damping_trend=0.98)\n",
        "\n",
        "\n",
        "fit5 = Holt(\n",
        "             livestock2,\n",
        "             exponential=True,\n",
        "             damped_trend=True,\n",
        "             initialization_method=\"estimated\"\n",
        "             ).fit()\n",
        "             "
      ],
      "metadata": {
        "id": "L0IRwZPq3SE0"
      },
      "execution_count": 29,
      "outputs": []
    },
    {
      "cell_type": "code",
      "source": [
        "# From our fitted model, we will extract\n",
        "#  values of these parameters:\n",
        "\n",
        "params = [\n",
        "          \"smoothing_level\",\n",
        "          \"smoothing_trend\",\n",
        "          \"damping_trend\",\n",
        "          \"initial_level\",\n",
        "          \"initial_trend\",\n",
        "         ]"
      ],
      "metadata": {
        "id": "sYtJnGvJ3yBz"
      },
      "execution_count": 20,
      "outputs": []
    },
    {
      "cell_type": "code",
      "source": [
        "# This dataframe has no data:\n",
        "\n",
        "results = pd.DataFrame(\n",
        "                       index=[r\"$\\alpha$\", r\"$\\beta$\", r\"$\\phi$\", r\"$l_0$\", \"$b_0$\", \"SSE\"],\n",
        "                       columns=[\"SES\", \"Holt's\", \"Exponential\", \"Additive\", \"Multiplicative\"],\n",
        "                       )\n",
        "\n",
        "results"
      ],
      "metadata": {
        "colab": {
          "base_uri": "https://localhost:8080/",
          "height": 238
        },
        "id": "nmt5pmib38EV",
        "outputId": "7c8f7956-3906-4179-c5bb-2778e880cd8d"
      },
      "execution_count": 21,
      "outputs": [
        {
          "output_type": "execute_result",
          "data": {
            "text/plain": [
              "          SES Holt's Exponential Additive Multiplicative\n",
              "$\\alpha$  NaN    NaN         NaN      NaN            NaN\n",
              "$\\beta$   NaN    NaN         NaN      NaN            NaN\n",
              "$\\phi$    NaN    NaN         NaN      NaN            NaN\n",
              "$l_0$     NaN    NaN         NaN      NaN            NaN\n",
              "$b_0$     NaN    NaN         NaN      NaN            NaN\n",
              "SSE       NaN    NaN         NaN      NaN            NaN"
            ],
            "text/html": [
              "\n",
              "  <div id=\"df-e1ff88f9-27a1-4ff8-9c7b-5c1a65f0bf32\">\n",
              "    <div class=\"colab-df-container\">\n",
              "      <div>\n",
              "<style scoped>\n",
              "    .dataframe tbody tr th:only-of-type {\n",
              "        vertical-align: middle;\n",
              "    }\n",
              "\n",
              "    .dataframe tbody tr th {\n",
              "        vertical-align: top;\n",
              "    }\n",
              "\n",
              "    .dataframe thead th {\n",
              "        text-align: right;\n",
              "    }\n",
              "</style>\n",
              "<table border=\"1\" class=\"dataframe\">\n",
              "  <thead>\n",
              "    <tr style=\"text-align: right;\">\n",
              "      <th></th>\n",
              "      <th>SES</th>\n",
              "      <th>Holt's</th>\n",
              "      <th>Exponential</th>\n",
              "      <th>Additive</th>\n",
              "      <th>Multiplicative</th>\n",
              "    </tr>\n",
              "  </thead>\n",
              "  <tbody>\n",
              "    <tr>\n",
              "      <th>$\\alpha$</th>\n",
              "      <td>NaN</td>\n",
              "      <td>NaN</td>\n",
              "      <td>NaN</td>\n",
              "      <td>NaN</td>\n",
              "      <td>NaN</td>\n",
              "    </tr>\n",
              "    <tr>\n",
              "      <th>$\\beta$</th>\n",
              "      <td>NaN</td>\n",
              "      <td>NaN</td>\n",
              "      <td>NaN</td>\n",
              "      <td>NaN</td>\n",
              "      <td>NaN</td>\n",
              "    </tr>\n",
              "    <tr>\n",
              "      <th>$\\phi$</th>\n",
              "      <td>NaN</td>\n",
              "      <td>NaN</td>\n",
              "      <td>NaN</td>\n",
              "      <td>NaN</td>\n",
              "      <td>NaN</td>\n",
              "    </tr>\n",
              "    <tr>\n",
              "      <th>$l_0$</th>\n",
              "      <td>NaN</td>\n",
              "      <td>NaN</td>\n",
              "      <td>NaN</td>\n",
              "      <td>NaN</td>\n",
              "      <td>NaN</td>\n",
              "    </tr>\n",
              "    <tr>\n",
              "      <th>$b_0$</th>\n",
              "      <td>NaN</td>\n",
              "      <td>NaN</td>\n",
              "      <td>NaN</td>\n",
              "      <td>NaN</td>\n",
              "      <td>NaN</td>\n",
              "    </tr>\n",
              "    <tr>\n",
              "      <th>SSE</th>\n",
              "      <td>NaN</td>\n",
              "      <td>NaN</td>\n",
              "      <td>NaN</td>\n",
              "      <td>NaN</td>\n",
              "      <td>NaN</td>\n",
              "    </tr>\n",
              "  </tbody>\n",
              "</table>\n",
              "</div>\n",
              "      <button class=\"colab-df-convert\" onclick=\"convertToInteractive('df-e1ff88f9-27a1-4ff8-9c7b-5c1a65f0bf32')\"\n",
              "              title=\"Convert this dataframe to an interactive table.\"\n",
              "              style=\"display:none;\">\n",
              "        \n",
              "  <svg xmlns=\"http://www.w3.org/2000/svg\" height=\"24px\"viewBox=\"0 0 24 24\"\n",
              "       width=\"24px\">\n",
              "    <path d=\"M0 0h24v24H0V0z\" fill=\"none\"/>\n",
              "    <path d=\"M18.56 5.44l.94 2.06.94-2.06 2.06-.94-2.06-.94-.94-2.06-.94 2.06-2.06.94zm-11 1L8.5 8.5l.94-2.06 2.06-.94-2.06-.94L8.5 2.5l-.94 2.06-2.06.94zm10 10l.94 2.06.94-2.06 2.06-.94-2.06-.94-.94-2.06-.94 2.06-2.06.94z\"/><path d=\"M17.41 7.96l-1.37-1.37c-.4-.4-.92-.59-1.43-.59-.52 0-1.04.2-1.43.59L10.3 9.45l-7.72 7.72c-.78.78-.78 2.05 0 2.83L4 21.41c.39.39.9.59 1.41.59.51 0 1.02-.2 1.41-.59l7.78-7.78 2.81-2.81c.8-.78.8-2.07 0-2.86zM5.41 20L4 18.59l7.72-7.72 1.47 1.35L5.41 20z\"/>\n",
              "  </svg>\n",
              "      </button>\n",
              "      \n",
              "  <style>\n",
              "    .colab-df-container {\n",
              "      display:flex;\n",
              "      flex-wrap:wrap;\n",
              "      gap: 12px;\n",
              "    }\n",
              "\n",
              "    .colab-df-convert {\n",
              "      background-color: #E8F0FE;\n",
              "      border: none;\n",
              "      border-radius: 50%;\n",
              "      cursor: pointer;\n",
              "      display: none;\n",
              "      fill: #1967D2;\n",
              "      height: 32px;\n",
              "      padding: 0 0 0 0;\n",
              "      width: 32px;\n",
              "    }\n",
              "\n",
              "    .colab-df-convert:hover {\n",
              "      background-color: #E2EBFA;\n",
              "      box-shadow: 0px 1px 2px rgba(60, 64, 67, 0.3), 0px 1px 3px 1px rgba(60, 64, 67, 0.15);\n",
              "      fill: #174EA6;\n",
              "    }\n",
              "\n",
              "    [theme=dark] .colab-df-convert {\n",
              "      background-color: #3B4455;\n",
              "      fill: #D2E3FC;\n",
              "    }\n",
              "\n",
              "    [theme=dark] .colab-df-convert:hover {\n",
              "      background-color: #434B5C;\n",
              "      box-shadow: 0px 1px 3px 1px rgba(0, 0, 0, 0.15);\n",
              "      filter: drop-shadow(0px 1px 2px rgba(0, 0, 0, 0.3));\n",
              "      fill: #FFFFFF;\n",
              "    }\n",
              "  </style>\n",
              "\n",
              "      <script>\n",
              "        const buttonEl =\n",
              "          document.querySelector('#df-e1ff88f9-27a1-4ff8-9c7b-5c1a65f0bf32 button.colab-df-convert');\n",
              "        buttonEl.style.display =\n",
              "          google.colab.kernel.accessAllowed ? 'block' : 'none';\n",
              "\n",
              "        async function convertToInteractive(key) {\n",
              "          const element = document.querySelector('#df-e1ff88f9-27a1-4ff8-9c7b-5c1a65f0bf32');\n",
              "          const dataTable =\n",
              "            await google.colab.kernel.invokeFunction('convertToInteractive',\n",
              "                                                     [key], {});\n",
              "          if (!dataTable) return;\n",
              "\n",
              "          const docLinkHtml = 'Like what you see? Visit the ' +\n",
              "            '<a target=\"_blank\" href=https://colab.research.google.com/notebooks/data_table.ipynb>data table notebook</a>'\n",
              "            + ' to learn more about interactive tables.';\n",
              "          element.innerHTML = '';\n",
              "          dataTable['output_type'] = 'display_data';\n",
              "          await google.colab.output.renderOutput(dataTable, element);\n",
              "          const docLink = document.createElement('div');\n",
              "          docLink.innerHTML = docLinkHtml;\n",
              "          element.appendChild(docLink);\n",
              "        }\n",
              "      </script>\n",
              "    </div>\n",
              "  </div>\n",
              "  "
            ]
          },
          "metadata": {},
          "execution_count": 21
        }
      ]
    },
    {
      "cell_type": "markdown",
      "source": [
        "Return values of `fit()` are explained [here](https://www.statsmodels.org/dev/generated/statsmodels.tsa.holtwinters.HoltWintersResults.html#statsmodels.tsa.holtwinters.HoltWintersResults). One of the return values are `params`."
      ],
      "metadata": {
        "id": "kP-gqcle8CEn"
      }
    },
    {
      "cell_type": "code",
      "source": [
        "# fit1() returns a dict:\n",
        "\n",
        "fit1.params"
      ],
      "metadata": {
        "colab": {
          "base_uri": "https://localhost:8080/"
        },
        "id": "6LopCfTa8bTG",
        "outputId": "3c302a82-c8cf-4216-b068-da07197bb9bb"
      },
      "execution_count": 30,
      "outputs": [
        {
          "output_type": "execute_result",
          "data": {
            "text/plain": [
              "{'smoothing_level': 0.9999999850988388,\n",
              " 'smoothing_trend': nan,\n",
              " 'smoothing_seasonal': nan,\n",
              " 'damping_trend': nan,\n",
              " 'initial_level': 263.9177031372617,\n",
              " 'initial_trend': nan,\n",
              " 'initial_seasons': array([], dtype=float64),\n",
              " 'use_boxcox': False,\n",
              " 'lamda': None,\n",
              " 'remove_bias': False}"
            ]
          },
          "metadata": {},
          "execution_count": 30
        }
      ]
    },
    {
      "cell_type": "code",
      "source": [
        "# We can obtain value of one of the \n",
        "# parameters, as:\n",
        "fit1.params[\"smoothing_level\"]\n"
      ],
      "metadata": {
        "colab": {
          "base_uri": "https://localhost:8080/"
        },
        "id": "kRxJCV2i4aOX",
        "outputId": "193544f4-0870-4411-fdfa-634470becb0b"
      },
      "execution_count": 31,
      "outputs": [
        {
          "output_type": "execute_result",
          "data": {
            "text/plain": [
              "0.9999999850988388"
            ]
          },
          "metadata": {},
          "execution_count": 31
        }
      ]
    },
    {
      "cell_type": "markdown",
      "source": [
        "Another parameter returned by `fit()` is sse (sum of squared errors). See [here](https://www.statsmodels.org/dev/generated/statsmodels.tsa.holtwinters.HoltWintersResults.html#statsmodels.tsa.holtwinters.HoltWintersResults)."
      ],
      "metadata": {
        "id": "MMeVjhrO84EQ"
      }
    },
    {
      "cell_type": "code",
      "source": [
        "# Sum of squared errors\n",
        "fit1.sse"
      ],
      "metadata": {
        "colab": {
          "base_uri": "https://localhost:8080/"
        },
        "id": "Puc3dj3Q8uot",
        "outputId": "cbae7e22-e963-4954-da64-84a6e83f82d5"
      },
      "execution_count": 32,
      "outputs": [
        {
          "output_type": "execute_result",
          "data": {
            "text/plain": [
              "6761.350235004975"
            ]
          },
          "metadata": {},
          "execution_count": 32
        }
      ]
    },
    {
      "cell_type": "code",
      "source": [
        "# A small experiment with blank dataframe:\n",
        "# Blank DataFrame with just index and column name defined:\n",
        "\n",
        "xyz = pd.DataFrame(index = [1,2,3], columns = [\"mnp\"])\n",
        "xyz[\"mnp\"] = [0.22,0.44,np.NaN]\n",
        "xyz\n"
      ],
      "metadata": {
        "colab": {
          "base_uri": "https://localhost:8080/",
          "height": 143
        },
        "id": "gJ_oVfCg4Il5",
        "outputId": "d1b85963-45ee-415c-9cea-25f9688afe63"
      },
      "execution_count": 33,
      "outputs": [
        {
          "output_type": "execute_result",
          "data": {
            "text/plain": [
              "    mnp\n",
              "1  0.22\n",
              "2  0.44\n",
              "3   NaN"
            ],
            "text/html": [
              "\n",
              "  <div id=\"df-4773922b-3491-45bb-abf7-db667d30a7ab\">\n",
              "    <div class=\"colab-df-container\">\n",
              "      <div>\n",
              "<style scoped>\n",
              "    .dataframe tbody tr th:only-of-type {\n",
              "        vertical-align: middle;\n",
              "    }\n",
              "\n",
              "    .dataframe tbody tr th {\n",
              "        vertical-align: top;\n",
              "    }\n",
              "\n",
              "    .dataframe thead th {\n",
              "        text-align: right;\n",
              "    }\n",
              "</style>\n",
              "<table border=\"1\" class=\"dataframe\">\n",
              "  <thead>\n",
              "    <tr style=\"text-align: right;\">\n",
              "      <th></th>\n",
              "      <th>mnp</th>\n",
              "    </tr>\n",
              "  </thead>\n",
              "  <tbody>\n",
              "    <tr>\n",
              "      <th>1</th>\n",
              "      <td>0.22</td>\n",
              "    </tr>\n",
              "    <tr>\n",
              "      <th>2</th>\n",
              "      <td>0.44</td>\n",
              "    </tr>\n",
              "    <tr>\n",
              "      <th>3</th>\n",
              "      <td>NaN</td>\n",
              "    </tr>\n",
              "  </tbody>\n",
              "</table>\n",
              "</div>\n",
              "      <button class=\"colab-df-convert\" onclick=\"convertToInteractive('df-4773922b-3491-45bb-abf7-db667d30a7ab')\"\n",
              "              title=\"Convert this dataframe to an interactive table.\"\n",
              "              style=\"display:none;\">\n",
              "        \n",
              "  <svg xmlns=\"http://www.w3.org/2000/svg\" height=\"24px\"viewBox=\"0 0 24 24\"\n",
              "       width=\"24px\">\n",
              "    <path d=\"M0 0h24v24H0V0z\" fill=\"none\"/>\n",
              "    <path d=\"M18.56 5.44l.94 2.06.94-2.06 2.06-.94-2.06-.94-.94-2.06-.94 2.06-2.06.94zm-11 1L8.5 8.5l.94-2.06 2.06-.94-2.06-.94L8.5 2.5l-.94 2.06-2.06.94zm10 10l.94 2.06.94-2.06 2.06-.94-2.06-.94-.94-2.06-.94 2.06-2.06.94z\"/><path d=\"M17.41 7.96l-1.37-1.37c-.4-.4-.92-.59-1.43-.59-.52 0-1.04.2-1.43.59L10.3 9.45l-7.72 7.72c-.78.78-.78 2.05 0 2.83L4 21.41c.39.39.9.59 1.41.59.51 0 1.02-.2 1.41-.59l7.78-7.78 2.81-2.81c.8-.78.8-2.07 0-2.86zM5.41 20L4 18.59l7.72-7.72 1.47 1.35L5.41 20z\"/>\n",
              "  </svg>\n",
              "      </button>\n",
              "      \n",
              "  <style>\n",
              "    .colab-df-container {\n",
              "      display:flex;\n",
              "      flex-wrap:wrap;\n",
              "      gap: 12px;\n",
              "    }\n",
              "\n",
              "    .colab-df-convert {\n",
              "      background-color: #E8F0FE;\n",
              "      border: none;\n",
              "      border-radius: 50%;\n",
              "      cursor: pointer;\n",
              "      display: none;\n",
              "      fill: #1967D2;\n",
              "      height: 32px;\n",
              "      padding: 0 0 0 0;\n",
              "      width: 32px;\n",
              "    }\n",
              "\n",
              "    .colab-df-convert:hover {\n",
              "      background-color: #E2EBFA;\n",
              "      box-shadow: 0px 1px 2px rgba(60, 64, 67, 0.3), 0px 1px 3px 1px rgba(60, 64, 67, 0.15);\n",
              "      fill: #174EA6;\n",
              "    }\n",
              "\n",
              "    [theme=dark] .colab-df-convert {\n",
              "      background-color: #3B4455;\n",
              "      fill: #D2E3FC;\n",
              "    }\n",
              "\n",
              "    [theme=dark] .colab-df-convert:hover {\n",
              "      background-color: #434B5C;\n",
              "      box-shadow: 0px 1px 3px 1px rgba(0, 0, 0, 0.15);\n",
              "      filter: drop-shadow(0px 1px 2px rgba(0, 0, 0, 0.3));\n",
              "      fill: #FFFFFF;\n",
              "    }\n",
              "  </style>\n",
              "\n",
              "      <script>\n",
              "        const buttonEl =\n",
              "          document.querySelector('#df-4773922b-3491-45bb-abf7-db667d30a7ab button.colab-df-convert');\n",
              "        buttonEl.style.display =\n",
              "          google.colab.kernel.accessAllowed ? 'block' : 'none';\n",
              "\n",
              "        async function convertToInteractive(key) {\n",
              "          const element = document.querySelector('#df-4773922b-3491-45bb-abf7-db667d30a7ab');\n",
              "          const dataTable =\n",
              "            await google.colab.kernel.invokeFunction('convertToInteractive',\n",
              "                                                     [key], {});\n",
              "          if (!dataTable) return;\n",
              "\n",
              "          const docLinkHtml = 'Like what you see? Visit the ' +\n",
              "            '<a target=\"_blank\" href=https://colab.research.google.com/notebooks/data_table.ipynb>data table notebook</a>'\n",
              "            + ' to learn more about interactive tables.';\n",
              "          element.innerHTML = '';\n",
              "          dataTable['output_type'] = 'display_data';\n",
              "          await google.colab.output.renderOutput(dataTable, element);\n",
              "          const docLink = document.createElement('div');\n",
              "          docLink.innerHTML = docLinkHtml;\n",
              "          element.appendChild(docLink);\n",
              "        }\n",
              "      </script>\n",
              "    </div>\n",
              "  </div>\n",
              "  "
            ]
          },
          "metadata": {},
          "execution_count": 33
        }
      ]
    },
    {
      "cell_type": "code",
      "source": [
        " [fit1.params[p] for p in params] + [fit1.sse]\n",
        " "
      ],
      "metadata": {
        "id": "T8FHno7CjTC3",
        "outputId": "e5b0aa56-4bb2-4881-8a95-94f0d75e8a3a",
        "colab": {
          "base_uri": "https://localhost:8080/"
        }
      },
      "execution_count": 35,
      "outputs": [
        {
          "output_type": "execute_result",
          "data": {
            "text/plain": [
              "[0.9999999850988388, nan, nan, 263.9177031372617, nan, 6761.350235004975]"
            ]
          },
          "metadata": {},
          "execution_count": 35
        }
      ]
    },
    {
      "cell_type": "code",
      "source": [
        "# Similar to above, RHS is a list of 6-items:\n",
        "\n",
        "[fit1.params[p] for p in params] + [fit1.sse]\n",
        "\n",
        "print(\"\\n=================\\n\")\n",
        "\n",
        "results[\"SES\"] = [fit1.params[p] for p in params] + [fit1.sse]\n",
        "results[\"SES\"]"
      ],
      "metadata": {
        "colab": {
          "base_uri": "https://localhost:8080/"
        },
        "id": "5eCPLKwM9uQU",
        "outputId": "ffa51dc2-106d-4797-cb05-f04029158cae"
      },
      "execution_count": 37,
      "outputs": [
        {
          "output_type": "execute_result",
          "data": {
            "text/plain": [
              "[0.9999999850988388, nan, nan, 263.9177031372617, nan, 6761.350235004975]"
            ]
          },
          "metadata": {},
          "execution_count": 37
        },
        {
          "output_type": "stream",
          "name": "stdout",
          "text": [
            "\n",
            "=================\n",
            "\n"
          ]
        },
        {
          "output_type": "execute_result",
          "data": {
            "text/plain": [
              "$\\alpha$       1.000000\n",
              "$\\beta$             NaN\n",
              "$\\phi$              NaN\n",
              "$l_0$        263.917703\n",
              "$b_0$               NaN\n",
              "SSE         6761.350235\n",
              "Name: SES, dtype: float64"
            ]
          },
          "metadata": {},
          "execution_count": 37
        }
      ]
    },
    {
      "cell_type": "code",
      "execution_count": 38,
      "metadata": {
        "ExecuteTime": {
          "end_time": "2017-12-07T12:39:16.605618Z",
          "start_time": "2017-12-07T12:39:16.116424Z"
        },
        "colab": {
          "base_uri": "https://localhost:8080/",
          "height": 238
        },
        "id": "DWFTPZRBefaC",
        "outputId": "16d1a71c-eefd-4eff-e254-93bc1733934f"
      },
      "outputs": [
        {
          "output_type": "execute_result",
          "data": {
            "text/plain": [
              "                  SES       Holt's  Exponential     Additive  Multiplicative\n",
              "$\\alpha$     1.000000     0.974338     0.977642     0.978843        0.974912\n",
              "$\\beta$           NaN     0.000000     0.000000     0.000008        0.000000\n",
              "$\\phi$            NaN          NaN          NaN     0.980000        0.981646\n",
              "$l_0$      263.917703   258.882683   260.335599   257.357716      258.951817\n",
              "$b_0$             NaN     5.010856     1.013780     6.645297        1.038144\n",
              "SSE       6761.350235  6004.138207  6104.194782  6036.597169     6081.995045"
            ],
            "text/html": [
              "\n",
              "  <div id=\"df-49a09a07-f86a-4655-bed2-0ee5c3a418fb\">\n",
              "    <div class=\"colab-df-container\">\n",
              "      <div>\n",
              "<style scoped>\n",
              "    .dataframe tbody tr th:only-of-type {\n",
              "        vertical-align: middle;\n",
              "    }\n",
              "\n",
              "    .dataframe tbody tr th {\n",
              "        vertical-align: top;\n",
              "    }\n",
              "\n",
              "    .dataframe thead th {\n",
              "        text-align: right;\n",
              "    }\n",
              "</style>\n",
              "<table border=\"1\" class=\"dataframe\">\n",
              "  <thead>\n",
              "    <tr style=\"text-align: right;\">\n",
              "      <th></th>\n",
              "      <th>SES</th>\n",
              "      <th>Holt's</th>\n",
              "      <th>Exponential</th>\n",
              "      <th>Additive</th>\n",
              "      <th>Multiplicative</th>\n",
              "    </tr>\n",
              "  </thead>\n",
              "  <tbody>\n",
              "    <tr>\n",
              "      <th>$\\alpha$</th>\n",
              "      <td>1.000000</td>\n",
              "      <td>0.974338</td>\n",
              "      <td>0.977642</td>\n",
              "      <td>0.978843</td>\n",
              "      <td>0.974912</td>\n",
              "    </tr>\n",
              "    <tr>\n",
              "      <th>$\\beta$</th>\n",
              "      <td>NaN</td>\n",
              "      <td>0.000000</td>\n",
              "      <td>0.000000</td>\n",
              "      <td>0.000008</td>\n",
              "      <td>0.000000</td>\n",
              "    </tr>\n",
              "    <tr>\n",
              "      <th>$\\phi$</th>\n",
              "      <td>NaN</td>\n",
              "      <td>NaN</td>\n",
              "      <td>NaN</td>\n",
              "      <td>0.980000</td>\n",
              "      <td>0.981646</td>\n",
              "    </tr>\n",
              "    <tr>\n",
              "      <th>$l_0$</th>\n",
              "      <td>263.917703</td>\n",
              "      <td>258.882683</td>\n",
              "      <td>260.335599</td>\n",
              "      <td>257.357716</td>\n",
              "      <td>258.951817</td>\n",
              "    </tr>\n",
              "    <tr>\n",
              "      <th>$b_0$</th>\n",
              "      <td>NaN</td>\n",
              "      <td>5.010856</td>\n",
              "      <td>1.013780</td>\n",
              "      <td>6.645297</td>\n",
              "      <td>1.038144</td>\n",
              "    </tr>\n",
              "    <tr>\n",
              "      <th>SSE</th>\n",
              "      <td>6761.350235</td>\n",
              "      <td>6004.138207</td>\n",
              "      <td>6104.194782</td>\n",
              "      <td>6036.597169</td>\n",
              "      <td>6081.995045</td>\n",
              "    </tr>\n",
              "  </tbody>\n",
              "</table>\n",
              "</div>\n",
              "      <button class=\"colab-df-convert\" onclick=\"convertToInteractive('df-49a09a07-f86a-4655-bed2-0ee5c3a418fb')\"\n",
              "              title=\"Convert this dataframe to an interactive table.\"\n",
              "              style=\"display:none;\">\n",
              "        \n",
              "  <svg xmlns=\"http://www.w3.org/2000/svg\" height=\"24px\"viewBox=\"0 0 24 24\"\n",
              "       width=\"24px\">\n",
              "    <path d=\"M0 0h24v24H0V0z\" fill=\"none\"/>\n",
              "    <path d=\"M18.56 5.44l.94 2.06.94-2.06 2.06-.94-2.06-.94-.94-2.06-.94 2.06-2.06.94zm-11 1L8.5 8.5l.94-2.06 2.06-.94-2.06-.94L8.5 2.5l-.94 2.06-2.06.94zm10 10l.94 2.06.94-2.06 2.06-.94-2.06-.94-.94-2.06-.94 2.06-2.06.94z\"/><path d=\"M17.41 7.96l-1.37-1.37c-.4-.4-.92-.59-1.43-.59-.52 0-1.04.2-1.43.59L10.3 9.45l-7.72 7.72c-.78.78-.78 2.05 0 2.83L4 21.41c.39.39.9.59 1.41.59.51 0 1.02-.2 1.41-.59l7.78-7.78 2.81-2.81c.8-.78.8-2.07 0-2.86zM5.41 20L4 18.59l7.72-7.72 1.47 1.35L5.41 20z\"/>\n",
              "  </svg>\n",
              "      </button>\n",
              "      \n",
              "  <style>\n",
              "    .colab-df-container {\n",
              "      display:flex;\n",
              "      flex-wrap:wrap;\n",
              "      gap: 12px;\n",
              "    }\n",
              "\n",
              "    .colab-df-convert {\n",
              "      background-color: #E8F0FE;\n",
              "      border: none;\n",
              "      border-radius: 50%;\n",
              "      cursor: pointer;\n",
              "      display: none;\n",
              "      fill: #1967D2;\n",
              "      height: 32px;\n",
              "      padding: 0 0 0 0;\n",
              "      width: 32px;\n",
              "    }\n",
              "\n",
              "    .colab-df-convert:hover {\n",
              "      background-color: #E2EBFA;\n",
              "      box-shadow: 0px 1px 2px rgba(60, 64, 67, 0.3), 0px 1px 3px 1px rgba(60, 64, 67, 0.15);\n",
              "      fill: #174EA6;\n",
              "    }\n",
              "\n",
              "    [theme=dark] .colab-df-convert {\n",
              "      background-color: #3B4455;\n",
              "      fill: #D2E3FC;\n",
              "    }\n",
              "\n",
              "    [theme=dark] .colab-df-convert:hover {\n",
              "      background-color: #434B5C;\n",
              "      box-shadow: 0px 1px 3px 1px rgba(0, 0, 0, 0.15);\n",
              "      filter: drop-shadow(0px 1px 2px rgba(0, 0, 0, 0.3));\n",
              "      fill: #FFFFFF;\n",
              "    }\n",
              "  </style>\n",
              "\n",
              "      <script>\n",
              "        const buttonEl =\n",
              "          document.querySelector('#df-49a09a07-f86a-4655-bed2-0ee5c3a418fb button.colab-df-convert');\n",
              "        buttonEl.style.display =\n",
              "          google.colab.kernel.accessAllowed ? 'block' : 'none';\n",
              "\n",
              "        async function convertToInteractive(key) {\n",
              "          const element = document.querySelector('#df-49a09a07-f86a-4655-bed2-0ee5c3a418fb');\n",
              "          const dataTable =\n",
              "            await google.colab.kernel.invokeFunction('convertToInteractive',\n",
              "                                                     [key], {});\n",
              "          if (!dataTable) return;\n",
              "\n",
              "          const docLinkHtml = 'Like what you see? Visit the ' +\n",
              "            '<a target=\"_blank\" href=https://colab.research.google.com/notebooks/data_table.ipynb>data table notebook</a>'\n",
              "            + ' to learn more about interactive tables.';\n",
              "          element.innerHTML = '';\n",
              "          dataTable['output_type'] = 'display_data';\n",
              "          await google.colab.output.renderOutput(dataTable, element);\n",
              "          const docLink = document.createElement('div');\n",
              "          docLink.innerHTML = docLinkHtml;\n",
              "          element.appendChild(docLink);\n",
              "        }\n",
              "      </script>\n",
              "    </div>\n",
              "  </div>\n",
              "  "
            ]
          },
          "metadata": {},
          "execution_count": 38
        }
      ],
      "source": [
        "# Similarly fill up other colmns of the DataFrame:\n",
        "\n",
        "results[\"Holt's\"] = [fit2.params[p] for p in params] + [fit2.sse]\n",
        "results[\"Exponential\"] = [fit3.params[p] for p in params] + [fit3.sse]\n",
        "results[\"Additive\"] = [fit4.params[p] for p in params] + [fit4.sse]\n",
        "results[\"Multiplicative\"] = [fit5.params[p] for p in params] + [fit5.sse]\n",
        "results"
      ]
    },
    {
      "cell_type": "markdown",
      "metadata": {
        "id": "I4blJbrTefaD"
      },
      "source": [
        "### Plots of Seasonally Adjusted Data\n",
        "The following plots allow us to evaluate the level and slope/trend components of the above table's fits."
      ]
    },
    {
      "cell_type": "code",
      "execution_count": 42,
      "metadata": {
        "ExecuteTime": {
          "end_time": "2017-12-07T12:39:17.105928Z",
          "start_time": "2017-12-07T12:39:16.607306Z"
        },
        "colab": {
          "base_uri": "https://localhost:8080/",
          "height": 548
        },
        "id": "q8Hwr35JefaE",
        "outputId": "c30ff021-49e1-4ba0-b6d7-9ae29ab429b0"
      },
      "outputs": [
        {
          "output_type": "execute_result",
          "data": {
            "text/plain": [
              "array([<AxesSubplot:>, <AxesSubplot:>], dtype=object)"
            ]
          },
          "metadata": {},
          "execution_count": 42
        },
        {
          "output_type": "execute_result",
          "data": {
            "text/plain": [
              "array([<AxesSubplot:>, <AxesSubplot:>], dtype=object)"
            ]
          },
          "metadata": {},
          "execution_count": 42
        },
        {
          "output_type": "display_data",
          "data": {
            "text/plain": [
              "<Figure size 432x288 with 2 Axes>"
            ],
            "image/png": "[encoded data removed]"
          },
          "metadata": {
            "needs_background": "light"
          }
        },
        {
          "output_type": "display_data",
          "data": {
            "text/plain": [
              "<Figure size 432x288 with 2 Axes>"
            ],
            "image/png": "[encoded data removed]"
          },
          "metadata": {
            "needs_background": "light"
          }
        },
        {
          "output_type": "stream",
          "name": "stdout",
          "text": [
            "Figure 7.4: Level and slope components for Holt’s linear trend method and the additive damped trend method.\n"
          ]
        }
      ],
      "source": [
        "for fit in [fit2, fit4]:\n",
        "    pd.DataFrame(\n",
        "                  np.c_[fit.level,\n",
        "                        fit.trend]\n",
        "                 ).rename(\n",
        "                           columns={0: \"level\", 1: \"slope\"}\n",
        "                         ).plot(subplots=True);\n",
        "\n",
        "plt.show() ;\n",
        "print(\n",
        "    \"Figure 7.4: Level and slope components for Holt’s linear trend method and the additive damped trend method.\"\n",
        ")"
      ]
    },
    {
      "cell_type": "markdown",
      "metadata": {
        "id": "wH7hgxHMefaE"
      },
      "source": [
        "## Comparison\n",
        "Here we plot a comparison Simple Exponential Smoothing and Holt's Methods for various additive, exponential and damped combinations. All of the models parameters will be optimized by statsmodels."
      ]
    },
    {
      "cell_type": "code",
      "execution_count": 44,
      "metadata": {
        "ExecuteTime": {
          "end_time": "2017-12-07T12:39:18.038995Z",
          "start_time": "2017-12-07T12:39:17.108323Z"
        },
        "id": "VFFY0yVhefaE"
      },
      "outputs": [],
      "source": [
        "fit1 = SimpleExpSmoothing(\n",
        "                          livestock2,\n",
        "                          initialization_method=\"estimated\"\n",
        "                          ).fit()\n",
        "\n",
        "fcast1 = fit1.forecast(9).rename(\"SES\")\n",
        "\n",
        "fit2 = Holt(\n",
        "             livestock2,\n",
        "             initialization_method=\"estimated\"\n",
        "             ).fit()\n",
        "\n",
        "fcast2 = fit2.forecast(9).rename(\"Holt's\")\n",
        "\n",
        "fit3 = Holt(\n",
        "            livestock2,\n",
        "            exponential=True,\n",
        "            initialization_method=\"estimated\"\n",
        "            ).fit()\n",
        "\n",
        "fcast3 = fit3.forecast(9).rename(\"Exponential\")\n",
        "\n",
        "\n",
        "fit4 = Holt(\n",
        "            livestock2,\n",
        "            damped_trend=True,\n",
        "            initialization_method=\"estimated\"\n",
        "            ).fit(\n",
        "                 damping_trend=0.98\n",
        "                  )\n",
        "            \n",
        "fcast4 = fit4.forecast(9).rename(\"Additive Damped\")\n",
        "\n",
        "\n",
        "fit5 = Holt(\n",
        "             livestock2,\n",
        "             exponential=True,\n",
        "             damped_trend=True,\n",
        "             initialization_method=\"estimated\"\n",
        "             ).fit()\n",
        "             \n",
        "fcast5 = fit5.forecast(9).rename(\"Multiplicative Damped\")\n"
      ]
    },
    {
      "cell_type": "code",
      "source": [
        "# Plot the forecasts:\n",
        "\n",
        "ax = livestock2.plot(color=\"black\", marker=\"o\", figsize=(12, 8))\n",
        "livestock3.plot(ax=ax, color=\"black\", marker=\"o\", legend=False)\n",
        "\n",
        "fcast1.plot(ax=ax, color=\"red\", legend=True)\n",
        "fcast2.plot(ax=ax, color=\"green\", legend=True)\n",
        "fcast3.plot(ax=ax, color=\"blue\", legend=True)\n",
        "fcast4.plot(ax=ax, color=\"cyan\", legend=True)\n",
        "fcast5.plot(ax=ax, color=\"magenta\", legend=True)\n",
        "ax.set_ylabel(\"Livestock, sheep in Asia (millions)\")\n",
        "plt.show()\n",
        "print(\n",
        "    \"Figure 7.5: Forecasting livestock, sheep in Asia: comparing forecasting performance of non-seasonal methods.\"\n",
        ")"
      ],
      "metadata": {
        "id": "voIvwgh7kaIr",
        "outputId": "7331de73-fd13-4034-ad96-0de5f51b2c29",
        "colab": {
          "base_uri": "https://localhost:8080/",
          "height": 518
        }
      },
      "execution_count": 45,
      "outputs": [
        {
          "output_type": "execute_result",
          "data": {
            "text/plain": [
              "<AxesSubplot:>"
            ]
          },
          "metadata": {},
          "execution_count": 45
        },
        {
          "output_type": "execute_result",
          "data": {
            "text/plain": [
              "<AxesSubplot:>"
            ]
          },
          "metadata": {},
          "execution_count": 45
        },
        {
          "output_type": "execute_result",
          "data": {
            "text/plain": [
              "<AxesSubplot:>"
            ]
          },
          "metadata": {},
          "execution_count": 45
        },
        {
          "output_type": "execute_result",
          "data": {
            "text/plain": [
              "<AxesSubplot:>"
            ]
          },
          "metadata": {},
          "execution_count": 45
        },
        {
          "output_type": "execute_result",
          "data": {
            "text/plain": [
              "<AxesSubplot:>"
            ]
          },
          "metadata": {},
          "execution_count": 45
        },
        {
          "output_type": "execute_result",
          "data": {
            "text/plain": [
              "<AxesSubplot:>"
            ]
          },
          "metadata": {},
          "execution_count": 45
        },
        {
          "output_type": "execute_result",
          "data": {
            "text/plain": [
              "Text(0, 0.5, 'Livestock, sheep in Asia (millions)')"
            ]
          },
          "metadata": {},
          "execution_count": 45
        },
        {
          "output_type": "display_data",
          "data": {
            "text/plain": [
              "<Figure size 864x576 with 1 Axes>"
            ],
            "image/png": "[encoded data removed]"
          },
          "metadata": {
            "needs_background": "light"
          }
        },
        {
          "output_type": "stream",
          "name": "stdout",
          "text": [
            "Figure 7.5: Forecasting livestock, sheep in Asia: comparing forecasting performance of non-seasonal methods.\n"
          ]
        }
      ]
    },
    {
      "cell_type": "markdown",
      "metadata": {
        "ExecuteTime": {
          "end_time": "2017-10-05T09:40:15.958575Z",
          "start_time": "2017-10-05T09:40:15.615Z"
        },
        "id": "WLgLOq3IefaF"
      },
      "source": [
        "## Holt's Winters Seasonal\n",
        "Finally we are able to run full Holt's Winters Seasonal Exponential Smoothing  including a trend component and a seasonal component.\n",
        "statsmodels allows for all the combinations including as shown in the examples below:\n",
        "1. ```fit1``` additive trend, additive seasonal of period ```season_length=4``` and the use of a Box-Cox transformation.\n",
        "1. ```fit2``` additive trend, multiplicative seasonal of period ```season_length=4``` and the use of a Box-Cox transformation..\n",
        "1. ```fit3``` additive damped trend, additive seasonal of period ```season_length=4``` and the use of a Box-Cox transformation.\n",
        "1. ```fit4``` additive damped trend, multiplicative seasonal of period ```season_length=4``` and the use of a Box-Cox transformation.\n",
        "\n",
        "The plot shows the results and forecast for ```fit1``` and ```fit2```.\n",
        "The table allows us to compare the results and parameterizations."
      ]
    },
    {
      "cell_type": "code",
      "execution_count": 46,
      "metadata": {
        "ExecuteTime": {
          "end_time": "2017-12-07T12:39:28.375871Z",
          "start_time": "2017-12-07T12:39:18.040674Z"
        },
        "id": "TRe1L4D7efaF"
      },
      "outputs": [],
      "source": [
        "fit1 = ExponentialSmoothing(\n",
        "                            aust,\n",
        "                            seasonal_periods=4,\n",
        "                            trend=\"add\",\n",
        "                            seasonal=\"add\",\n",
        "                            use_boxcox=True,\n",
        "                            initialization_method=\"estimated\",\n",
        "                            ).fit()\n",
        "\n",
        "\n",
        "fit2 = ExponentialSmoothing(\n",
        "                            aust,\n",
        "                            seasonal_periods=4,\n",
        "                            trend=\"add\",\n",
        "                            seasonal=\"mul\",\n",
        "                            use_boxcox=True,\n",
        "                            initialization_method=\"estimated\",\n",
        "                            ).fit()\n",
        "\n",
        "fit3 = ExponentialSmoothing(\n",
        "                            aust,\n",
        "                            seasonal_periods=4,\n",
        "                            trend=\"add\",\n",
        "                            seasonal=\"add\",\n",
        "                            damped_trend=True,\n",
        "                            use_boxcox=True,\n",
        "                            initialization_method=\"estimated\",\n",
        "                            ).fit()\n",
        "\n",
        "fit4 = ExponentialSmoothing(\n",
        "                            aust,\n",
        "                            seasonal_periods=4,\n",
        "                            trend=\"add\",\n",
        "                            seasonal=\"mul\",\n",
        "                            damped_trend=True,\n",
        "                            use_boxcox=True,\n",
        "                            initialization_method=\"estimated\",\n",
        "                            ).fit()\n",
        "\n"
      ]
    },
    {
      "cell_type": "code",
      "source": [
        "results = pd.DataFrame(\n",
        "                        index=[r\"$\\alpha$\", r\"$\\beta$\", r\"$\\phi$\", r\"$\\gamma$\", r\"$l_0$\", \"$b_0$\", \"SSE\"]\n",
        "                      )\n",
        "\n",
        "results"
      ],
      "metadata": {
        "id": "SAmlcK_sqX9v",
        "outputId": "1884cd91-9009-4240-e0f5-c18d09e08c83",
        "colab": {
          "base_uri": "https://localhost:8080/",
          "height": 252
        }
      },
      "execution_count": 47,
      "outputs": [
        {
          "output_type": "execute_result",
          "data": {
            "text/plain": [
              "Empty DataFrame\n",
              "Columns: []\n",
              "Index: [$\\alpha$, $\\beta$, $\\phi$, $\\gamma$, $l_0$, $b_0$, SSE]"
            ],
            "text/html": [
              "\n",
              "  <div id=\"df-2e1f0d64-1617-43ed-bf04-0ded1dcc5a05\">\n",
              "    <div class=\"colab-df-container\">\n",
              "      <div>\n",
              "<style scoped>\n",
              "    .dataframe tbody tr th:only-of-type {\n",
              "        vertical-align: middle;\n",
              "    }\n",
              "\n",
              "    .dataframe tbody tr th {\n",
              "        vertical-align: top;\n",
              "    }\n",
              "\n",
              "    .dataframe thead th {\n",
              "        text-align: right;\n",
              "    }\n",
              "</style>\n",
              "<table border=\"1\" class=\"dataframe\">\n",
              "  <thead>\n",
              "    <tr style=\"text-align: right;\">\n",
              "      <th></th>\n",
              "    </tr>\n",
              "  </thead>\n",
              "  <tbody>\n",
              "    <tr>\n",
              "      <th>$\\alpha$</th>\n",
              "    </tr>\n",
              "    <tr>\n",
              "      <th>$\\beta$</th>\n",
              "    </tr>\n",
              "    <tr>\n",
              "      <th>$\\phi$</th>\n",
              "    </tr>\n",
              "    <tr>\n",
              "      <th>$\\gamma$</th>\n",
              "    </tr>\n",
              "    <tr>\n",
              "      <th>$l_0$</th>\n",
              "    </tr>\n",
              "    <tr>\n",
              "      <th>$b_0$</th>\n",
              "    </tr>\n",
              "    <tr>\n",
              "      <th>SSE</th>\n",
              "    </tr>\n",
              "  </tbody>\n",
              "</table>\n",
              "</div>\n",
              "      <button class=\"colab-df-convert\" onclick=\"convertToInteractive('df-2e1f0d64-1617-43ed-bf04-0ded1dcc5a05')\"\n",
              "              title=\"Convert this dataframe to an interactive table.\"\n",
              "              style=\"display:none;\">\n",
              "        \n",
              "  <svg xmlns=\"http://www.w3.org/2000/svg\" height=\"24px\"viewBox=\"0 0 24 24\"\n",
              "       width=\"24px\">\n",
              "    <path d=\"M0 0h24v24H0V0z\" fill=\"none\"/>\n",
              "    <path d=\"M18.56 5.44l.94 2.06.94-2.06 2.06-.94-2.06-.94-.94-2.06-.94 2.06-2.06.94zm-11 1L8.5 8.5l.94-2.06 2.06-.94-2.06-.94L8.5 2.5l-.94 2.06-2.06.94zm10 10l.94 2.06.94-2.06 2.06-.94-2.06-.94-.94-2.06-.94 2.06-2.06.94z\"/><path d=\"M17.41 7.96l-1.37-1.37c-.4-.4-.92-.59-1.43-.59-.52 0-1.04.2-1.43.59L10.3 9.45l-7.72 7.72c-.78.78-.78 2.05 0 2.83L4 21.41c.39.39.9.59 1.41.59.51 0 1.02-.2 1.41-.59l7.78-7.78 2.81-2.81c.8-.78.8-2.07 0-2.86zM5.41 20L4 18.59l7.72-7.72 1.47 1.35L5.41 20z\"/>\n",
              "  </svg>\n",
              "      </button>\n",
              "      \n",
              "  <style>\n",
              "    .colab-df-container {\n",
              "      display:flex;\n",
              "      flex-wrap:wrap;\n",
              "      gap: 12px;\n",
              "    }\n",
              "\n",
              "    .colab-df-convert {\n",
              "      background-color: #E8F0FE;\n",
              "      border: none;\n",
              "      border-radius: 50%;\n",
              "      cursor: pointer;\n",
              "      display: none;\n",
              "      fill: #1967D2;\n",
              "      height: 32px;\n",
              "      padding: 0 0 0 0;\n",
              "      width: 32px;\n",
              "    }\n",
              "\n",
              "    .colab-df-convert:hover {\n",
              "      background-color: #E2EBFA;\n",
              "      box-shadow: 0px 1px 2px rgba(60, 64, 67, 0.3), 0px 1px 3px 1px rgba(60, 64, 67, 0.15);\n",
              "      fill: #174EA6;\n",
              "    }\n",
              "\n",
              "    [theme=dark] .colab-df-convert {\n",
              "      background-color: #3B4455;\n",
              "      fill: #D2E3FC;\n",
              "    }\n",
              "\n",
              "    [theme=dark] .colab-df-convert:hover {\n",
              "      background-color: #434B5C;\n",
              "      box-shadow: 0px 1px 3px 1px rgba(0, 0, 0, 0.15);\n",
              "      filter: drop-shadow(0px 1px 2px rgba(0, 0, 0, 0.3));\n",
              "      fill: #FFFFFF;\n",
              "    }\n",
              "  </style>\n",
              "\n",
              "      <script>\n",
              "        const buttonEl =\n",
              "          document.querySelector('#df-2e1f0d64-1617-43ed-bf04-0ded1dcc5a05 button.colab-df-convert');\n",
              "        buttonEl.style.display =\n",
              "          google.colab.kernel.accessAllowed ? 'block' : 'none';\n",
              "\n",
              "        async function convertToInteractive(key) {\n",
              "          const element = document.querySelector('#df-2e1f0d64-1617-43ed-bf04-0ded1dcc5a05');\n",
              "          const dataTable =\n",
              "            await google.colab.kernel.invokeFunction('convertToInteractive',\n",
              "                                                     [key], {});\n",
              "          if (!dataTable) return;\n",
              "\n",
              "          const docLinkHtml = 'Like what you see? Visit the ' +\n",
              "            '<a target=\"_blank\" href=https://colab.research.google.com/notebooks/data_table.ipynb>data table notebook</a>'\n",
              "            + ' to learn more about interactive tables.';\n",
              "          element.innerHTML = '';\n",
              "          dataTable['output_type'] = 'display_data';\n",
              "          await google.colab.output.renderOutput(dataTable, element);\n",
              "          const docLink = document.createElement('div');\n",
              "          docLink.innerHTML = docLinkHtml;\n",
              "          element.appendChild(docLink);\n",
              "        }\n",
              "      </script>\n",
              "    </div>\n",
              "  </div>\n",
              "  "
            ]
          },
          "metadata": {},
          "execution_count": 47
        }
      ]
    },
    {
      "cell_type": "code",
      "source": [
        "params = [\n",
        "           \"smoothing_level\",\n",
        "           \"smoothing_trend\",\n",
        "           \"damping_trend\",\n",
        "           \"smoothing_seasonal\",\n",
        "           \"initial_level\",\n",
        "           \"initial_trend\",\n",
        "         ]"
      ],
      "metadata": {
        "id": "ka549j6IqfsB"
      },
      "execution_count": 49,
      "outputs": []
    },
    {
      "cell_type": "code",
      "source": [
        "# Fill up results:\n",
        "results[\"Additive\"] = [fit1.params[p] for p in params] + [fit1.sse]\n",
        "results[\"Multiplicative\"] = [fit2.params[p] for p in params] + [fit2.sse]\n",
        "results[\"Additive Dam\"] = [fit3.params[p] for p in params] + [fit3.sse]\n",
        "results[\"Multiplica Dam\"] = [fit4.params[p] for p in params] + [fit4.sse]\n",
        "results"
      ],
      "metadata": {
        "id": "aF-lNOlpqosQ",
        "outputId": "d38b9d49-6b92-4f5f-bbfc-7af11966cf31",
        "colab": {
          "base_uri": "https://localhost:8080/",
          "height": 269
        }
      },
      "execution_count": 51,
      "outputs": [
        {
          "output_type": "execute_result",
          "data": {
            "text/plain": [
              "              Additive  Multiplicative  Additive Dam  Multiplica Dam\n",
              "$\\alpha$  1.490116e-08    1.490116e-08  1.490116e-08    1.490116e-08\n",
              "$\\beta$   1.409862e-08    3.449544e-23  6.490775e-09    5.042224e-09\n",
              "$\\phi$             NaN             NaN  9.430416e-01    9.536044e-01\n",
              "$\\gamma$  1.829110e-16    2.550777e-15  3.872323e-16    5.847315e-16\n",
              "$l_0$     1.119347e+01    1.106378e+01  1.084021e+01    9.899276e+00\n",
              "$b_0$     1.205396e-01    1.198959e-01  2.456749e-01    1.975442e-01\n",
              "SSE       4.402746e+01    3.611262e+01  3.527619e+01    3.062033e+01"
            ],
            "text/html": [
              "\n",
              "  <div id=\"df-df956e4b-2bb6-4fe8-8e2b-5737c04038e6\">\n",
              "    <div class=\"colab-df-container\">\n",
              "      <div>\n",
              "<style scoped>\n",
              "    .dataframe tbody tr th:only-of-type {\n",
              "        vertical-align: middle;\n",
              "    }\n",
              "\n",
              "    .dataframe tbody tr th {\n",
              "        vertical-align: top;\n",
              "    }\n",
              "\n",
              "    .dataframe thead th {\n",
              "        text-align: right;\n",
              "    }\n",
              "</style>\n",
              "<table border=\"1\" class=\"dataframe\">\n",
              "  <thead>\n",
              "    <tr style=\"text-align: right;\">\n",
              "      <th></th>\n",
              "      <th>Additive</th>\n",
              "      <th>Multiplicative</th>\n",
              "      <th>Additive Dam</th>\n",
              "      <th>Multiplica Dam</th>\n",
              "    </tr>\n",
              "  </thead>\n",
              "  <tbody>\n",
              "    <tr>\n",
              "      <th>$\\alpha$</th>\n",
              "      <td>1.490116e-08</td>\n",
              "      <td>1.490116e-08</td>\n",
              "      <td>1.490116e-08</td>\n",
              "      <td>1.490116e-08</td>\n",
              "    </tr>\n",
              "    <tr>\n",
              "      <th>$\\beta$</th>\n",
              "      <td>1.409862e-08</td>\n",
              "      <td>3.449544e-23</td>\n",
              "      <td>6.490775e-09</td>\n",
              "      <td>5.042224e-09</td>\n",
              "    </tr>\n",
              "    <tr>\n",
              "      <th>$\\phi$</th>\n",
              "      <td>NaN</td>\n",
              "      <td>NaN</td>\n",
              "      <td>9.430416e-01</td>\n",
              "      <td>9.536044e-01</td>\n",
              "    </tr>\n",
              "    <tr>\n",
              "      <th>$\\gamma$</th>\n",
              "      <td>1.829110e-16</td>\n",
              "      <td>2.550777e-15</td>\n",
              "      <td>3.872323e-16</td>\n",
              "      <td>5.847315e-16</td>\n",
              "    </tr>\n",
              "    <tr>\n",
              "      <th>$l_0$</th>\n",
              "      <td>1.119347e+01</td>\n",
              "      <td>1.106378e+01</td>\n",
              "      <td>1.084021e+01</td>\n",
              "      <td>9.899276e+00</td>\n",
              "    </tr>\n",
              "    <tr>\n",
              "      <th>$b_0$</th>\n",
              "      <td>1.205396e-01</td>\n",
              "      <td>1.198959e-01</td>\n",
              "      <td>2.456749e-01</td>\n",
              "      <td>1.975442e-01</td>\n",
              "    </tr>\n",
              "    <tr>\n",
              "      <th>SSE</th>\n",
              "      <td>4.402746e+01</td>\n",
              "      <td>3.611262e+01</td>\n",
              "      <td>3.527619e+01</td>\n",
              "      <td>3.062033e+01</td>\n",
              "    </tr>\n",
              "  </tbody>\n",
              "</table>\n",
              "</div>\n",
              "      <button class=\"colab-df-convert\" onclick=\"convertToInteractive('df-df956e4b-2bb6-4fe8-8e2b-5737c04038e6')\"\n",
              "              title=\"Convert this dataframe to an interactive table.\"\n",
              "              style=\"display:none;\">\n",
              "        \n",
              "  <svg xmlns=\"http://www.w3.org/2000/svg\" height=\"24px\"viewBox=\"0 0 24 24\"\n",
              "       width=\"24px\">\n",
              "    <path d=\"M0 0h24v24H0V0z\" fill=\"none\"/>\n",
              "    <path d=\"M18.56 5.44l.94 2.06.94-2.06 2.06-.94-2.06-.94-.94-2.06-.94 2.06-2.06.94zm-11 1L8.5 8.5l.94-2.06 2.06-.94-2.06-.94L8.5 2.5l-.94 2.06-2.06.94zm10 10l.94 2.06.94-2.06 2.06-.94-2.06-.94-.94-2.06-.94 2.06-2.06.94z\"/><path d=\"M17.41 7.96l-1.37-1.37c-.4-.4-.92-.59-1.43-.59-.52 0-1.04.2-1.43.59L10.3 9.45l-7.72 7.72c-.78.78-.78 2.05 0 2.83L4 21.41c.39.39.9.59 1.41.59.51 0 1.02-.2 1.41-.59l7.78-7.78 2.81-2.81c.8-.78.8-2.07 0-2.86zM5.41 20L4 18.59l7.72-7.72 1.47 1.35L5.41 20z\"/>\n",
              "  </svg>\n",
              "      </button>\n",
              "      \n",
              "  <style>\n",
              "    .colab-df-container {\n",
              "      display:flex;\n",
              "      flex-wrap:wrap;\n",
              "      gap: 12px;\n",
              "    }\n",
              "\n",
              "    .colab-df-convert {\n",
              "      background-color: #E8F0FE;\n",
              "      border: none;\n",
              "      border-radius: 50%;\n",
              "      cursor: pointer;\n",
              "      display: none;\n",
              "      fill: #1967D2;\n",
              "      height: 32px;\n",
              "      padding: 0 0 0 0;\n",
              "      width: 32px;\n",
              "    }\n",
              "\n",
              "    .colab-df-convert:hover {\n",
              "      background-color: #E2EBFA;\n",
              "      box-shadow: 0px 1px 2px rgba(60, 64, 67, 0.3), 0px 1px 3px 1px rgba(60, 64, 67, 0.15);\n",
              "      fill: #174EA6;\n",
              "    }\n",
              "\n",
              "    [theme=dark] .colab-df-convert {\n",
              "      background-color: #3B4455;\n",
              "      fill: #D2E3FC;\n",
              "    }\n",
              "\n",
              "    [theme=dark] .colab-df-convert:hover {\n",
              "      background-color: #434B5C;\n",
              "      box-shadow: 0px 1px 3px 1px rgba(0, 0, 0, 0.15);\n",
              "      filter: drop-shadow(0px 1px 2px rgba(0, 0, 0, 0.3));\n",
              "      fill: #FFFFFF;\n",
              "    }\n",
              "  </style>\n",
              "\n",
              "      <script>\n",
              "        const buttonEl =\n",
              "          document.querySelector('#df-df956e4b-2bb6-4fe8-8e2b-5737c04038e6 button.colab-df-convert');\n",
              "        buttonEl.style.display =\n",
              "          google.colab.kernel.accessAllowed ? 'block' : 'none';\n",
              "\n",
              "        async function convertToInteractive(key) {\n",
              "          const element = document.querySelector('#df-df956e4b-2bb6-4fe8-8e2b-5737c04038e6');\n",
              "          const dataTable =\n",
              "            await google.colab.kernel.invokeFunction('convertToInteractive',\n",
              "                                                     [key], {});\n",
              "          if (!dataTable) return;\n",
              "\n",
              "          const docLinkHtml = 'Like what you see? Visit the ' +\n",
              "            '<a target=\"_blank\" href=https://colab.research.google.com/notebooks/data_table.ipynb>data table notebook</a>'\n",
              "            + ' to learn more about interactive tables.';\n",
              "          element.innerHTML = '';\n",
              "          dataTable['output_type'] = 'display_data';\n",
              "          await google.colab.output.renderOutput(dataTable, element);\n",
              "          const docLink = document.createElement('div');\n",
              "          docLink.innerHTML = docLinkHtml;\n",
              "          element.appendChild(docLink);\n",
              "        }\n",
              "      </script>\n",
              "    </div>\n",
              "  </div>\n",
              "  "
            ]
          },
          "metadata": {},
          "execution_count": 51
        }
      ]
    },
    {
      "cell_type": "code",
      "source": [
        "# Plot now\n",
        "\n",
        "ax = aust.plot(\n",
        "                figsize=(10, 6),\n",
        "                marker=\"o\",\n",
        "                color=\"black\",\n",
        "                title=\"Forecasts from Holt-Winters' multiplicative method\",\n",
        "               );\n",
        "\n",
        "ax.set_ylabel(\"International visitor night in Australia (millions)\")\n",
        "ax.set_xlabel(\"Year\")\n",
        "\n",
        "fit1.fittedvalues.plot(ax=ax, style=\"--\", color=\"red\");\n",
        "fit2.fittedvalues.plot(ax=ax, style=\"--\", color=\"green\");\n",
        "\n",
        "fit1.forecast(8).rename(\"Holt-Winters (add-add-seasonal)\").plot(\n",
        "                                                                 ax=ax,\n",
        "                                                                 style=\"--\",\n",
        "                                                                 marker=\"o\",\n",
        "                                                                 color=\"red\",\n",
        "                                                                 legend=True\n",
        "                                                                );\n",
        "\n",
        "fit2.forecast(8).rename(\"Holt-Winters (add-mul-seasonal)\").plot(\n",
        "                                                                 ax=ax,\n",
        "                                                                 style=\"--\",\n",
        "                                                                 marker=\"o\",\n",
        "                                                                 color=\"green\",\n",
        "                                                                 legend=True\n",
        "                                                                );\n",
        "\n",
        "plt.show() ;\n",
        "print(\n",
        "    \"Figure 7.6: Forecasting international visitor nights in Australia using Holt-Winters method with both additive and multiplicative seasonality.\"\n",
        ")\n",
        "\n",
        "results"
      ],
      "metadata": {
        "id": "F027qHORqUab",
        "outputId": "d2c33aff-4bc4-46a2-9d24-29a59abbc8ed",
        "colab": {
          "base_uri": "https://localhost:8080/",
          "height": 743
        }
      },
      "execution_count": 53,
      "outputs": [
        {
          "output_type": "execute_result",
          "data": {
            "text/plain": [
              "Text(0, 0.5, 'International visitor night in Australia (millions)')"
            ]
          },
          "metadata": {},
          "execution_count": 53
        },
        {
          "output_type": "execute_result",
          "data": {
            "text/plain": [
              "Text(0.5, 0, 'Year')"
            ]
          },
          "metadata": {},
          "execution_count": 53
        },
        {
          "output_type": "execute_result",
          "data": {
            "text/plain": [
              "<AxesSubplot:title={'center':\"Forecasts from Holt-Winters' multiplicative method\"}, xlabel='Year', ylabel='International visitor night in Australia (millions)'>"
            ]
          },
          "metadata": {},
          "execution_count": 53
        },
        {
          "output_type": "execute_result",
          "data": {
            "text/plain": [
              "<AxesSubplot:title={'center':\"Forecasts from Holt-Winters' multiplicative method\"}, xlabel='Year', ylabel='International visitor night in Australia (millions)'>"
            ]
          },
          "metadata": {},
          "execution_count": 53
        },
        {
          "output_type": "execute_result",
          "data": {
            "text/plain": [
              "<AxesSubplot:title={'center':\"Forecasts from Holt-Winters' multiplicative method\"}, xlabel='Year', ylabel='International visitor night in Australia (millions)'>"
            ]
          },
          "metadata": {},
          "execution_count": 53
        },
        {
          "output_type": "execute_result",
          "data": {
            "text/plain": [
              "<AxesSubplot:title={'center':\"Forecasts from Holt-Winters' multiplicative method\"}, xlabel='Year', ylabel='International visitor night in Australia (millions)'>"
            ]
          },
          "metadata": {},
          "execution_count": 53
        },
        {
          "output_type": "display_data",
          "data": {
            "text/plain": [
              "<Figure size 720x432 with 1 Axes>"
            ],
            "image/png": "[encoded data removed]"
          },
          "metadata": {
            "needs_background": "light"
          }
        },
        {
          "output_type": "stream",
          "name": "stdout",
          "text": [
            "Figure 7.6: Forecasting international visitor nights in Australia using Holt-Winters method with both additive and multiplicative seasonality.\n"
          ]
        },
        {
          "output_type": "execute_result",
          "data": {
            "text/plain": [
              "              Additive  Multiplicative  Additive Dam  Multiplica Dam\n",
              "$\\alpha$  1.490116e-08    1.490116e-08  1.490116e-08    1.490116e-08\n",
              "$\\beta$   1.409862e-08    3.449544e-23  6.490775e-09    5.042224e-09\n",
              "$\\phi$             NaN             NaN  9.430416e-01    9.536044e-01\n",
              "$\\gamma$  1.829110e-16    2.550777e-15  3.872323e-16    5.847315e-16\n",
              "$l_0$     1.119347e+01    1.106378e+01  1.084021e+01    9.899276e+00\n",
              "$b_0$     1.205396e-01    1.198959e-01  2.456749e-01    1.975442e-01\n",
              "SSE       4.402746e+01    3.611262e+01  3.527619e+01    3.062033e+01"
            ],
            "text/html": [
              "\n",
              "  <div id=\"df-dfe5a770-6400-4483-9127-1e8b58529d01\">\n",
              "    <div class=\"colab-df-container\">\n",
              "      <div>\n",
              "<style scoped>\n",
              "    .dataframe tbody tr th:only-of-type {\n",
              "        vertical-align: middle;\n",
              "    }\n",
              "\n",
              "    .dataframe tbody tr th {\n",
              "        vertical-align: top;\n",
              "    }\n",
              "\n",
              "    .dataframe thead th {\n",
              "        text-align: right;\n",
              "    }\n",
              "</style>\n",
              "<table border=\"1\" class=\"dataframe\">\n",
              "  <thead>\n",
              "    <tr style=\"text-align: right;\">\n",
              "      <th></th>\n",
              "      <th>Additive</th>\n",
              "      <th>Multiplicative</th>\n",
              "      <th>Additive Dam</th>\n",
              "      <th>Multiplica Dam</th>\n",
              "    </tr>\n",
              "  </thead>\n",
              "  <tbody>\n",
              "    <tr>\n",
              "      <th>$\\alpha$</th>\n",
              "      <td>1.490116e-08</td>\n",
              "      <td>1.490116e-08</td>\n",
              "      <td>1.490116e-08</td>\n",
              "      <td>1.490116e-08</td>\n",
              "    </tr>\n",
              "    <tr>\n",
              "      <th>$\\beta$</th>\n",
              "      <td>1.409862e-08</td>\n",
              "      <td>3.449544e-23</td>\n",
              "      <td>6.490775e-09</td>\n",
              "      <td>5.042224e-09</td>\n",
              "    </tr>\n",
              "    <tr>\n",
              "      <th>$\\phi$</th>\n",
              "      <td>NaN</td>\n",
              "      <td>NaN</td>\n",
              "      <td>9.430416e-01</td>\n",
              "      <td>9.536044e-01</td>\n",
              "    </tr>\n",
              "    <tr>\n",
              "      <th>$\\gamma$</th>\n",
              "      <td>1.829110e-16</td>\n",
              "      <td>2.550777e-15</td>\n",
              "      <td>3.872323e-16</td>\n",
              "      <td>5.847315e-16</td>\n",
              "    </tr>\n",
              "    <tr>\n",
              "      <th>$l_0$</th>\n",
              "      <td>1.119347e+01</td>\n",
              "      <td>1.106378e+01</td>\n",
              "      <td>1.084021e+01</td>\n",
              "      <td>9.899276e+00</td>\n",
              "    </tr>\n",
              "    <tr>\n",
              "      <th>$b_0$</th>\n",
              "      <td>1.205396e-01</td>\n",
              "      <td>1.198959e-01</td>\n",
              "      <td>2.456749e-01</td>\n",
              "      <td>1.975442e-01</td>\n",
              "    </tr>\n",
              "    <tr>\n",
              "      <th>SSE</th>\n",
              "      <td>4.402746e+01</td>\n",
              "      <td>3.611262e+01</td>\n",
              "      <td>3.527619e+01</td>\n",
              "      <td>3.062033e+01</td>\n",
              "    </tr>\n",
              "  </tbody>\n",
              "</table>\n",
              "</div>\n",
              "      <button class=\"colab-df-convert\" onclick=\"convertToInteractive('df-dfe5a770-6400-4483-9127-1e8b58529d01')\"\n",
              "              title=\"Convert this dataframe to an interactive table.\"\n",
              "              style=\"display:none;\">\n",
              "        \n",
              "  <svg xmlns=\"http://www.w3.org/2000/svg\" height=\"24px\"viewBox=\"0 0 24 24\"\n",
              "       width=\"24px\">\n",
              "    <path d=\"M0 0h24v24H0V0z\" fill=\"none\"/>\n",
              "    <path d=\"M18.56 5.44l.94 2.06.94-2.06 2.06-.94-2.06-.94-.94-2.06-.94 2.06-2.06.94zm-11 1L8.5 8.5l.94-2.06 2.06-.94-2.06-.94L8.5 2.5l-.94 2.06-2.06.94zm10 10l.94 2.06.94-2.06 2.06-.94-2.06-.94-.94-2.06-.94 2.06-2.06.94z\"/><path d=\"M17.41 7.96l-1.37-1.37c-.4-.4-.92-.59-1.43-.59-.52 0-1.04.2-1.43.59L10.3 9.45l-7.72 7.72c-.78.78-.78 2.05 0 2.83L4 21.41c.39.39.9.59 1.41.59.51 0 1.02-.2 1.41-.59l7.78-7.78 2.81-2.81c.8-.78.8-2.07 0-2.86zM5.41 20L4 18.59l7.72-7.72 1.47 1.35L5.41 20z\"/>\n",
              "  </svg>\n",
              "      </button>\n",
              "      \n",
              "  <style>\n",
              "    .colab-df-container {\n",
              "      display:flex;\n",
              "      flex-wrap:wrap;\n",
              "      gap: 12px;\n",
              "    }\n",
              "\n",
              "    .colab-df-convert {\n",
              "      background-color: #E8F0FE;\n",
              "      border: none;\n",
              "      border-radius: 50%;\n",
              "      cursor: pointer;\n",
              "      display: none;\n",
              "      fill: #1967D2;\n",
              "      height: 32px;\n",
              "      padding: 0 0 0 0;\n",
              "      width: 32px;\n",
              "    }\n",
              "\n",
              "    .colab-df-convert:hover {\n",
              "      background-color: #E2EBFA;\n",
              "      box-shadow: 0px 1px 2px rgba(60, 64, 67, 0.3), 0px 1px 3px 1px rgba(60, 64, 67, 0.15);\n",
              "      fill: #174EA6;\n",
              "    }\n",
              "\n",
              "    [theme=dark] .colab-df-convert {\n",
              "      background-color: #3B4455;\n",
              "      fill: #D2E3FC;\n",
              "    }\n",
              "\n",
              "    [theme=dark] .colab-df-convert:hover {\n",
              "      background-color: #434B5C;\n",
              "      box-shadow: 0px 1px 3px 1px rgba(0, 0, 0, 0.15);\n",
              "      filter: drop-shadow(0px 1px 2px rgba(0, 0, 0, 0.3));\n",
              "      fill: #FFFFFF;\n",
              "    }\n",
              "  </style>\n",
              "\n",
              "      <script>\n",
              "        const buttonEl =\n",
              "          document.querySelector('#df-dfe5a770-6400-4483-9127-1e8b58529d01 button.colab-df-convert');\n",
              "        buttonEl.style.display =\n",
              "          google.colab.kernel.accessAllowed ? 'block' : 'none';\n",
              "\n",
              "        async function convertToInteractive(key) {\n",
              "          const element = document.querySelector('#df-dfe5a770-6400-4483-9127-1e8b58529d01');\n",
              "          const dataTable =\n",
              "            await google.colab.kernel.invokeFunction('convertToInteractive',\n",
              "                                                     [key], {});\n",
              "          if (!dataTable) return;\n",
              "\n",
              "          const docLinkHtml = 'Like what you see? Visit the ' +\n",
              "            '<a target=\"_blank\" href=https://colab.research.google.com/notebooks/data_table.ipynb>data table notebook</a>'\n",
              "            + ' to learn more about interactive tables.';\n",
              "          element.innerHTML = '';\n",
              "          dataTable['output_type'] = 'display_data';\n",
              "          await google.colab.output.renderOutput(dataTable, element);\n",
              "          const docLink = document.createElement('div');\n",
              "          docLink.innerHTML = docLinkHtml;\n",
              "          element.appendChild(docLink);\n",
              "        }\n",
              "      </script>\n",
              "    </div>\n",
              "  </div>\n",
              "  "
            ]
          },
          "metadata": {},
          "execution_count": 53
        }
      ]
    },
    {
      "cell_type": "markdown",
      "metadata": {
        "id": "tZFP4B7FefaI"
      },
      "source": [
        "# Simulations and Confidence Intervals\n",
        "\n",
        "By using a state space formulation, we can perform simulations of future values. The mathematical details are described in Hyndman and Athanasopoulos [2] and in the documentation of `HoltWintersResults.simulate`.\n",
        "\n",
        "Similar to the example in [2], we use the model with additive trend, multiplicative seasonality, and multiplicative error. We simulate up to 8 steps into the future, and perform 1000 simulations. As can be seen in the below figure, the simulations match the forecast values quite well.\n",
        "\n",
        "[2] [Hyndman, Rob J., and George Athanasopoulos. Forecasting: principles and practice, 2nd edition. OTexts, 2018.](https://otexts.com/fpp2/ets.html)"
      ]
    },
    {
      "cell_type": "code",
      "execution_count": 54,
      "metadata": {
        "colab": {
          "base_uri": "https://localhost:8080/",
          "height": 473
        },
        "id": "VHJVDOTtefaJ",
        "outputId": "cba6b0a6-bc4d-4fd0-a2ba-6a99f3a37d37"
      },
      "outputs": [
        {
          "output_type": "execute_result",
          "data": {
            "text/plain": [
              "Text(0, 0.5, 'International visitor night in Australia (millions)')"
            ]
          },
          "metadata": {},
          "execution_count": 54
        },
        {
          "output_type": "execute_result",
          "data": {
            "text/plain": [
              "Text(0.5, 0, 'Year')"
            ]
          },
          "metadata": {},
          "execution_count": 54
        },
        {
          "output_type": "execute_result",
          "data": {
            "text/plain": [
              "<AxesSubplot:title={'center':\"Forecasts and simulations from Holt-Winters' multiplicative method\"}, xlabel='Year', ylabel='International visitor night in Australia (millions)'>"
            ]
          },
          "metadata": {},
          "execution_count": 54
        },
        {
          "output_type": "execute_result",
          "data": {
            "text/plain": [
              "<AxesSubplot:title={'center':\"Forecasts and simulations from Holt-Winters' multiplicative method\"}, xlabel='Year', ylabel='International visitor night in Australia (millions)'>"
            ]
          },
          "metadata": {},
          "execution_count": 54
        },
        {
          "output_type": "execute_result",
          "data": {
            "text/plain": [
              "<AxesSubplot:title={'center':\"Forecasts and simulations from Holt-Winters' multiplicative method\"}, xlabel='Year', ylabel='International visitor night in Australia (millions)'>"
            ]
          },
          "metadata": {},
          "execution_count": 54
        },
        {
          "output_type": "display_data",
          "data": {
            "text/plain": [
              "<Figure size 720x432 with 1 Axes>"
            ],
            "image/png": "[encoded data removed]"
          },
          "metadata": {
            "needs_background": "light"
          }
        }
      ],
      "source": [
        "fit = ExponentialSmoothing(\n",
        "                            aust,\n",
        "                            seasonal_periods=4,\n",
        "                            trend=\"add\",\n",
        "                            seasonal=\"mul\",\n",
        "                            initialization_method=\"estimated\",\n",
        "                           ).fit()\n",
        "\n",
        "simulations = fit.simulate(8, repetitions=100, error=\"mul\")\n",
        "\n",
        "ax = aust.plot(\n",
        "               figsize=(10, 6),\n",
        "               marker=\"o\",\n",
        "               color=\"black\",\n",
        "               title=\"Forecasts and simulations from Holt-Winters' multiplicative method\",\n",
        "               )\n",
        "\n",
        "ax.set_ylabel(\"International visitor night in Australia (millions)\")\n",
        "ax.set_xlabel(\"Year\")\n",
        "\n",
        "fit.fittedvalues.plot(ax=ax, style=\"--\", color=\"green\")\n",
        "\n",
        "simulations.plot(ax=ax, style=\"-\", alpha=0.05, color=\"grey\", legend=False)\n",
        "\n",
        "fit.forecast(8).rename(\"Holt-Winters (add-mul-seasonal)\").plot(\n",
        "                                                                ax=ax,\n",
        "                                                                style=\"--\",\n",
        "                                                                marker=\"o\",\n",
        "                                                                color=\"green\",\n",
        "                                                                legend=True\n",
        "                                                               );\n",
        "plt.show()"
      ]
    },
    {
      "cell_type": "markdown",
      "metadata": {
        "id": "AOxiPVk8efaJ"
      },
      "source": [
        "Simulations can also be started at different points in time, and there are multiple options for choosing the random noise."
      ]
    },
    {
      "cell_type": "code",
      "execution_count": 55,
      "metadata": {
        "colab": {
          "base_uri": "https://localhost:8080/",
          "height": 473
        },
        "id": "sfaY8MyuefaJ",
        "outputId": "6557d632-2f10-46b6-b613-5b4e6b4803f9"
      },
      "outputs": [
        {
          "output_type": "execute_result",
          "data": {
            "text/plain": [
              "Text(0, 0.5, 'International visitor night in Australia (millions)')"
            ]
          },
          "metadata": {},
          "execution_count": 55
        },
        {
          "output_type": "execute_result",
          "data": {
            "text/plain": [
              "Text(0.5, 0, 'Year')"
            ]
          },
          "metadata": {},
          "execution_count": 55
        },
        {
          "output_type": "execute_result",
          "data": {
            "text/plain": [
              "<AxesSubplot:title={'center':\"Forecasts and simulations from Holt-Winters' multiplicative method\"}, xlabel='Year', ylabel='International visitor night in Australia (millions)'>"
            ]
          },
          "metadata": {},
          "execution_count": 55
        },
        {
          "output_type": "execute_result",
          "data": {
            "text/plain": [
              "<AxesSubplot:title={'center':\"Forecasts and simulations from Holt-Winters' multiplicative method\"}, xlabel='Year', ylabel='International visitor night in Australia (millions)'>"
            ]
          },
          "metadata": {},
          "execution_count": 55
        },
        {
          "output_type": "execute_result",
          "data": {
            "text/plain": [
              "<AxesSubplot:title={'center':\"Forecasts and simulations from Holt-Winters' multiplicative method\"}, xlabel='Year', ylabel='International visitor night in Australia (millions)'>"
            ]
          },
          "metadata": {},
          "execution_count": 55
        },
        {
          "output_type": "display_data",
          "data": {
            "text/plain": [
              "<Figure size 720x432 with 1 Axes>"
            ],
            "image/png": "[encoded data removed]"
          },
          "metadata": {
            "needs_background": "light"
          }
        }
      ],
      "source": [
        "fit = ExponentialSmoothing(\n",
        "                           aust,\n",
        "                           seasonal_periods=4,\n",
        "                           trend=\"add\",\n",
        "                           seasonal=\"mul\",\n",
        "                           initialization_method=\"estimated\",\n",
        "                           ).fit()\n",
        "\n",
        "simulations = fit.simulate(16,\n",
        "                           anchor=\"2009-01-01\",\n",
        "                           repetitions=100,\n",
        "                           error=\"mul\",\n",
        "                           random_errors=\"bootstrap\"\n",
        "                           )\n",
        "\n",
        "\n",
        "ax = aust.plot(\n",
        "               figsize=(10, 6),\n",
        "               marker=\"o\",\n",
        "               color=\"black\",\n",
        "               title=\"Forecasts and simulations from Holt-Winters' multiplicative method\",\n",
        "               )\n",
        "\n",
        "ax.set_ylabel(\"International visitor night in Australia (millions)\")\n",
        "ax.set_xlabel(\"Year\")\n",
        "\n",
        "fit.fittedvalues.plot(\n",
        "                      ax=ax,\n",
        "                      style=\"--\",\n",
        "                      color=\"green\"\n",
        "                      )\n",
        "\n",
        "simulations.plot(\n",
        "                 ax=ax,\n",
        "                 style=\"-\",\n",
        "                 alpha=0.05,\n",
        "                 color=\"grey\",\n",
        "                 legend=False\n",
        "                 )\n",
        "\n",
        "\n",
        "fit.forecast(8).rename(\"Holt-Winters (add-mul-seasonal)\").plot(\n",
        "                                                                ax=ax,\n",
        "                                                                style=\"--\",\n",
        "                                                                marker=\"o\",\n",
        "                                                                color=\"green\",\n",
        "                                                                legend=True\n",
        "                                                               )\n",
        "\n",
        "plt.show()"
      ]
    },
    {
      "cell_type": "code",
      "source": [
        "########## I am done #############"
      ],
      "metadata": {
        "id": "Uh8cAIN3tItg"
      },
      "execution_count": null,
      "outputs": []
    }
  ],
  "metadata": {
    "anaconda-cloud": {},
    "hide_input": false,
    "kernelspec": {
      "display_name": "Python 3",
      "language": "python",
      "name": "python3"
    },
    "language_info": {
      "codemirror_mode": {
        "name": "ipython",
        "version": 3
      },
      "file_extension": ".py",
      "mimetype": "text/x-python",
      "name": "python",
      "nbconvert_exporter": "python",
      "pygments_lexer": "ipython3",
      "version": "3.8.10"
    },
    "latex_envs": {
      "LaTeX_envs_menu_present": true,
      "autocomplete": true,
      "bibliofile": "biblio.bib",
      "cite_by": "apalike",
      "current_citInitial": 1,
      "eqLabelWithNumbers": true,
      "eqNumInitial": 1,
      "hotkeys": {
        "equation": "Ctrl-E",
        "itemize": "Ctrl-I"
      },
      "labels_anchors": false,
      "latex_user_defs": false,
      "report_style_numbering": false,
      "user_envs_cfg": false
    },
    "toc": {
      "colors": {
        "hover_highlight": "#DAA520",
        "navigate_num": "#000000",
        "navigate_text": "#333333",
        "running_highlight": "#FF0000",
        "selected_highlight": "#FFD700",
        "sidebar_border": "#EEEEEE",
        "wrapper_background": "#FFFFFF"
      },
      "moveMenuLeft": true,
      "nav_menu": {
        "height": "98px",
        "width": "252px"
      },
      "navigate_menu": true,
      "number_sections": false,
      "sideBar": true,
      "threshold": 4,
      "toc_cell": false,
      "toc_section_display": "block",
      "toc_window_display": true,
      "widenNotebook": false
    },
    "colab": {
      "provenance": [],
      "include_colab_link": true
    }
  },
  "nbformat": 4,
  "nbformat_minor": 0
}