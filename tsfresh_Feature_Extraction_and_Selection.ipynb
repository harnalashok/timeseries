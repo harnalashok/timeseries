{
  "cells": [
    {
      "cell_type": "markdown",
      "metadata": {
        "id": "view-in-github",
        "colab_type": "text"
      },
      "source": [
        "<a href=\"https://colab.research.google.com/github/harnalashok/timeseries/blob/main/tsfresh_Feature_Extraction_and_Selection.ipynb\" target=\"_parent\"><img src=\"https://colab.research.google.com/assets/colab-badge.svg\" alt=\"Open In Colab\"/></a>"
      ]
    },
    {
      "cell_type": "code",
      "source": [
        "# Last amended: 15th Feb, 2023\n",
        "# Ref: https://github.com/blue-yonder/tsfresh/tree/main/notebooks\n",
        "#      https://github.com/blue-yonder/tsfresh/blob/main/notebooks/01%20Feature%20Extraction%20and%20Selection.ipynb\n"
      ],
      "metadata": {
        "id": "jED-Z5RmGGJc"
      },
      "execution_count": null,
      "outputs": []
    },
    {
      "cell_type": "markdown",
      "metadata": {
        "id": "x3l_t_yRjgvP"
      },
      "source": [
        "# Feature Extraction and Selection"
      ]
    },
    {
      "cell_type": "code",
      "source": [
        "!pip install tsfresh"
      ],
      "metadata": {
        "colab": {
          "base_uri": "https://localhost:8080/"
        },
        "id": "wvpoabtwjifq",
        "outputId": "e80dbeb9-292a-4628-c898-b304becb7ad6"
      },
      "execution_count": null,
      "outputs": [
        {
          "output_type": "stream",
          "name": "stdout",
          "text": [
            "Looking in indexes: https://pypi.org/simple, https://us-python.pkg.dev/colab-wheels/public/simple/\n",
            "Collecting tsfresh\n",
            "  Downloading tsfresh-0.20.0-py2.py3-none-any.whl (98 kB)\n",
            "\u001b[2K     \u001b[90m━━━━━━━━━━━━━━━━━━━━━━━━━━━━━━━━━━━━━━━━\u001b[0m \u001b[32m98.2/98.2 KB\u001b[0m \u001b[31m1.7 MB/s\u001b[0m eta \u001b[36m0:00:00\u001b[0m\n",
            "\u001b[?25hRequirement already satisfied: pandas>=0.25.0 in /usr/local/lib/python3.8/dist-packages (from tsfresh) (1.3.5)\n",
            "Collecting stumpy>=1.7.2\n",
            "  Downloading stumpy-1.11.1-py3-none-any.whl (136 kB)\n",
            "\u001b[2K     \u001b[90m━━━━━━━━━━━━━━━━━━━━━━━━━━━━━━━━━━━━━━━\u001b[0m \u001b[32m136.2/136.2 KB\u001b[0m \u001b[31m2.6 MB/s\u001b[0m eta \u001b[36m0:00:00\u001b[0m\n",
            "\u001b[?25hRequirement already satisfied: cloudpickle in /usr/local/lib/python3.8/dist-packages (from tsfresh) (2.2.1)\n",
            "Requirement already satisfied: scipy>=1.2.0 in /usr/local/lib/python3.8/dist-packages (from tsfresh) (1.7.3)\n",
            "Requirement already satisfied: dask[dataframe]>=2.9.0 in /usr/local/lib/python3.8/dist-packages (from tsfresh) (2022.2.1)\n",
            "Requirement already satisfied: numpy>=1.15.1 in /usr/local/lib/python3.8/dist-packages (from tsfresh) (1.21.6)\n",
            "Requirement already satisfied: patsy>=0.4.1 in /usr/local/lib/python3.8/dist-packages (from tsfresh) (0.5.3)\n",
            "Requirement already satisfied: distributed>=2.11.0 in /usr/local/lib/python3.8/dist-packages (from tsfresh) (2022.2.1)\n",
            "Requirement already satisfied: scikit-learn>=0.22.0 in /usr/local/lib/python3.8/dist-packages (from tsfresh) (1.0.2)\n",
            "Collecting statsmodels>=0.13\n",
            "  Downloading statsmodels-0.13.5-cp38-cp38-manylinux_2_17_x86_64.manylinux2014_x86_64.whl (9.9 MB)\n",
            "\u001b[2K     \u001b[90m━━━━━━━━━━━━━━━━━━━━━━━━━━━━━━━━━━━━━━━━\u001b[0m \u001b[32m9.9/9.9 MB\u001b[0m \u001b[31m52.1 MB/s\u001b[0m eta \u001b[36m0:00:00\u001b[0m\n",
            "\u001b[?25hRequirement already satisfied: requests>=2.9.1 in /usr/local/lib/python3.8/dist-packages (from tsfresh) (2.25.1)\n",
            "Requirement already satisfied: tqdm>=4.10.0 in /usr/local/lib/python3.8/dist-packages (from tsfresh) (4.64.1)\n",
            "Requirement already satisfied: toolz>=0.8.2 in /usr/local/lib/python3.8/dist-packages (from dask[dataframe]>=2.9.0->tsfresh) (0.12.0)\n",
            "Requirement already satisfied: pyyaml>=5.3.1 in /usr/local/lib/python3.8/dist-packages (from dask[dataframe]>=2.9.0->tsfresh) (6.0)\n",
            "Requirement already satisfied: fsspec>=0.6.0 in /usr/local/lib/python3.8/dist-packages (from dask[dataframe]>=2.9.0->tsfresh) (2023.1.0)\n",
            "Requirement already satisfied: packaging>=20.0 in /usr/local/lib/python3.8/dist-packages (from dask[dataframe]>=2.9.0->tsfresh) (23.0)\n",
            "Requirement already satisfied: partd>=0.3.10 in /usr/local/lib/python3.8/dist-packages (from dask[dataframe]>=2.9.0->tsfresh) (1.3.0)\n",
            "Requirement already satisfied: click>=6.6 in /usr/local/lib/python3.8/dist-packages (from distributed>=2.11.0->tsfresh) (7.1.2)\n",
            "Requirement already satisfied: tblib>=1.6.0 in /usr/local/lib/python3.8/dist-packages (from distributed>=2.11.0->tsfresh) (1.7.0)\n",
            "Requirement already satisfied: msgpack>=0.6.0 in /usr/local/lib/python3.8/dist-packages (from distributed>=2.11.0->tsfresh) (1.0.4)\n",
            "Requirement already satisfied: zict>=0.1.3 in /usr/local/lib/python3.8/dist-packages (from distributed>=2.11.0->tsfresh) (2.2.0)\n",
            "Requirement already satisfied: sortedcontainers!=2.0.0,!=2.0.1 in /usr/local/lib/python3.8/dist-packages (from distributed>=2.11.0->tsfresh) (2.4.0)\n",
            "Requirement already satisfied: tornado>=6.0.3 in /usr/local/lib/python3.8/dist-packages (from distributed>=2.11.0->tsfresh) (6.0.4)\n",
            "Requirement already satisfied: jinja2 in /usr/local/lib/python3.8/dist-packages (from distributed>=2.11.0->tsfresh) (2.11.3)\n",
            "Requirement already satisfied: setuptools in /usr/local/lib/python3.8/dist-packages (from distributed>=2.11.0->tsfresh) (57.4.0)\n",
            "Requirement already satisfied: psutil>=5.0 in /usr/local/lib/python3.8/dist-packages (from distributed>=2.11.0->tsfresh) (5.4.8)\n",
            "Requirement already satisfied: python-dateutil>=2.7.3 in /usr/local/lib/python3.8/dist-packages (from pandas>=0.25.0->tsfresh) (2.8.2)\n",
            "Requirement already satisfied: pytz>=2017.3 in /usr/local/lib/python3.8/dist-packages (from pandas>=0.25.0->tsfresh) (2022.7.1)\n",
            "Requirement already satisfied: six in /usr/local/lib/python3.8/dist-packages (from patsy>=0.4.1->tsfresh) (1.15.0)\n",
            "Requirement already satisfied: certifi>=2017.4.17 in /usr/local/lib/python3.8/dist-packages (from requests>=2.9.1->tsfresh) (2022.12.7)\n",
            "Requirement already satisfied: chardet<5,>=3.0.2 in /usr/local/lib/python3.8/dist-packages (from requests>=2.9.1->tsfresh) (4.0.0)\n",
            "Requirement already satisfied: urllib3<1.27,>=1.21.1 in /usr/local/lib/python3.8/dist-packages (from requests>=2.9.1->tsfresh) (1.24.3)\n",
            "Requirement already satisfied: idna<3,>=2.5 in /usr/local/lib/python3.8/dist-packages (from requests>=2.9.1->tsfresh) (2.10)\n",
            "Requirement already satisfied: threadpoolctl>=2.0.0 in /usr/local/lib/python3.8/dist-packages (from scikit-learn>=0.22.0->tsfresh) (3.1.0)\n",
            "Requirement already satisfied: joblib>=0.11 in /usr/local/lib/python3.8/dist-packages (from scikit-learn>=0.22.0->tsfresh) (1.2.0)\n",
            "Requirement already satisfied: numba>=0.54 in /usr/local/lib/python3.8/dist-packages (from stumpy>=1.7.2->tsfresh) (0.56.4)\n",
            "Requirement already satisfied: llvmlite<0.40,>=0.39.0dev0 in /usr/local/lib/python3.8/dist-packages (from numba>=0.54->stumpy>=1.7.2->tsfresh) (0.39.1)\n",
            "Requirement already satisfied: importlib-metadata in /usr/local/lib/python3.8/dist-packages (from numba>=0.54->stumpy>=1.7.2->tsfresh) (6.0.0)\n",
            "Requirement already satisfied: locket in /usr/local/lib/python3.8/dist-packages (from partd>=0.3.10->dask[dataframe]>=2.9.0->tsfresh) (1.0.0)\n",
            "Requirement already satisfied: heapdict in /usr/local/lib/python3.8/dist-packages (from zict>=0.1.3->distributed>=2.11.0->tsfresh) (1.0.1)\n",
            "Requirement already satisfied: MarkupSafe>=0.23 in /usr/local/lib/python3.8/dist-packages (from jinja2->distributed>=2.11.0->tsfresh) (2.0.1)\n",
            "Requirement already satisfied: zipp>=0.5 in /usr/local/lib/python3.8/dist-packages (from importlib-metadata->numba>=0.54->stumpy>=1.7.2->tsfresh) (3.12.1)\n",
            "Installing collected packages: stumpy, statsmodels, tsfresh\n",
            "  Attempting uninstall: statsmodels\n",
            "    Found existing installation: statsmodels 0.12.2\n",
            "    Uninstalling statsmodels-0.12.2:\n",
            "      Successfully uninstalled statsmodels-0.12.2\n",
            "Successfully installed statsmodels-0.13.5 stumpy-1.11.1 tsfresh-0.20.0\n"
          ]
        }
      ]
    },
    {
      "cell_type": "markdown",
      "metadata": {
        "id": "4HSz5rlWjgvU"
      },
      "source": [
        "This basic example shows how to use [tsfresh](https://tsfresh.readthedocs.io/) to extract useful features from multiple timeseries and use them to improve classification performance.\n",
        "\n",
        "We use the robot execution failure data set as an example."
      ]
    },
    {
      "cell_type": "markdown",
      "source": [
        "## Call libraries"
      ],
      "metadata": {
        "id": "3a3sPrKRSGdi"
      }
    },
    {
      "cell_type": "code",
      "execution_count": null,
      "metadata": {
        "colab": {
          "base_uri": "https://localhost:8080/"
        },
        "id": "y7oB7XFpjgvV",
        "outputId": "06af5d03-9b17-407a-c0c0-f418181a7077"
      },
      "outputs": [
        {
          "output_type": "stream",
          "name": "stderr",
          "text": [
            "ERROR:numba.cuda.cudadrv.driver:Call to cuInit results in CUDA_ERROR_NO_DEVICE\n"
          ]
        }
      ],
      "source": [
        "# 1.0\n",
        "%matplotlib inline\n",
        "import matplotlib.pylab as plt\n",
        "\n",
        "# 1.0.1\n",
        "from tsfresh import extract_features, extract_relevant_features, select_features\n",
        "from tsfresh.utilities.dataframe_functions import impute\n",
        "from tsfresh.feature_extraction import ComprehensiveFCParameters\n",
        "\n",
        "# 1.0.2\n",
        "from sklearn.tree import DecisionTreeClassifier\n",
        "from sklearn.model_selection import train_test_split\n",
        "from sklearn.metrics import classification_report"
      ]
    },
    {
      "cell_type": "code",
      "source": [
        "# 1.1\n",
        "from IPython.core.interactiveshell import InteractiveShell\n",
        "InteractiveShell.ast_node_interactivity = \"all\""
      ],
      "metadata": {
        "id": "PcFCsL-8kGkL"
      },
      "execution_count": null,
      "outputs": []
    },
    {
      "cell_type": "markdown",
      "metadata": {
        "id": "ybVPfUBdjgvX"
      },
      "source": [
        "## Load and visualize data\n",
        "\n",
        "The data set documents 88 robot executions (each has a unique `id` between 1 and 88), which is a subset of the [Robot Execution Failures Data Set](https://archive.ics.uci.edu/ml/datasets/Robot+Execution+Failures). \n",
        "For the purpose of simplicity we are only differentiating between successfull and failed executions (`y`).\n",
        "\n",
        "For each execution 15 force (F) and torque (T) samples are given, which were measured at regular time intervals for the spatial dimensions x, y, and z. \n",
        "Therefore each row of the data frame references a specific execution (`id`), a time index (`index`) and documents the respective measurements of 6 sensors (`F_x`, `F_y`, `F_z`, `T_x`, `T_y`, `T_z`)."
      ]
    },
    {
      "cell_type": "code",
      "execution_count": null,
      "metadata": {
        "id": "5UxLWDoCjgvZ"
      },
      "outputs": [],
      "source": [
        "# 2.0\n",
        "from tsfresh.examples import robot_execution_failures"
      ]
    },
    {
      "cell_type": "code",
      "source": [
        "# 2.1 Download data:\n",
        "robot_execution_failures.download_robot_execution_failures()"
      ],
      "metadata": {
        "id": "m4mMmE7gj2GL"
      },
      "execution_count": null,
      "outputs": []
    },
    {
      "cell_type": "code",
      "source": [
        "# 2.2 Read downloaded data:\n",
        "df, y = robot_execution_failures.load_robot_execution_failures()"
      ],
      "metadata": {
        "id": "NcpHRsR4j6Fy"
      },
      "execution_count": null,
      "outputs": []
    },
    {
      "cell_type": "code",
      "source": [
        "# 2.3\n",
        "df.head()\n"
      ],
      "metadata": {
        "colab": {
          "base_uri": "https://localhost:8080/",
          "height": 206
        },
        "id": "WJW9UgJij8AC",
        "outputId": "3810d907-5f0d-4eea-c614-c124233b458f"
      },
      "execution_count": null,
      "outputs": [
        {
          "output_type": "execute_result",
          "data": {
            "text/plain": [
              "   id  time  F_x  F_y  F_z  T_x  T_y  T_z\n",
              "0   1     0   -1   -1   63   -3   -1    0\n",
              "1   1     1    0    0   62   -3   -1    0\n",
              "2   1     2   -1   -1   61   -3    0    0\n",
              "3   1     3   -1   -1   63   -2   -1    0\n",
              "4   1     4   -1   -1   63   -3   -1    0"
            ],
            "text/html": [
              "\n",
              "  <div id=\"df-90b78153-a5fe-4440-b778-fb19d9aa6f72\">\n",
              "    <div class=\"colab-df-container\">\n",
              "      <div>\n",
              "<style scoped>\n",
              "    .dataframe tbody tr th:only-of-type {\n",
              "        vertical-align: middle;\n",
              "    }\n",
              "\n",
              "    .dataframe tbody tr th {\n",
              "        vertical-align: top;\n",
              "    }\n",
              "\n",
              "    .dataframe thead th {\n",
              "        text-align: right;\n",
              "    }\n",
              "</style>\n",
              "<table border=\"1\" class=\"dataframe\">\n",
              "  <thead>\n",
              "    <tr style=\"text-align: right;\">\n",
              "      <th></th>\n",
              "      <th>id</th>\n",
              "      <th>time</th>\n",
              "      <th>F_x</th>\n",
              "      <th>F_y</th>\n",
              "      <th>F_z</th>\n",
              "      <th>T_x</th>\n",
              "      <th>T_y</th>\n",
              "      <th>T_z</th>\n",
              "    </tr>\n",
              "  </thead>\n",
              "  <tbody>\n",
              "    <tr>\n",
              "      <th>0</th>\n",
              "      <td>1</td>\n",
              "      <td>0</td>\n",
              "      <td>-1</td>\n",
              "      <td>-1</td>\n",
              "      <td>63</td>\n",
              "      <td>-3</td>\n",
              "      <td>-1</td>\n",
              "      <td>0</td>\n",
              "    </tr>\n",
              "    <tr>\n",
              "      <th>1</th>\n",
              "      <td>1</td>\n",
              "      <td>1</td>\n",
              "      <td>0</td>\n",
              "      <td>0</td>\n",
              "      <td>62</td>\n",
              "      <td>-3</td>\n",
              "      <td>-1</td>\n",
              "      <td>0</td>\n",
              "    </tr>\n",
              "    <tr>\n",
              "      <th>2</th>\n",
              "      <td>1</td>\n",
              "      <td>2</td>\n",
              "      <td>-1</td>\n",
              "      <td>-1</td>\n",
              "      <td>61</td>\n",
              "      <td>-3</td>\n",
              "      <td>0</td>\n",
              "      <td>0</td>\n",
              "    </tr>\n",
              "    <tr>\n",
              "      <th>3</th>\n",
              "      <td>1</td>\n",
              "      <td>3</td>\n",
              "      <td>-1</td>\n",
              "      <td>-1</td>\n",
              "      <td>63</td>\n",
              "      <td>-2</td>\n",
              "      <td>-1</td>\n",
              "      <td>0</td>\n",
              "    </tr>\n",
              "    <tr>\n",
              "      <th>4</th>\n",
              "      <td>1</td>\n",
              "      <td>4</td>\n",
              "      <td>-1</td>\n",
              "      <td>-1</td>\n",
              "      <td>63</td>\n",
              "      <td>-3</td>\n",
              "      <td>-1</td>\n",
              "      <td>0</td>\n",
              "    </tr>\n",
              "  </tbody>\n",
              "</table>\n",
              "</div>\n",
              "      <button class=\"colab-df-convert\" onclick=\"convertToInteractive('df-90b78153-a5fe-4440-b778-fb19d9aa6f72')\"\n",
              "              title=\"Convert this dataframe to an interactive table.\"\n",
              "              style=\"display:none;\">\n",
              "        \n",
              "  <svg xmlns=\"http://www.w3.org/2000/svg\" height=\"24px\"viewBox=\"0 0 24 24\"\n",
              "       width=\"24px\">\n",
              "    <path d=\"M0 0h24v24H0V0z\" fill=\"none\"/>\n",
              "    <path d=\"M18.56 5.44l.94 2.06.94-2.06 2.06-.94-2.06-.94-.94-2.06-.94 2.06-2.06.94zm-11 1L8.5 8.5l.94-2.06 2.06-.94-2.06-.94L8.5 2.5l-.94 2.06-2.06.94zm10 10l.94 2.06.94-2.06 2.06-.94-2.06-.94-.94-2.06-.94 2.06-2.06.94z\"/><path d=\"M17.41 7.96l-1.37-1.37c-.4-.4-.92-.59-1.43-.59-.52 0-1.04.2-1.43.59L10.3 9.45l-7.72 7.72c-.78.78-.78 2.05 0 2.83L4 21.41c.39.39.9.59 1.41.59.51 0 1.02-.2 1.41-.59l7.78-7.78 2.81-2.81c.8-.78.8-2.07 0-2.86zM5.41 20L4 18.59l7.72-7.72 1.47 1.35L5.41 20z\"/>\n",
              "  </svg>\n",
              "      </button>\n",
              "      \n",
              "  <style>\n",
              "    .colab-df-container {\n",
              "      display:flex;\n",
              "      flex-wrap:wrap;\n",
              "      gap: 12px;\n",
              "    }\n",
              "\n",
              "    .colab-df-convert {\n",
              "      background-color: #E8F0FE;\n",
              "      border: none;\n",
              "      border-radius: 50%;\n",
              "      cursor: pointer;\n",
              "      display: none;\n",
              "      fill: #1967D2;\n",
              "      height: 32px;\n",
              "      padding: 0 0 0 0;\n",
              "      width: 32px;\n",
              "    }\n",
              "\n",
              "    .colab-df-convert:hover {\n",
              "      background-color: #E2EBFA;\n",
              "      box-shadow: 0px 1px 2px rgba(60, 64, 67, 0.3), 0px 1px 3px 1px rgba(60, 64, 67, 0.15);\n",
              "      fill: #174EA6;\n",
              "    }\n",
              "\n",
              "    [theme=dark] .colab-df-convert {\n",
              "      background-color: #3B4455;\n",
              "      fill: #D2E3FC;\n",
              "    }\n",
              "\n",
              "    [theme=dark] .colab-df-convert:hover {\n",
              "      background-color: #434B5C;\n",
              "      box-shadow: 0px 1px 3px 1px rgba(0, 0, 0, 0.15);\n",
              "      filter: drop-shadow(0px 1px 2px rgba(0, 0, 0, 0.3));\n",
              "      fill: #FFFFFF;\n",
              "    }\n",
              "  </style>\n",
              "\n",
              "      <script>\n",
              "        const buttonEl =\n",
              "          document.querySelector('#df-90b78153-a5fe-4440-b778-fb19d9aa6f72 button.colab-df-convert');\n",
              "        buttonEl.style.display =\n",
              "          google.colab.kernel.accessAllowed ? 'block' : 'none';\n",
              "\n",
              "        async function convertToInteractive(key) {\n",
              "          const element = document.querySelector('#df-90b78153-a5fe-4440-b778-fb19d9aa6f72');\n",
              "          const dataTable =\n",
              "            await google.colab.kernel.invokeFunction('convertToInteractive',\n",
              "                                                     [key], {});\n",
              "          if (!dataTable) return;\n",
              "\n",
              "          const docLinkHtml = 'Like what you see? Visit the ' +\n",
              "            '<a target=\"_blank\" href=https://colab.research.google.com/notebooks/data_table.ipynb>data table notebook</a>'\n",
              "            + ' to learn more about interactive tables.';\n",
              "          element.innerHTML = '';\n",
              "          dataTable['output_type'] = 'display_data';\n",
              "          await google.colab.output.renderOutput(dataTable, element);\n",
              "          const docLink = document.createElement('div');\n",
              "          docLink.innerHTML = docLinkHtml;\n",
              "          element.appendChild(docLink);\n",
              "        }\n",
              "      </script>\n",
              "    </div>\n",
              "  </div>\n",
              "  "
            ]
          },
          "metadata": {},
          "execution_count": 7
        }
      ]
    },
    {
      "cell_type": "code",
      "source": [
        "# 2.3.1\n",
        "y"
      ],
      "metadata": {
        "colab": {
          "base_uri": "https://localhost:8080/"
        },
        "id": "uOFicWU0kMC0",
        "outputId": "57966174-cf6b-483f-a592-d12fae1a21d0"
      },
      "execution_count": null,
      "outputs": [
        {
          "output_type": "execute_result",
          "data": {
            "text/plain": [
              "1      True\n",
              "2      True\n",
              "3      True\n",
              "4      True\n",
              "5      True\n",
              "      ...  \n",
              "84    False\n",
              "85    False\n",
              "86    False\n",
              "87    False\n",
              "88    False\n",
              "Length: 88, dtype: bool"
            ]
          },
          "metadata": {},
          "execution_count": 8
        }
      ]
    },
    {
      "cell_type": "code",
      "source": [
        "# 3.0\n",
        "df.shape   # (1320, 8)\n",
        "print(\"\\n============\\n\")\n",
        "df['id'].value_counts()   # 88 * 15 = 1320"
      ],
      "metadata": {
        "colab": {
          "base_uri": "https://localhost:8080/"
        },
        "id": "39zc5XnokNjN",
        "outputId": "aecb7c52-ee7a-4a9e-fc44-7796a5ac3b5a"
      },
      "execution_count": null,
      "outputs": [
        {
          "output_type": "execute_result",
          "data": {
            "text/plain": [
              "(1320, 8)"
            ]
          },
          "metadata": {},
          "execution_count": 11
        },
        {
          "output_type": "stream",
          "name": "stdout",
          "text": [
            "\n",
            "============\n",
            "\n"
          ]
        },
        {
          "output_type": "execute_result",
          "data": {
            "text/plain": [
              "1     15\n",
              "2     15\n",
              "65    15\n",
              "64    15\n",
              "63    15\n",
              "      ..\n",
              "28    15\n",
              "27    15\n",
              "26    15\n",
              "25    15\n",
              "88    15\n",
              "Name: id, Length: 88, dtype: int64"
            ]
          },
          "metadata": {},
          "execution_count": 11
        }
      ]
    },
    {
      "cell_type": "markdown",
      "source": [
        "## Plotting"
      ],
      "metadata": {
        "id": "JpNYeT3-SmSH"
      }
    },
    {
      "cell_type": "markdown",
      "metadata": {
        "id": "PwlbNjKcjgva"
      },
      "source": [
        "Let's draw some example executions:"
      ]
    },
    {
      "cell_type": "code",
      "execution_count": null,
      "metadata": {
        "colab": {
          "base_uri": "https://localhost:8080/",
          "height": 791
        },
        "id": "GMdEP-pljgvb",
        "outputId": "38da2dcf-2ae3-43f3-aab2-c9b3c55517f3"
      },
      "outputs": [
        {
          "output_type": "display_data",
          "data": {
            "text/plain": [
              "<Figure size 864x432 with 1 Axes>"
            ],
            "image/png": "[encoded data removed]"
          },
          "metadata": {
            "needs_background": "light"
          }
        },
        {
          "output_type": "display_data",
          "data": {
            "text/plain": [
              "<Figure size 864x432 with 1 Axes>"
            ],
            "image/png": "[encoded data removed]"
          },
          "metadata": {
            "needs_background": "light"
          }
        }
      ],
      "source": [
        "# 4.0\n",
        "df[df.id == 3][['time', 'F_x', 'F_y', 'F_z', 'T_x', 'T_y', 'T_z']].plot(x='time', title='Success example (id 3)', figsize=(12, 6));\n",
        "df[df.id == 20][['time', 'F_x', 'F_y', 'F_z', 'T_x', 'T_y', 'T_z']].plot(x='time', title='Failure example (id 20)', figsize=(12, 6));"
      ]
    },
    {
      "cell_type": "markdown",
      "metadata": {
        "id": "JVUqJAF5jgvb"
      },
      "source": [
        "## Extract Features\n",
        "For what all feature engineering is performed on features, see [here](https://tsfresh.readthedocs.io/en/latest/text/list_of_features.html)"
      ]
    },
    {
      "cell_type": "markdown",
      "metadata": {
        "id": "gzgFB8yTjgvc"
      },
      "source": [
        "We can use the data to extract time series features using `tsfresh`.\n",
        "We want to extract features for each time series, that means for each robot execution (which is our `id`) and for each of the measured sensor values (`F_*` and `T_*`).\n",
        "\n",
        "You can think of it like this: tsfresh will result in a single row for each `id` and will calculate the features for each columns (we call them \"kind\") separately.\n",
        "\n",
        "The `time` column is our sorting column.\n",
        "For an overview on the data formats of `tsfresh`, please have a look at [the documentation](https://tsfresh.readthedocs.io/en/latest/text/data_formats.html)."
      ]
    },
    {
      "cell_type": "markdown",
      "source": [
        "![image.png](data:image/png;base64,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)"
      ],
      "metadata": {
        "id": "-g9RDbiMS_og"
      }
    },
    {
      "cell_type": "code",
      "execution_count": null,
      "metadata": {
        "colab": {
          "base_uri": "https://localhost:8080/"
        },
        "id": "Sy_gIqHfjgvd",
        "outputId": "93c459a6-5a41-4588-dcf3-38860f5c8cee"
      },
      "outputs": [
        {
          "output_type": "stream",
          "name": "stderr",
          "text": [
            "WARNING:tsfresh.feature_extraction.settings:Dependency not available for matrix_profile, this feature will be disabled!\n"
          ]
        }
      ],
      "source": [
        "# 5.0\n",
        "# We are very explicit here and specify the `default_fc_parameters`. \n",
        "# If you remove this argument, the ComprehensiveFCParameters \n",
        "# (= all feature calculators) will also be used as default.\n",
        "# Have a look into the documentation \n",
        "# (https://tsfresh.readthedocs.io/en/latest/text/feature_extraction_settings.html)\n",
        "# or one of the other notebooks to learn more about this.\n",
        "extraction_settings = ComprehensiveFCParameters()"
      ]
    },
    {
      "cell_type": "code",
      "source": [
        "# 5.1\n",
        "X = extract_features(df,\n",
        "                     column_id='id',\n",
        "                     column_sort='time',\n",
        "                     default_fc_parameters=extraction_settings,\n",
        "                     # we impute = remove all NaN features automatically\n",
        "                     impute_function=impute\n",
        "                     )"
      ],
      "metadata": {
        "colab": {
          "base_uri": "https://localhost:8080/"
        },
        "id": "5iV132rclCRP",
        "outputId": "c402514c-e979-44a7-e78e-807ede1e041c"
      },
      "execution_count": null,
      "outputs": [
        {
          "output_type": "stream",
          "name": "stderr",
          "text": [
            "Feature Extraction: 100%|██████████| 528/528 [00:24<00:00, 21.24it/s]\n"
          ]
        }
      ]
    },
    {
      "cell_type": "markdown",
      "metadata": {
        "id": "UpDcnhDqjgve"
      },
      "source": [
        "`X` now contains for each robot execution (= `id`) a single row, with all the features `tsfresh` calculated based on the measured times series values for this `id`."
      ]
    },
    {
      "cell_type": "code",
      "execution_count": null,
      "metadata": {
        "colab": {
          "base_uri": "https://localhost:8080/",
          "height": 299
        },
        "id": "W4BaUsy1jgvf",
        "outputId": "910d3a34-22f5-47a7-9352-1006ffa2bdde"
      },
      "outputs": [
        {
          "output_type": "execute_result",
          "data": {
            "text/plain": [
              "   F_x__variance_larger_than_standard_deviation  F_x__has_duplicate_max  \\\n",
              "1                                           0.0                     0.0   \n",
              "2                                           0.0                     1.0   \n",
              "3                                           0.0                     0.0   \n",
              "4                                           0.0                     1.0   \n",
              "5                                           0.0                     0.0   \n",
              "\n",
              "   F_x__has_duplicate_min  F_x__has_duplicate  F_x__sum_values  \\\n",
              "1                     1.0                 1.0            -14.0   \n",
              "2                     1.0                 1.0            -13.0   \n",
              "3                     1.0                 1.0            -10.0   \n",
              "4                     1.0                 1.0             -6.0   \n",
              "5                     0.0                 1.0             -9.0   \n",
              "\n",
              "   F_x__abs_energy  F_x__mean_abs_change  F_x__mean_change  \\\n",
              "1             14.0              0.142857          0.000000   \n",
              "2             25.0              1.000000          0.000000   \n",
              "3             12.0              0.714286          0.000000   \n",
              "4             16.0              1.214286         -0.071429   \n",
              "5             17.0              0.928571         -0.071429   \n",
              "\n",
              "   F_x__mean_second_derivative_central  F_x__median  ...  \\\n",
              "1                            -0.038462         -1.0  ...   \n",
              "2                            -0.038462         -1.0  ...   \n",
              "3                            -0.038462         -1.0  ...   \n",
              "4                            -0.038462          0.0  ...   \n",
              "5                             0.038462         -1.0  ...   \n",
              "\n",
              "   T_z__fourier_entropy__bins_5  T_z__fourier_entropy__bins_10  \\\n",
              "1                      0.974315                       1.288185   \n",
              "2                      1.073543                       1.494175   \n",
              "3                      1.386294                       1.732868   \n",
              "4                      1.073543                       1.494175   \n",
              "5                      0.900256                       1.320888   \n",
              "\n",
              "   T_z__fourier_entropy__bins_100  \\\n",
              "1                        1.906155   \n",
              "2                        2.079442   \n",
              "3                        2.079442   \n",
              "4                        2.079442   \n",
              "5                        2.079442   \n",
              "\n",
              "   T_z__permutation_entropy__dimension_3__tau_1  \\\n",
              "1                                     -0.000000   \n",
              "2                                      0.937156   \n",
              "3                                      1.265857   \n",
              "4                                      1.156988   \n",
              "5                                      1.156988   \n",
              "\n",
              "   T_z__permutation_entropy__dimension_4__tau_1  \\\n",
              "1                                     -0.000000   \n",
              "2                                      1.234268   \n",
              "3                                      1.704551   \n",
              "4                                      1.907284   \n",
              "5                                      1.863680   \n",
              "\n",
              "   T_z__permutation_entropy__dimension_5__tau_1  \\\n",
              "1                                     -0.000000   \n",
              "2                                      1.540306   \n",
              "3                                      2.019815   \n",
              "4                                      2.397895   \n",
              "5                                      2.271869   \n",
              "\n",
              "   T_z__permutation_entropy__dimension_6__tau_1  \\\n",
              "1                                     -0.000000   \n",
              "2                                      1.748067   \n",
              "3                                      2.163956   \n",
              "4                                      2.302585   \n",
              "5                                      2.302585   \n",
              "\n",
              "   T_z__permutation_entropy__dimension_7__tau_1  \\\n",
              "1                                     -0.000000   \n",
              "2                                      1.831020   \n",
              "3                                      2.197225   \n",
              "4                                      2.197225   \n",
              "5                                      2.197225   \n",
              "\n",
              "   T_z__query_similarity_count__query_None__threshold_0.0  \\\n",
              "1                                                0.0        \n",
              "2                                                0.0        \n",
              "3                                                0.0        \n",
              "4                                                0.0        \n",
              "5                                                0.0        \n",
              "\n",
              "   T_z__mean_n_absolute_max__number_of_maxima_7  \n",
              "1                                      0.000000  \n",
              "2                                      0.571429  \n",
              "3                                      0.571429  \n",
              "4                                      1.000000  \n",
              "5                                      0.857143  \n",
              "\n",
              "[5 rows x 4698 columns]"
            ],
            "text/html": [
              "\n",
              "  <div id=\"df-08084331-7e1d-4306-88b8-879619c92746\">\n",
              "    <div class=\"colab-df-container\">\n",
              "      <div>\n",
              "<style scoped>\n",
              "    .dataframe tbody tr th:only-of-type {\n",
              "        vertical-align: middle;\n",
              "    }\n",
              "\n",
              "    .dataframe tbody tr th {\n",
              "        vertical-align: top;\n",
              "    }\n",
              "\n",
              "    .dataframe thead th {\n",
              "        text-align: right;\n",
              "    }\n",
              "</style>\n",
              "<table border=\"1\" class=\"dataframe\">\n",
              "  <thead>\n",
              "    <tr style=\"text-align: right;\">\n",
              "      <th></th>\n",
              "      <th>F_x__variance_larger_than_standard_deviation</th>\n",
              "      <th>F_x__has_duplicate_max</th>\n",
              "      <th>F_x__has_duplicate_min</th>\n",
              "      <th>F_x__has_duplicate</th>\n",
              "      <th>F_x__sum_values</th>\n",
              "      <th>F_x__abs_energy</th>\n",
              "      <th>F_x__mean_abs_change</th>\n",
              "      <th>F_x__mean_change</th>\n",
              "      <th>F_x__mean_second_derivative_central</th>\n",
              "      <th>F_x__median</th>\n",
              "      <th>...</th>\n",
              "      <th>T_z__fourier_entropy__bins_5</th>\n",
              "      <th>T_z__fourier_entropy__bins_10</th>\n",
              "      <th>T_z__fourier_entropy__bins_100</th>\n",
              "      <th>T_z__permutation_entropy__dimension_3__tau_1</th>\n",
              "      <th>T_z__permutation_entropy__dimension_4__tau_1</th>\n",
              "      <th>T_z__permutation_entropy__dimension_5__tau_1</th>\n",
              "      <th>T_z__permutation_entropy__dimension_6__tau_1</th>\n",
              "      <th>T_z__permutation_entropy__dimension_7__tau_1</th>\n",
              "      <th>T_z__query_similarity_count__query_None__threshold_0.0</th>\n",
              "      <th>T_z__mean_n_absolute_max__number_of_maxima_7</th>\n",
              "    </tr>\n",
              "  </thead>\n",
              "  <tbody>\n",
              "    <tr>\n",
              "      <th>1</th>\n",
              "      <td>0.0</td>\n",
              "      <td>0.0</td>\n",
              "      <td>1.0</td>\n",
              "      <td>1.0</td>\n",
              "      <td>-14.0</td>\n",
              "      <td>14.0</td>\n",
              "      <td>0.142857</td>\n",
              "      <td>0.000000</td>\n",
              "      <td>-0.038462</td>\n",
              "      <td>-1.0</td>\n",
              "      <td>...</td>\n",
              "      <td>0.974315</td>\n",
              "      <td>1.288185</td>\n",
              "      <td>1.906155</td>\n",
              "      <td>-0.000000</td>\n",
              "      <td>-0.000000</td>\n",
              "      <td>-0.000000</td>\n",
              "      <td>-0.000000</td>\n",
              "      <td>-0.000000</td>\n",
              "      <td>0.0</td>\n",
              "      <td>0.000000</td>\n",
              "    </tr>\n",
              "    <tr>\n",
              "      <th>2</th>\n",
              "      <td>0.0</td>\n",
              "      <td>1.0</td>\n",
              "      <td>1.0</td>\n",
              "      <td>1.0</td>\n",
              "      <td>-13.0</td>\n",
              "      <td>25.0</td>\n",
              "      <td>1.000000</td>\n",
              "      <td>0.000000</td>\n",
              "      <td>-0.038462</td>\n",
              "      <td>-1.0</td>\n",
              "      <td>...</td>\n",
              "      <td>1.073543</td>\n",
              "      <td>1.494175</td>\n",
              "      <td>2.079442</td>\n",
              "      <td>0.937156</td>\n",
              "      <td>1.234268</td>\n",
              "      <td>1.540306</td>\n",
              "      <td>1.748067</td>\n",
              "      <td>1.831020</td>\n",
              "      <td>0.0</td>\n",
              "      <td>0.571429</td>\n",
              "    </tr>\n",
              "    <tr>\n",
              "      <th>3</th>\n",
              "      <td>0.0</td>\n",
              "      <td>0.0</td>\n",
              "      <td>1.0</td>\n",
              "      <td>1.0</td>\n",
              "      <td>-10.0</td>\n",
              "      <td>12.0</td>\n",
              "      <td>0.714286</td>\n",
              "      <td>0.000000</td>\n",
              "      <td>-0.038462</td>\n",
              "      <td>-1.0</td>\n",
              "      <td>...</td>\n",
              "      <td>1.386294</td>\n",
              "      <td>1.732868</td>\n",
              "      <td>2.079442</td>\n",
              "      <td>1.265857</td>\n",
              "      <td>1.704551</td>\n",
              "      <td>2.019815</td>\n",
              "      <td>2.163956</td>\n",
              "      <td>2.197225</td>\n",
              "      <td>0.0</td>\n",
              "      <td>0.571429</td>\n",
              "    </tr>\n",
              "    <tr>\n",
              "      <th>4</th>\n",
              "      <td>0.0</td>\n",
              "      <td>1.0</td>\n",
              "      <td>1.0</td>\n",
              "      <td>1.0</td>\n",
              "      <td>-6.0</td>\n",
              "      <td>16.0</td>\n",
              "      <td>1.214286</td>\n",
              "      <td>-0.071429</td>\n",
              "      <td>-0.038462</td>\n",
              "      <td>0.0</td>\n",
              "      <td>...</td>\n",
              "      <td>1.073543</td>\n",
              "      <td>1.494175</td>\n",
              "      <td>2.079442</td>\n",
              "      <td>1.156988</td>\n",
              "      <td>1.907284</td>\n",
              "      <td>2.397895</td>\n",
              "      <td>2.302585</td>\n",
              "      <td>2.197225</td>\n",
              "      <td>0.0</td>\n",
              "      <td>1.000000</td>\n",
              "    </tr>\n",
              "    <tr>\n",
              "      <th>5</th>\n",
              "      <td>0.0</td>\n",
              "      <td>0.0</td>\n",
              "      <td>0.0</td>\n",
              "      <td>1.0</td>\n",
              "      <td>-9.0</td>\n",
              "      <td>17.0</td>\n",
              "      <td>0.928571</td>\n",
              "      <td>-0.071429</td>\n",
              "      <td>0.038462</td>\n",
              "      <td>-1.0</td>\n",
              "      <td>...</td>\n",
              "      <td>0.900256</td>\n",
              "      <td>1.320888</td>\n",
              "      <td>2.079442</td>\n",
              "      <td>1.156988</td>\n",
              "      <td>1.863680</td>\n",
              "      <td>2.271869</td>\n",
              "      <td>2.302585</td>\n",
              "      <td>2.197225</td>\n",
              "      <td>0.0</td>\n",
              "      <td>0.857143</td>\n",
              "    </tr>\n",
              "  </tbody>\n",
              "</table>\n",
              "<p>5 rows × 4698 columns</p>\n",
              "</div>\n",
              "      <button class=\"colab-df-convert\" onclick=\"convertToInteractive('df-08084331-7e1d-4306-88b8-879619c92746')\"\n",
              "              title=\"Convert this dataframe to an interactive table.\"\n",
              "              style=\"display:none;\">\n",
              "        \n",
              "  <svg xmlns=\"http://www.w3.org/2000/svg\" height=\"24px\"viewBox=\"0 0 24 24\"\n",
              "       width=\"24px\">\n",
              "    <path d=\"M0 0h24v24H0V0z\" fill=\"none\"/>\n",
              "    <path d=\"M18.56 5.44l.94 2.06.94-2.06 2.06-.94-2.06-.94-.94-2.06-.94 2.06-2.06.94zm-11 1L8.5 8.5l.94-2.06 2.06-.94-2.06-.94L8.5 2.5l-.94 2.06-2.06.94zm10 10l.94 2.06.94-2.06 2.06-.94-2.06-.94-.94-2.06-.94 2.06-2.06.94z\"/><path d=\"M17.41 7.96l-1.37-1.37c-.4-.4-.92-.59-1.43-.59-.52 0-1.04.2-1.43.59L10.3 9.45l-7.72 7.72c-.78.78-.78 2.05 0 2.83L4 21.41c.39.39.9.59 1.41.59.51 0 1.02-.2 1.41-.59l7.78-7.78 2.81-2.81c.8-.78.8-2.07 0-2.86zM5.41 20L4 18.59l7.72-7.72 1.47 1.35L5.41 20z\"/>\n",
              "  </svg>\n",
              "      </button>\n",
              "      \n",
              "  <style>\n",
              "    .colab-df-container {\n",
              "      display:flex;\n",
              "      flex-wrap:wrap;\n",
              "      gap: 12px;\n",
              "    }\n",
              "\n",
              "    .colab-df-convert {\n",
              "      background-color: #E8F0FE;\n",
              "      border: none;\n",
              "      border-radius: 50%;\n",
              "      cursor: pointer;\n",
              "      display: none;\n",
              "      fill: #1967D2;\n",
              "      height: 32px;\n",
              "      padding: 0 0 0 0;\n",
              "      width: 32px;\n",
              "    }\n",
              "\n",
              "    .colab-df-convert:hover {\n",
              "      background-color: #E2EBFA;\n",
              "      box-shadow: 0px 1px 2px rgba(60, 64, 67, 0.3), 0px 1px 3px 1px rgba(60, 64, 67, 0.15);\n",
              "      fill: #174EA6;\n",
              "    }\n",
              "\n",
              "    [theme=dark] .colab-df-convert {\n",
              "      background-color: #3B4455;\n",
              "      fill: #D2E3FC;\n",
              "    }\n",
              "\n",
              "    [theme=dark] .colab-df-convert:hover {\n",
              "      background-color: #434B5C;\n",
              "      box-shadow: 0px 1px 3px 1px rgba(0, 0, 0, 0.15);\n",
              "      filter: drop-shadow(0px 1px 2px rgba(0, 0, 0, 0.3));\n",
              "      fill: #FFFFFF;\n",
              "    }\n",
              "  </style>\n",
              "\n",
              "      <script>\n",
              "        const buttonEl =\n",
              "          document.querySelector('#df-08084331-7e1d-4306-88b8-879619c92746 button.colab-df-convert');\n",
              "        buttonEl.style.display =\n",
              "          google.colab.kernel.accessAllowed ? 'block' : 'none';\n",
              "\n",
              "        async function convertToInteractive(key) {\n",
              "          const element = document.querySelector('#df-08084331-7e1d-4306-88b8-879619c92746');\n",
              "          const dataTable =\n",
              "            await google.colab.kernel.invokeFunction('convertToInteractive',\n",
              "                                                     [key], {});\n",
              "          if (!dataTable) return;\n",
              "\n",
              "          const docLinkHtml = 'Like what you see? Visit the ' +\n",
              "            '<a target=\"_blank\" href=https://colab.research.google.com/notebooks/data_table.ipynb>data table notebook</a>'\n",
              "            + ' to learn more about interactive tables.';\n",
              "          element.innerHTML = '';\n",
              "          dataTable['output_type'] = 'display_data';\n",
              "          await google.colab.output.renderOutput(dataTable, element);\n",
              "          const docLink = document.createElement('div');\n",
              "          docLink.innerHTML = docLinkHtml;\n",
              "          element.appendChild(docLink);\n",
              "        }\n",
              "      </script>\n",
              "    </div>\n",
              "  </div>\n",
              "  "
            ]
          },
          "metadata": {},
          "execution_count": 15
        }
      ],
      "source": [
        "# 5.2\n",
        "X.head()\n",
        "print(\"\\n===========\\n\")\n",
        "X.shape"
      ]
    },
    {
      "cell_type": "markdown",
      "metadata": {
        "id": "fO_Xtq46jgvg"
      },
      "source": [
        "<div class=\"alert alert-info\">\n",
        "\n",
        "Currently, 4674 non-NaN features are calculated. \n",
        "This number varies with the version of `tsfresh` and with your data.\n",
        "    \n",
        "</div>"
      ]
    },
    {
      "cell_type": "markdown",
      "metadata": {
        "id": "RP42O32Vjgvg"
      },
      "source": [
        "## Select Features"
      ]
    },
    {
      "cell_type": "markdown",
      "metadata": {
        "id": "qfIpN7X1jgvg"
      },
      "source": [
        "Using the hypothesis tests implemented in `tsfresh` (see [here](https://tsfresh.readthedocs.io/en/latest/text/feature_filtering.html) for more information) it is now possible to select only the relevant features out of this large dataset.\n",
        "\n",
        "`tsfresh` will do a hypothesis test for each of the features to check, if it is relevant for your given target."
      ]
    },
    {
      "cell_type": "code",
      "execution_count": null,
      "metadata": {
        "id": "IV1ATzF1jgvh"
      },
      "outputs": [],
      "source": [
        "# 6.0\n",
        "X_filtered = select_features(X, y)"
      ]
    },
    {
      "cell_type": "code",
      "execution_count": null,
      "metadata": {
        "scrolled": true,
        "colab": {
          "base_uri": "https://localhost:8080/",
          "height": 334
        },
        "id": "_7adZ4YTjgvh",
        "outputId": "1b2aadfa-dd9f-44dd-b8c4-3ef7ccac9221"
      },
      "outputs": [
        {
          "output_type": "execute_result",
          "data": {
            "text/plain": [
              "(88, 682)"
            ]
          },
          "metadata": {},
          "execution_count": 18
        },
        {
          "output_type": "execute_result",
          "data": {
            "text/plain": [
              "   F_x__value_count__value_-1  F_x__abs_energy  F_x__root_mean_square  \\\n",
              "1                        14.0             14.0               0.966092   \n",
              "2                         7.0             25.0               1.290994   \n",
              "3                        11.0             12.0               0.894427   \n",
              "4                         5.0             16.0               1.032796   \n",
              "5                         9.0             17.0               1.064581   \n",
              "\n",
              "   T_y__absolute_maximum  F_x__mean_n_absolute_max__number_of_maxima_7  \\\n",
              "1                    1.0                                      1.000000   \n",
              "2                    5.0                                      1.571429   \n",
              "3                    5.0                                      1.000000   \n",
              "4                    6.0                                      1.285714   \n",
              "5                    5.0                                      1.285714   \n",
              "\n",
              "   F_x__range_count__max_1__min_-1  F_y__abs_energy  F_y__root_mean_square  \\\n",
              "1                             15.0             13.0               0.930949   \n",
              "2                             13.0             76.0               2.250926   \n",
              "3                             14.0             40.0               1.632993   \n",
              "4                             10.0             60.0               2.000000   \n",
              "5                             13.0             46.0               1.751190   \n",
              "\n",
              "   F_y__mean_n_absolute_max__number_of_maxima_7  T_y__variance  ...  \\\n",
              "1                                      1.000000       0.222222  ...   \n",
              "2                                      3.000000       4.222222  ...   \n",
              "3                                      2.142857       3.128889  ...   \n",
              "4                                      2.428571       7.128889  ...   \n",
              "5                                      2.285714       4.160000  ...   \n",
              "\n",
              "   F_y__cwt_coefficients__coeff_13__w_2__widths_(2, 5, 10, 20)  \\\n",
              "1                                          -0.310265             \n",
              "2                                          -0.202951             \n",
              "3                                           0.539121             \n",
              "4                                          -2.641390             \n",
              "5                                           0.591927             \n",
              "\n",
              "   F_y__cwt_coefficients__coeff_14__w_5__widths_(2, 5, 10, 20)  \\\n",
              "1                                          -0.751682             \n",
              "2                                           0.057818             \n",
              "3                                           0.912474             \n",
              "4                                          -0.609735             \n",
              "5                                           0.072771             \n",
              "\n",
              "   T_y__lempel_ziv_complexity__bins_3  T_y__quantile__q_0.1  \\\n",
              "1                            0.400000                  -1.0   \n",
              "2                            0.533333                  -3.6   \n",
              "3                            0.533333                  -4.0   \n",
              "4                            0.533333                  -4.6   \n",
              "5                            0.466667                  -5.0   \n",
              "\n",
              "   F_z__time_reversal_asymmetry_statistic__lag_1  F_x__quantile__q_0.2  \\\n",
              "1                                    -596.000000                  -1.0   \n",
              "2                                    -680.384615                  -1.0   \n",
              "3                                    -617.000000                  -1.0   \n",
              "4                                    3426.307692                  -1.0   \n",
              "5                                   -2609.000000                  -1.0   \n",
              "\n",
              "   F_y__quantile__q_0.7  \\\n",
              "1                  -1.0   \n",
              "2                  -1.0   \n",
              "3                   0.0   \n",
              "4                   1.0   \n",
              "5                   0.8   \n",
              "\n",
              "   T_x__change_quantiles__f_agg_\"var\"__isabs_False__qh_0.2__ql_0.0  \\\n",
              "1                                                0.0                 \n",
              "2                                                0.0                 \n",
              "3                                                0.0                 \n",
              "4                                                0.0                 \n",
              "5                                                0.0                 \n",
              "\n",
              "   T_z__large_standard_deviation__r_0.35000000000000003  T_z__quantile__q_0.9  \n",
              "1                                                0.0                      0.0  \n",
              "2                                                1.0                      0.0  \n",
              "3                                                1.0                      0.0  \n",
              "4                                                0.0                      0.0  \n",
              "5                                                0.0                      0.6  \n",
              "\n",
              "[5 rows x 682 columns]"
            ],
            "text/html": [
              "\n",
              "  <div id=\"df-0c83d5a4-36b4-4521-b1f3-a91bea74c25f\">\n",
              "    <div class=\"colab-df-container\">\n",
              "      <div>\n",
              "<style scoped>\n",
              "    .dataframe tbody tr th:only-of-type {\n",
              "        vertical-align: middle;\n",
              "    }\n",
              "\n",
              "    .dataframe tbody tr th {\n",
              "        vertical-align: top;\n",
              "    }\n",
              "\n",
              "    .dataframe thead th {\n",
              "        text-align: right;\n",
              "    }\n",
              "</style>\n",
              "<table border=\"1\" class=\"dataframe\">\n",
              "  <thead>\n",
              "    <tr style=\"text-align: right;\">\n",
              "      <th></th>\n",
              "      <th>F_x__value_count__value_-1</th>\n",
              "      <th>F_x__abs_energy</th>\n",
              "      <th>F_x__root_mean_square</th>\n",
              "      <th>T_y__absolute_maximum</th>\n",
              "      <th>F_x__mean_n_absolute_max__number_of_maxima_7</th>\n",
              "      <th>F_x__range_count__max_1__min_-1</th>\n",
              "      <th>F_y__abs_energy</th>\n",
              "      <th>F_y__root_mean_square</th>\n",
              "      <th>F_y__mean_n_absolute_max__number_of_maxima_7</th>\n",
              "      <th>T_y__variance</th>\n",
              "      <th>...</th>\n",
              "      <th>F_y__cwt_coefficients__coeff_13__w_2__widths_(2, 5, 10, 20)</th>\n",
              "      <th>F_y__cwt_coefficients__coeff_14__w_5__widths_(2, 5, 10, 20)</th>\n",
              "      <th>T_y__lempel_ziv_complexity__bins_3</th>\n",
              "      <th>T_y__quantile__q_0.1</th>\n",
              "      <th>F_z__time_reversal_asymmetry_statistic__lag_1</th>\n",
              "      <th>F_x__quantile__q_0.2</th>\n",
              "      <th>F_y__quantile__q_0.7</th>\n",
              "      <th>T_x__change_quantiles__f_agg_\"var\"__isabs_False__qh_0.2__ql_0.0</th>\n",
              "      <th>T_z__large_standard_deviation__r_0.35000000000000003</th>\n",
              "      <th>T_z__quantile__q_0.9</th>\n",
              "    </tr>\n",
              "  </thead>\n",
              "  <tbody>\n",
              "    <tr>\n",
              "      <th>1</th>\n",
              "      <td>14.0</td>\n",
              "      <td>14.0</td>\n",
              "      <td>0.966092</td>\n",
              "      <td>1.0</td>\n",
              "      <td>1.000000</td>\n",
              "      <td>15.0</td>\n",
              "      <td>13.0</td>\n",
              "      <td>0.930949</td>\n",
              "      <td>1.000000</td>\n",
              "      <td>0.222222</td>\n",
              "      <td>...</td>\n",
              "      <td>-0.310265</td>\n",
              "      <td>-0.751682</td>\n",
              "      <td>0.400000</td>\n",
              "      <td>-1.0</td>\n",
              "      <td>-596.000000</td>\n",
              "      <td>-1.0</td>\n",
              "      <td>-1.0</td>\n",
              "      <td>0.0</td>\n",
              "      <td>0.0</td>\n",
              "      <td>0.0</td>\n",
              "    </tr>\n",
              "    <tr>\n",
              "      <th>2</th>\n",
              "      <td>7.0</td>\n",
              "      <td>25.0</td>\n",
              "      <td>1.290994</td>\n",
              "      <td>5.0</td>\n",
              "      <td>1.571429</td>\n",
              "      <td>13.0</td>\n",
              "      <td>76.0</td>\n",
              "      <td>2.250926</td>\n",
              "      <td>3.000000</td>\n",
              "      <td>4.222222</td>\n",
              "      <td>...</td>\n",
              "      <td>-0.202951</td>\n",
              "      <td>0.057818</td>\n",
              "      <td>0.533333</td>\n",
              "      <td>-3.6</td>\n",
              "      <td>-680.384615</td>\n",
              "      <td>-1.0</td>\n",
              "      <td>-1.0</td>\n",
              "      <td>0.0</td>\n",
              "      <td>1.0</td>\n",
              "      <td>0.0</td>\n",
              "    </tr>\n",
              "    <tr>\n",
              "      <th>3</th>\n",
              "      <td>11.0</td>\n",
              "      <td>12.0</td>\n",
              "      <td>0.894427</td>\n",
              "      <td>5.0</td>\n",
              "      <td>1.000000</td>\n",
              "      <td>14.0</td>\n",
              "      <td>40.0</td>\n",
              "      <td>1.632993</td>\n",
              "      <td>2.142857</td>\n",
              "      <td>3.128889</td>\n",
              "      <td>...</td>\n",
              "      <td>0.539121</td>\n",
              "      <td>0.912474</td>\n",
              "      <td>0.533333</td>\n",
              "      <td>-4.0</td>\n",
              "      <td>-617.000000</td>\n",
              "      <td>-1.0</td>\n",
              "      <td>0.0</td>\n",
              "      <td>0.0</td>\n",
              "      <td>1.0</td>\n",
              "      <td>0.0</td>\n",
              "    </tr>\n",
              "    <tr>\n",
              "      <th>4</th>\n",
              "      <td>5.0</td>\n",
              "      <td>16.0</td>\n",
              "      <td>1.032796</td>\n",
              "      <td>6.0</td>\n",
              "      <td>1.285714</td>\n",
              "      <td>10.0</td>\n",
              "      <td>60.0</td>\n",
              "      <td>2.000000</td>\n",
              "      <td>2.428571</td>\n",
              "      <td>7.128889</td>\n",
              "      <td>...</td>\n",
              "      <td>-2.641390</td>\n",
              "      <td>-0.609735</td>\n",
              "      <td>0.533333</td>\n",
              "      <td>-4.6</td>\n",
              "      <td>3426.307692</td>\n",
              "      <td>-1.0</td>\n",
              "      <td>1.0</td>\n",
              "      <td>0.0</td>\n",
              "      <td>0.0</td>\n",
              "      <td>0.0</td>\n",
              "    </tr>\n",
              "    <tr>\n",
              "      <th>5</th>\n",
              "      <td>9.0</td>\n",
              "      <td>17.0</td>\n",
              "      <td>1.064581</td>\n",
              "      <td>5.0</td>\n",
              "      <td>1.285714</td>\n",
              "      <td>13.0</td>\n",
              "      <td>46.0</td>\n",
              "      <td>1.751190</td>\n",
              "      <td>2.285714</td>\n",
              "      <td>4.160000</td>\n",
              "      <td>...</td>\n",
              "      <td>0.591927</td>\n",
              "      <td>0.072771</td>\n",
              "      <td>0.466667</td>\n",
              "      <td>-5.0</td>\n",
              "      <td>-2609.000000</td>\n",
              "      <td>-1.0</td>\n",
              "      <td>0.8</td>\n",
              "      <td>0.0</td>\n",
              "      <td>0.0</td>\n",
              "      <td>0.6</td>\n",
              "    </tr>\n",
              "  </tbody>\n",
              "</table>\n",
              "<p>5 rows × 682 columns</p>\n",
              "</div>\n",
              "      <button class=\"colab-df-convert\" onclick=\"convertToInteractive('df-0c83d5a4-36b4-4521-b1f3-a91bea74c25f')\"\n",
              "              title=\"Convert this dataframe to an interactive table.\"\n",
              "              style=\"display:none;\">\n",
              "        \n",
              "  <svg xmlns=\"http://www.w3.org/2000/svg\" height=\"24px\"viewBox=\"0 0 24 24\"\n",
              "       width=\"24px\">\n",
              "    <path d=\"M0 0h24v24H0V0z\" fill=\"none\"/>\n",
              "    <path d=\"M18.56 5.44l.94 2.06.94-2.06 2.06-.94-2.06-.94-.94-2.06-.94 2.06-2.06.94zm-11 1L8.5 8.5l.94-2.06 2.06-.94-2.06-.94L8.5 2.5l-.94 2.06-2.06.94zm10 10l.94 2.06.94-2.06 2.06-.94-2.06-.94-.94-2.06-.94 2.06-2.06.94z\"/><path d=\"M17.41 7.96l-1.37-1.37c-.4-.4-.92-.59-1.43-.59-.52 0-1.04.2-1.43.59L10.3 9.45l-7.72 7.72c-.78.78-.78 2.05 0 2.83L4 21.41c.39.39.9.59 1.41.59.51 0 1.02-.2 1.41-.59l7.78-7.78 2.81-2.81c.8-.78.8-2.07 0-2.86zM5.41 20L4 18.59l7.72-7.72 1.47 1.35L5.41 20z\"/>\n",
              "  </svg>\n",
              "      </button>\n",
              "      \n",
              "  <style>\n",
              "    .colab-df-container {\n",
              "      display:flex;\n",
              "      flex-wrap:wrap;\n",
              "      gap: 12px;\n",
              "    }\n",
              "\n",
              "    .colab-df-convert {\n",
              "      background-color: #E8F0FE;\n",
              "      border: none;\n",
              "      border-radius: 50%;\n",
              "      cursor: pointer;\n",
              "      display: none;\n",
              "      fill: #1967D2;\n",
              "      height: 32px;\n",
              "      padding: 0 0 0 0;\n",
              "      width: 32px;\n",
              "    }\n",
              "\n",
              "    .colab-df-convert:hover {\n",
              "      background-color: #E2EBFA;\n",
              "      box-shadow: 0px 1px 2px rgba(60, 64, 67, 0.3), 0px 1px 3px 1px rgba(60, 64, 67, 0.15);\n",
              "      fill: #174EA6;\n",
              "    }\n",
              "\n",
              "    [theme=dark] .colab-df-convert {\n",
              "      background-color: #3B4455;\n",
              "      fill: #D2E3FC;\n",
              "    }\n",
              "\n",
              "    [theme=dark] .colab-df-convert:hover {\n",
              "      background-color: #434B5C;\n",
              "      box-shadow: 0px 1px 3px 1px rgba(0, 0, 0, 0.15);\n",
              "      filter: drop-shadow(0px 1px 2px rgba(0, 0, 0, 0.3));\n",
              "      fill: #FFFFFF;\n",
              "    }\n",
              "  </style>\n",
              "\n",
              "      <script>\n",
              "        const buttonEl =\n",
              "          document.querySelector('#df-0c83d5a4-36b4-4521-b1f3-a91bea74c25f button.colab-df-convert');\n",
              "        buttonEl.style.display =\n",
              "          google.colab.kernel.accessAllowed ? 'block' : 'none';\n",
              "\n",
              "        async function convertToInteractive(key) {\n",
              "          const element = document.querySelector('#df-0c83d5a4-36b4-4521-b1f3-a91bea74c25f');\n",
              "          const dataTable =\n",
              "            await google.colab.kernel.invokeFunction('convertToInteractive',\n",
              "                                                     [key], {});\n",
              "          if (!dataTable) return;\n",
              "\n",
              "          const docLinkHtml = 'Like what you see? Visit the ' +\n",
              "            '<a target=\"_blank\" href=https://colab.research.google.com/notebooks/data_table.ipynb>data table notebook</a>'\n",
              "            + ' to learn more about interactive tables.';\n",
              "          element.innerHTML = '';\n",
              "          dataTable['output_type'] = 'display_data';\n",
              "          await google.colab.output.renderOutput(dataTable, element);\n",
              "          const docLink = document.createElement('div');\n",
              "          docLink.innerHTML = docLinkHtml;\n",
              "          element.appendChild(docLink);\n",
              "        }\n",
              "      </script>\n",
              "    </div>\n",
              "  </div>\n",
              "  "
            ]
          },
          "metadata": {},
          "execution_count": 18
        }
      ],
      "source": [
        "# 6.1\n",
        "X_filtered.shape\n",
        "X_filtered.head()"
      ]
    },
    {
      "cell_type": "markdown",
      "metadata": {
        "id": "8ICLJO8pjgvi"
      },
      "source": [
        "<div class=\"alert alert-info\">\n",
        "\n",
        "Currently, 669 non-NaN features survive the feature selection given this target.\n",
        "Again, this number will vary depending on your data, your target and the `tsfresh` version.\n",
        "    \n",
        "</div>"
      ]
    },
    {
      "cell_type": "markdown",
      "metadata": {
        "collapsed": true,
        "id": "OkJUHhe7jgvi"
      },
      "source": [
        "## Train and evaluate classifier"
      ]
    },
    {
      "cell_type": "markdown",
      "metadata": {
        "id": "_9YbAvD-jgvi"
      },
      "source": [
        "Let's train a boosted decision tree on the filtered as well as the full set of extracted features."
      ]
    },
    {
      "cell_type": "code",
      "source": [
        "X_full_train, X_full_test, y_train, y_test = train_test_split(X,\n",
        "                                                              y,\n",
        "                                                              test_size=.4\n",
        "                                                              )"
      ],
      "metadata": {
        "id": "Ea9LK2CNnTXX"
      },
      "execution_count": null,
      "outputs": []
    },
    {
      "cell_type": "code",
      "execution_count": null,
      "metadata": {
        "id": "yz0DE21cjgvj"
      },
      "outputs": [],
      "source": [
        "X_filtered_train, X_filtered_test = X_full_train[X_filtered.columns], X_full_test[X_filtered.columns]"
      ]
    },
    {
      "cell_type": "code",
      "source": [
        "classifier_full = DecisionTreeClassifier()"
      ],
      "metadata": {
        "id": "UHMJivrgnlE6"
      },
      "execution_count": null,
      "outputs": []
    },
    {
      "cell_type": "code",
      "source": [
        "classifier_full.fit(X_full_train, y_train)"
      ],
      "metadata": {
        "colab": {
          "base_uri": "https://localhost:8080/"
        },
        "id": "dIZVm0monoIG",
        "outputId": "28fb9fde-75e4-4152-aead-da1a48591b7b"
      },
      "execution_count": null,
      "outputs": [
        {
          "output_type": "execute_result",
          "data": {
            "text/plain": [
              "DecisionTreeClassifier()"
            ]
          },
          "metadata": {},
          "execution_count": 22
        }
      ]
    },
    {
      "cell_type": "code",
      "execution_count": null,
      "metadata": {
        "scrolled": true,
        "colab": {
          "base_uri": "https://localhost:8080/"
        },
        "id": "z5KSyYgAjgvj",
        "outputId": "c70f4793-32e6-46ef-96d1-71cb7abcf9fb"
      },
      "outputs": [
        {
          "output_type": "stream",
          "name": "stdout",
          "text": [
            "              precision    recall  f1-score   support\n",
            "\n",
            "       False       1.00      0.96      0.98        27\n",
            "        True       0.90      1.00      0.95         9\n",
            "\n",
            "    accuracy                           0.97        36\n",
            "   macro avg       0.95      0.98      0.96        36\n",
            "weighted avg       0.98      0.97      0.97        36\n",
            "\n"
          ]
        }
      ],
      "source": [
        "print(classification_report(y_test, classifier_full.predict(X_full_test)))"
      ]
    },
    {
      "cell_type": "code",
      "source": [
        "classifier_filtered = DecisionTreeClassifier()"
      ],
      "metadata": {
        "id": "M2A80ZEknuYq"
      },
      "execution_count": null,
      "outputs": []
    },
    {
      "cell_type": "code",
      "source": [
        "classifier_filtered.fit(X_filtered_train, y_train)"
      ],
      "metadata": {
        "colab": {
          "base_uri": "https://localhost:8080/"
        },
        "id": "giXa6HrVnwwG",
        "outputId": "97055000-4adf-4e01-acad-0dd5c2aa5190"
      },
      "execution_count": null,
      "outputs": [
        {
          "output_type": "execute_result",
          "data": {
            "text/plain": [
              "DecisionTreeClassifier()"
            ]
          },
          "metadata": {},
          "execution_count": 26
        }
      ]
    },
    {
      "cell_type": "code",
      "execution_count": null,
      "metadata": {
        "colab": {
          "base_uri": "https://localhost:8080/"
        },
        "id": "hz29_zs7jgvj",
        "outputId": "dda8ff2b-876b-4275-9c4a-afc713512909"
      },
      "outputs": [
        {
          "output_type": "stream",
          "name": "stdout",
          "text": [
            "              precision    recall  f1-score   support\n",
            "\n",
            "       False       1.00      0.96      0.98        27\n",
            "        True       0.90      1.00      0.95         9\n",
            "\n",
            "    accuracy                           0.97        36\n",
            "   macro avg       0.95      0.98      0.96        36\n",
            "weighted avg       0.98      0.97      0.97        36\n",
            "\n"
          ]
        }
      ],
      "source": [
        "print(classification_report(y_test, classifier_filtered.predict(X_filtered_test)))"
      ]
    },
    {
      "cell_type": "markdown",
      "metadata": {
        "id": "WnE4g2tSjgvk"
      },
      "source": [
        "Compared to using all features (`classifier_full`), using only the relevant features (`classifier_filtered`) achieves better classification performance with less data."
      ]
    },
    {
      "cell_type": "markdown",
      "metadata": {
        "id": "jzXQJlt0jgvk"
      },
      "source": [
        "<div class=\"alert alert-info\">\n",
        "\n",
        "Please remember that the hypothesis test in `tsfresh` is a statistical test.\n",
        "You might get better performance with other feature selection methods (e.g. training a classifier with\n",
        "all but one feature to find its importance) - but in general the feature selection implemented\n",
        "in `tsfresh` will give you a very reasonable set of selected features.\n",
        "    \n",
        "</div>"
      ]
    },
    {
      "cell_type": "markdown",
      "metadata": {
        "id": "YBNgIQG3jgvl"
      },
      "source": [
        "## Extraction and Filtering is the same as filtered Extraction"
      ]
    },
    {
      "cell_type": "markdown",
      "metadata": {
        "id": "DKMG8dirjgvl"
      },
      "source": [
        "Above, we performed the feature extraction and selection independently. \n",
        "If you are only interested in the list of selected features, you can run this in one step:"
      ]
    },
    {
      "cell_type": "code",
      "execution_count": null,
      "metadata": {
        "colab": {
          "base_uri": "https://localhost:8080/"
        },
        "id": "6QoizIKCjgvl",
        "outputId": "89c4f11e-275c-472a-c38d-136c03c60819"
      },
      "outputs": [
        {
          "output_type": "stream",
          "name": "stderr",
          "text": [
            "Feature Extraction: 100%|██████████| 528/528 [00:26<00:00, 19.65it/s]\n"
          ]
        }
      ],
      "source": [
        "X_filtered_2 = extract_relevant_features(df,\n",
        "                                         y,\n",
        "                                         column_id='id',\n",
        "                                         column_sort='time',\n",
        "                                         default_fc_parameters=extraction_settings\n",
        "                                         )"
      ]
    },
    {
      "cell_type": "code",
      "execution_count": null,
      "metadata": {
        "colab": {
          "base_uri": "https://localhost:8080/"
        },
        "id": "4qFqvcR9jgvm",
        "outputId": "63eacb16-e5a1-4d63-e81b-947a57f7c1b7"
      },
      "outputs": [
        {
          "output_type": "execute_result",
          "data": {
            "text/plain": [
              "True"
            ]
          },
          "metadata": {},
          "execution_count": 29
        }
      ],
      "source": [
        "(X_filtered.columns == X_filtered_2.columns).all()"
      ]
    },
    {
      "cell_type": "markdown",
      "source": [
        "## Data formats\n",
        "For details, refer [here](https://tsfresh.readthedocs.io/en/latest/text/data_formats.html)"
      ],
      "metadata": {
        "id": "sGwyJv81Glcc"
      }
    },
    {
      "cell_type": "markdown",
      "source": [
        "There are four important column types that make up those DataFrames. Each will be described with an example from the robot failures dataset (in the example above).\n",
        "\n",
        "> `column_id`:\tThis column indicates which entities the time series belong to. Features will be extracted individually for each entity (id). The resulting feature matrix will contain <u>one row per id</u>. Each robot is a different entity, so each of it has a different id.<br>\n",
        "\n",
        ">`column_sort`:\tThis column contains values which allow to sort the time series (e.g. time stamps). In general, it is <b>NOT</b> required to have equidistant time steps or the same time scale for the different ids and/or kinds. Some features might make however only sense for equidistant time stamps. If you omit this column, the DataFrame is assumed to be already sorted in ascending order. Each of the robot sensor measurements have a time stamp which is used as the column_sort.<br>\n",
        "\n",
        ">`column_value`:\tThis column contains the actual values of the time series. This corresponds to the measured values of different sensors on the robots.<br>\n",
        "\n",
        ">`column_kind`:\tThis column indicates the names of the different time series types (e.g. different sensors in an industrial application as in the robot dataset). For each kind of time series the features are calculated individually.<br>\n"
      ],
      "metadata": {
        "id": "q4CHp2kWGpUl"
      }
    },
    {
      "cell_type": "markdown",
      "source": [
        "Example1: <br>\n",
        "Flat Dataframe<br>\n",
        "Imagine you record the values of time series x and y for different objects A and B for three different times t1, t2 and t3. Your resulting DataFrame may look like this:<br>\n",
        "<pre>\n",
        "id \ttime \tx \t      y\n",
        "A \tt1 \tx(A, t1) \ty(A, t1)\n",
        "A \tt2 \tx(A, t2) \ty(A, t2)\n",
        "A \tt3 \tx(A, t3) \ty(A, t3)\n",
        "B \tt1 \tx(B, t1) \ty(B, t1)\n",
        "B \tt2 \tx(B, t2) \ty(B, t2)\n",
        "B \tt3 \tx(B, t3) \ty(B, t3)\n",
        "</pre>`\n",
        "Now, you want to calculate some features with tsfresh so you would pass:\n",
        "\n",
        "`column_id=\"id\", column_sort=\"time\", column_kind=None, column_value=None`\n",
        "\n"
      ],
      "metadata": {
        "id": "E0Rv4EkoMKsm"
      }
    },
    {
      "cell_type": "markdown",
      "source": [
        "Example 2:<br>\n",
        " Stacked DataFrame or Long DataFrame<br>\n",
        "If both column_value and column_kind are set to None, the time series data is assumed to be in a flat DataFrame. This means that each different time series must be saved as its own column.<br>\n",
        "\n",
        "Imagine you record the values of time series x and y for different objects A and B for three different times t1, t2 and t3. Your resulting DataFrame may look like this:<br>\n",
        "<pre>\n",
        "id  time \t  x       \ty\n",
        "A \tt1 \tx(A, t1) \ty(A, t1)\n",
        "A \tt2 \tx(A, t2) \ty(A, t2)\n",
        "A \tt3 \tx(A, t3) \ty(A, t3)\n",
        "B \tt1 \tx(B, t1) \ty(B, t1)\n",
        "B \tt2 \tx(B, t2) \ty(B, t2)\n",
        "B \tt3 \tx(B, t3) \ty(B, t3)\n",
        "</pre>\n",
        "Now, you want to calculate some features with tsfresh so you would pass:<br>\n",
        "\n",
        "`column_id=\"id\", column_sort=\"time\", column_kind=None, column_value=None`\n",
        "\n"
      ],
      "metadata": {
        "id": "z6WiqdP8Mtqr"
      }
    },
    {
      "cell_type": "markdown",
      "source": [
        "## Feature extraction\n",
        "Pl see [here](https://tsfresh.readthedocs.io/en/latest/text/feature_extraction_settings.html)"
      ],
      "metadata": {
        "id": "FGcn5UKNPCep"
      }
    },
    {
      "cell_type": "markdown",
      "source": [
        "For convenience, there are three ways to extract  predefined features:<br>\n",
        "\n",
        ">`ComprehensiveFCParameters`: Includes all features without parameters and all features with parameters, each with different parameter combinations. This is the default for extract_features if you do not hand in a default_fc_parameters at all.<br>\n",
        "\n",
        ">`MinimalFCParameters`: Includes only a handful of features and can be used for quick tests. The features which have the “minimal” attribute are used here.<br>\n",
        "\n",
        "\n",
        ">`EfficientFCParameters`: Mostly the same features as in the tsfresh.feature_extraction.settings.ComprehensiveFCParameters, but without features which are marked with the “high_comp_cost” attribute. This can be used if runtime performance plays a major role.<br>\n"
      ],
      "metadata": {
        "id": "Kfrqm9iKPF0I"
      }
    },
    {
      "cell_type": "code",
      "source": [
        "################## I am done ##############333"
      ],
      "metadata": {
        "id": "XkUvpWWNGouH"
      },
      "execution_count": null,
      "outputs": []
    }
  ],
  "metadata": {
    "kernelspec": {
      "display_name": "Python 3",
      "language": "python",
      "name": "python3"
    },
    "language_info": {
      "codemirror_mode": {
        "name": "ipython",
        "version": 3
      },
      "file_extension": ".py",
      "mimetype": "text/x-python",
      "name": "python",
      "nbconvert_exporter": "python",
      "pygments_lexer": "ipython3",
      "version": "3.8.2"
    },
    "colab": {
      "provenance": [],
      "include_colab_link": true
    }
  },
  "nbformat": 4,
  "nbformat_minor": 0
}