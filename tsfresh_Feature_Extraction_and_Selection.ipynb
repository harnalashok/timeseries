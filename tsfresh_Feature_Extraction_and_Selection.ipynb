{
  "cells": [
    {
      "cell_type": "markdown",
      "metadata": {
        "id": "view-in-github",
        "colab_type": "text"
      },
      "source": [
        "<a href=\"https://colab.research.google.com/github/harnalashok/timeseries/blob/main/tsfresh_Feature_Extraction_and_Selection.ipynb\" target=\"_parent\"><img src=\"https://colab.research.google.com/assets/colab-badge.svg\" alt=\"Open In Colab\"/></a>"
      ]
    },
    {
      "cell_type": "code",
      "source": [
        "# Last amended: 15th Feb, 2023\n",
        "# Ref: https://github.com/blue-yonder/tsfresh/tree/main/notebooks\n",
        "#      https://github.com/blue-yonder/tsfresh/blob/main/notebooks/01%20Feature%20Extraction%20and%20Selection.ipynb\n"
      ],
      "metadata": {
        "id": "jED-Z5RmGGJc"
      },
      "execution_count": null,
      "outputs": []
    },
    {
      "cell_type": "markdown",
      "metadata": {
        "id": "x3l_t_yRjgvP"
      },
      "source": [
        "# Feature Extraction and Selection"
      ]
    },
    {
      "cell_type": "code",
      "source": [
        "!pip install tsfresh"
      ],
      "metadata": {
        "colab": {
          "base_uri": "https://localhost:8080/"
        },
        "id": "wvpoabtwjifq",
        "outputId": "e80dbeb9-292a-4628-c898-b304becb7ad6"
      },
      "execution_count": null,
      "outputs": [
        {
          "output_type": "stream",
          "name": "stdout",
          "text": [
            "Looking in indexes: https://pypi.org/simple, https://us-python.pkg.dev/colab-wheels/public/simple/\n",
            "Collecting tsfresh\n",
            "  Downloading tsfresh-0.20.0-py2.py3-none-any.whl (98 kB)\n",
            "\u001b[2K     \u001b[90m━━━━━━━━━━━━━━━━━━━━━━━━━━━━━━━━━━━━━━━━\u001b[0m \u001b[32m98.2/98.2 KB\u001b[0m \u001b[31m1.7 MB/s\u001b[0m eta \u001b[36m0:00:00\u001b[0m\n",
            "\u001b[?25hRequirement already satisfied: pandas>=0.25.0 in /usr/local/lib/python3.8/dist-packages (from tsfresh) (1.3.5)\n",
            "Collecting stumpy>=1.7.2\n",
            "  Downloading stumpy-1.11.1-py3-none-any.whl (136 kB)\n",
            "\u001b[2K     \u001b[90m━━━━━━━━━━━━━━━━━━━━━━━━━━━━━━━━━━━━━━━\u001b[0m \u001b[32m136.2/136.2 KB\u001b[0m \u001b[31m2.6 MB/s\u001b[0m eta \u001b[36m0:00:00\u001b[0m\n",
            "\u001b[?25hRequirement already satisfied: cloudpickle in /usr/local/lib/python3.8/dist-packages (from tsfresh) (2.2.1)\n",
            "Requirement already satisfied: scipy>=1.2.0 in /usr/local/lib/python3.8/dist-packages (from tsfresh) (1.7.3)\n",
            "Requirement already satisfied: dask[dataframe]>=2.9.0 in /usr/local/lib/python3.8/dist-packages (from tsfresh) (2022.2.1)\n",
            "Requirement already satisfied: numpy>=1.15.1 in /usr/local/lib/python3.8/dist-packages (from tsfresh) (1.21.6)\n",
            "Requirement already satisfied: patsy>=0.4.1 in /usr/local/lib/python3.8/dist-packages (from tsfresh) (0.5.3)\n",
            "Requirement already satisfied: distributed>=2.11.0 in /usr/local/lib/python3.8/dist-packages (from tsfresh) (2022.2.1)\n",
            "Requirement already satisfied: scikit-learn>=0.22.0 in /usr/local/lib/python3.8/dist-packages (from tsfresh) (1.0.2)\n",
            "Collecting statsmodels>=0.13\n",
            "  Downloading statsmodels-0.13.5-cp38-cp38-manylinux_2_17_x86_64.manylinux2014_x86_64.whl (9.9 MB)\n",
            "\u001b[2K     \u001b[90m━━━━━━━━━━━━━━━━━━━━━━━━━━━━━━━━━━━━━━━━\u001b[0m \u001b[32m9.9/9.9 MB\u001b[0m \u001b[31m52.1 MB/s\u001b[0m eta \u001b[36m0:00:00\u001b[0m\n",
            "\u001b[?25hRequirement already satisfied: requests>=2.9.1 in /usr/local/lib/python3.8/dist-packages (from tsfresh) (2.25.1)\n",
            "Requirement already satisfied: tqdm>=4.10.0 in /usr/local/lib/python3.8/dist-packages (from tsfresh) (4.64.1)\n",
            "Requirement already satisfied: toolz>=0.8.2 in /usr/local/lib/python3.8/dist-packages (from dask[dataframe]>=2.9.0->tsfresh) (0.12.0)\n",
            "Requirement already satisfied: pyyaml>=5.3.1 in /usr/local/lib/python3.8/dist-packages (from dask[dataframe]>=2.9.0->tsfresh) (6.0)\n",
            "Requirement already satisfied: fsspec>=0.6.0 in /usr/local/lib/python3.8/dist-packages (from dask[dataframe]>=2.9.0->tsfresh) (2023.1.0)\n",
            "Requirement already satisfied: packaging>=20.0 in /usr/local/lib/python3.8/dist-packages (from dask[dataframe]>=2.9.0->tsfresh) (23.0)\n",
            "Requirement already satisfied: partd>=0.3.10 in /usr/local/lib/python3.8/dist-packages (from dask[dataframe]>=2.9.0->tsfresh) (1.3.0)\n",
            "Requirement already satisfied: click>=6.6 in /usr/local/lib/python3.8/dist-packages (from distributed>=2.11.0->tsfresh) (7.1.2)\n",
            "Requirement already satisfied: tblib>=1.6.0 in /usr/local/lib/python3.8/dist-packages (from distributed>=2.11.0->tsfresh) (1.7.0)\n",
            "Requirement already satisfied: msgpack>=0.6.0 in /usr/local/lib/python3.8/dist-packages (from distributed>=2.11.0->tsfresh) (1.0.4)\n",
            "Requirement already satisfied: zict>=0.1.3 in /usr/local/lib/python3.8/dist-packages (from distributed>=2.11.0->tsfresh) (2.2.0)\n",
            "Requirement already satisfied: sortedcontainers!=2.0.0,!=2.0.1 in /usr/local/lib/python3.8/dist-packages (from distributed>=2.11.0->tsfresh) (2.4.0)\n",
            "Requirement already satisfied: tornado>=6.0.3 in /usr/local/lib/python3.8/dist-packages (from distributed>=2.11.0->tsfresh) (6.0.4)\n",
            "Requirement already satisfied: jinja2 in /usr/local/lib/python3.8/dist-packages (from distributed>=2.11.0->tsfresh) (2.11.3)\n",
            "Requirement already satisfied: setuptools in /usr/local/lib/python3.8/dist-packages (from distributed>=2.11.0->tsfresh) (57.4.0)\n",
            "Requirement already satisfied: psutil>=5.0 in /usr/local/lib/python3.8/dist-packages (from distributed>=2.11.0->tsfresh) (5.4.8)\n",
            "Requirement already satisfied: python-dateutil>=2.7.3 in /usr/local/lib/python3.8/dist-packages (from pandas>=0.25.0->tsfresh) (2.8.2)\n",
            "Requirement already satisfied: pytz>=2017.3 in /usr/local/lib/python3.8/dist-packages (from pandas>=0.25.0->tsfresh) (2022.7.1)\n",
            "Requirement already satisfied: six in /usr/local/lib/python3.8/dist-packages (from patsy>=0.4.1->tsfresh) (1.15.0)\n",
            "Requirement already satisfied: certifi>=2017.4.17 in /usr/local/lib/python3.8/dist-packages (from requests>=2.9.1->tsfresh) (2022.12.7)\n",
            "Requirement already satisfied: chardet<5,>=3.0.2 in /usr/local/lib/python3.8/dist-packages (from requests>=2.9.1->tsfresh) (4.0.0)\n",
            "Requirement already satisfied: urllib3<1.27,>=1.21.1 in /usr/local/lib/python3.8/dist-packages (from requests>=2.9.1->tsfresh) (1.24.3)\n",
            "Requirement already satisfied: idna<3,>=2.5 in /usr/local/lib/python3.8/dist-packages (from requests>=2.9.1->tsfresh) (2.10)\n",
            "Requirement already satisfied: threadpoolctl>=2.0.0 in /usr/local/lib/python3.8/dist-packages (from scikit-learn>=0.22.0->tsfresh) (3.1.0)\n",
            "Requirement already satisfied: joblib>=0.11 in /usr/local/lib/python3.8/dist-packages (from scikit-learn>=0.22.0->tsfresh) (1.2.0)\n",
            "Requirement already satisfied: numba>=0.54 in /usr/local/lib/python3.8/dist-packages (from stumpy>=1.7.2->tsfresh) (0.56.4)\n",
            "Requirement already satisfied: llvmlite<0.40,>=0.39.0dev0 in /usr/local/lib/python3.8/dist-packages (from numba>=0.54->stumpy>=1.7.2->tsfresh) (0.39.1)\n",
            "Requirement already satisfied: importlib-metadata in /usr/local/lib/python3.8/dist-packages (from numba>=0.54->stumpy>=1.7.2->tsfresh) (6.0.0)\n",
            "Requirement already satisfied: locket in /usr/local/lib/python3.8/dist-packages (from partd>=0.3.10->dask[dataframe]>=2.9.0->tsfresh) (1.0.0)\n",
            "Requirement already satisfied: heapdict in /usr/local/lib/python3.8/dist-packages (from zict>=0.1.3->distributed>=2.11.0->tsfresh) (1.0.1)\n",
            "Requirement already satisfied: MarkupSafe>=0.23 in /usr/local/lib/python3.8/dist-packages (from jinja2->distributed>=2.11.0->tsfresh) (2.0.1)\n",
            "Requirement already satisfied: zipp>=0.5 in /usr/local/lib/python3.8/dist-packages (from importlib-metadata->numba>=0.54->stumpy>=1.7.2->tsfresh) (3.12.1)\n",
            "Installing collected packages: stumpy, statsmodels, tsfresh\n",
            "  Attempting uninstall: statsmodels\n",
            "    Found existing installation: statsmodels 0.12.2\n",
            "    Uninstalling statsmodels-0.12.2:\n",
            "      Successfully uninstalled statsmodels-0.12.2\n",
            "Successfully installed statsmodels-0.13.5 stumpy-1.11.1 tsfresh-0.20.0\n"
          ]
        }
      ]
    },
    {
      "cell_type": "markdown",
      "metadata": {
        "id": "4HSz5rlWjgvU"
      },
      "source": [
        "This basic example shows how to use [tsfresh](https://tsfresh.readthedocs.io/) to extract useful features from multiple timeseries and use them to improve classification performance.\n",
        "\n",
        "We use the robot execution failure data set as an example."
      ]
    },
    {
      "cell_type": "code",
      "execution_count": null,
      "metadata": {
        "colab": {
          "base_uri": "https://localhost:8080/"
        },
        "id": "y7oB7XFpjgvV",
        "outputId": "06af5d03-9b17-407a-c0c0-f418181a7077"
      },
      "outputs": [
        {
          "output_type": "stream",
          "name": "stderr",
          "text": [
            "ERROR:numba.cuda.cudadrv.driver:Call to cuInit results in CUDA_ERROR_NO_DEVICE\n"
          ]
        }
      ],
      "source": [
        "%matplotlib inline\n",
        "\n",
        "import matplotlib.pylab as plt\n",
        "\n",
        "from tsfresh import extract_features, extract_relevant_features, select_features\n",
        "from tsfresh.utilities.dataframe_functions import impute\n",
        "from tsfresh.feature_extraction import ComprehensiveFCParameters\n",
        "\n",
        "from sklearn.tree import DecisionTreeClassifier\n",
        "from sklearn.model_selection import train_test_split\n",
        "from sklearn.metrics import classification_report"
      ]
    },
    {
      "cell_type": "code",
      "source": [
        "from IPython.core.interactiveshell import InteractiveShell\n",
        "InteractiveShell.ast_node_interactivity = \"all\"\n"
      ],
      "metadata": {
        "id": "PcFCsL-8kGkL"
      },
      "execution_count": null,
      "outputs": []
    },
    {
      "cell_type": "markdown",
      "metadata": {
        "id": "ybVPfUBdjgvX"
      },
      "source": [
        "## Load and visualize data\n",
        "\n",
        "The data set documents 88 robot executions (each has a unique `id` between 1 and 88), which is a subset of the [Robot Execution Failures Data Set](https://archive.ics.uci.edu/ml/datasets/Robot+Execution+Failures). \n",
        "For the purpose of simplicity we are only differentiating between successfull and failed executions (`y`).\n",
        "\n",
        "For each execution 15 force (F) and torque (T) samples are given, which were measured at regular time intervals for the spatial dimensions x, y, and z. \n",
        "Therefore each row of the data frame references a specific execution (`id`), a time index (`index`) and documents the respective measurements of 6 sensors (`F_x`, `F_y`, `F_z`, `T_x`, `T_y`, `T_z`)."
      ]
    },
    {
      "cell_type": "code",
      "execution_count": null,
      "metadata": {
        "id": "5UxLWDoCjgvZ"
      },
      "outputs": [],
      "source": [
        "from tsfresh.examples import robot_execution_failures"
      ]
    },
    {
      "cell_type": "code",
      "source": [
        "robot_execution_failures.download_robot_execution_failures()\n"
      ],
      "metadata": {
        "id": "m4mMmE7gj2GL"
      },
      "execution_count": null,
      "outputs": []
    },
    {
      "cell_type": "code",
      "source": [
        "df, y = robot_execution_failures.load_robot_execution_failures()\n"
      ],
      "metadata": {
        "id": "NcpHRsR4j6Fy"
      },
      "execution_count": null,
      "outputs": []
    },
    {
      "cell_type": "code",
      "source": [
        "df.head()"
      ],
      "metadata": {
        "colab": {
          "base_uri": "https://localhost:8080/",
          "height": 206
        },
        "id": "WJW9UgJij8AC",
        "outputId": "3810d907-5f0d-4eea-c614-c124233b458f"
      },
      "execution_count": null,
      "outputs": [
        {
          "output_type": "execute_result",
          "data": {
            "text/plain": [
              "   id  time  F_x  F_y  F_z  T_x  T_y  T_z\n",
              "0   1     0   -1   -1   63   -3   -1    0\n",
              "1   1     1    0    0   62   -3   -1    0\n",
              "2   1     2   -1   -1   61   -3    0    0\n",
              "3   1     3   -1   -1   63   -2   -1    0\n",
              "4   1     4   -1   -1   63   -3   -1    0"
            ],
            "text/html": [
              "\n",
              "  <div id=\"df-90b78153-a5fe-4440-b778-fb19d9aa6f72\">\n",
              "    <div class=\"colab-df-container\">\n",
              "      <div>\n",
              "<style scoped>\n",
              "    .dataframe tbody tr th:only-of-type {\n",
              "        vertical-align: middle;\n",
              "    }\n",
              "\n",
              "    .dataframe tbody tr th {\n",
              "        vertical-align: top;\n",
              "    }\n",
              "\n",
              "    .dataframe thead th {\n",
              "        text-align: right;\n",
              "    }\n",
              "</style>\n",
              "<table border=\"1\" class=\"dataframe\">\n",
              "  <thead>\n",
              "    <tr style=\"text-align: right;\">\n",
              "      <th></th>\n",
              "      <th>id</th>\n",
              "      <th>time</th>\n",
              "      <th>F_x</th>\n",
              "      <th>F_y</th>\n",
              "      <th>F_z</th>\n",
              "      <th>T_x</th>\n",
              "      <th>T_y</th>\n",
              "      <th>T_z</th>\n",
              "    </tr>\n",
              "  </thead>\n",
              "  <tbody>\n",
              "    <tr>\n",
              "      <th>0</th>\n",
              "      <td>1</td>\n",
              "      <td>0</td>\n",
              "      <td>-1</td>\n",
              "      <td>-1</td>\n",
              "      <td>63</td>\n",
              "      <td>-3</td>\n",
              "      <td>-1</td>\n",
              "      <td>0</td>\n",
              "    </tr>\n",
              "    <tr>\n",
              "      <th>1</th>\n",
              "      <td>1</td>\n",
              "      <td>1</td>\n",
              "      <td>0</td>\n",
              "      <td>0</td>\n",
              "      <td>62</td>\n",
              "      <td>-3</td>\n",
              "      <td>-1</td>\n",
              "      <td>0</td>\n",
              "    </tr>\n",
              "    <tr>\n",
              "      <th>2</th>\n",
              "      <td>1</td>\n",
              "      <td>2</td>\n",
              "      <td>-1</td>\n",
              "      <td>-1</td>\n",
              "      <td>61</td>\n",
              "      <td>-3</td>\n",
              "      <td>0</td>\n",
              "      <td>0</td>\n",
              "    </tr>\n",
              "    <tr>\n",
              "      <th>3</th>\n",
              "      <td>1</td>\n",
              "      <td>3</td>\n",
              "      <td>-1</td>\n",
              "      <td>-1</td>\n",
              "      <td>63</td>\n",
              "      <td>-2</td>\n",
              "      <td>-1</td>\n",
              "      <td>0</td>\n",
              "    </tr>\n",
              "    <tr>\n",
              "      <th>4</th>\n",
              "      <td>1</td>\n",
              "      <td>4</td>\n",
              "      <td>-1</td>\n",
              "      <td>-1</td>\n",
              "      <td>63</td>\n",
              "      <td>-3</td>\n",
              "      <td>-1</td>\n",
              "      <td>0</td>\n",
              "    </tr>\n",
              "  </tbody>\n",
              "</table>\n",
              "</div>\n",
              "      <button class=\"colab-df-convert\" onclick=\"convertToInteractive('df-90b78153-a5fe-4440-b778-fb19d9aa6f72')\"\n",
              "              title=\"Convert this dataframe to an interactive table.\"\n",
              "              style=\"display:none;\">\n",
              "        \n",
              "  <svg xmlns=\"http://www.w3.org/2000/svg\" height=\"24px\"viewBox=\"0 0 24 24\"\n",
              "       width=\"24px\">\n",
              "    <path d=\"M0 0h24v24H0V0z\" fill=\"none\"/>\n",
              "    <path d=\"M18.56 5.44l.94 2.06.94-2.06 2.06-.94-2.06-.94-.94-2.06-.94 2.06-2.06.94zm-11 1L8.5 8.5l.94-2.06 2.06-.94-2.06-.94L8.5 2.5l-.94 2.06-2.06.94zm10 10l.94 2.06.94-2.06 2.06-.94-2.06-.94-.94-2.06-.94 2.06-2.06.94z\"/><path d=\"M17.41 7.96l-1.37-1.37c-.4-.4-.92-.59-1.43-.59-.52 0-1.04.2-1.43.59L10.3 9.45l-7.72 7.72c-.78.78-.78 2.05 0 2.83L4 21.41c.39.39.9.59 1.41.59.51 0 1.02-.2 1.41-.59l7.78-7.78 2.81-2.81c.8-.78.8-2.07 0-2.86zM5.41 20L4 18.59l7.72-7.72 1.47 1.35L5.41 20z\"/>\n",
              "  </svg>\n",
              "      </button>\n",
              "      \n",
              "  <style>\n",
              "    .colab-df-container {\n",
              "      display:flex;\n",
              "      flex-wrap:wrap;\n",
              "      gap: 12px;\n",
              "    }\n",
              "\n",
              "    .colab-df-convert {\n",
              "      background-color: #E8F0FE;\n",
              "      border: none;\n",
              "      border-radius: 50%;\n",
              "      cursor: pointer;\n",
              "      display: none;\n",
              "      fill: #1967D2;\n",
              "      height: 32px;\n",
              "      padding: 0 0 0 0;\n",
              "      width: 32px;\n",
              "    }\n",
              "\n",
              "    .colab-df-convert:hover {\n",
              "      background-color: #E2EBFA;\n",
              "      box-shadow: 0px 1px 2px rgba(60, 64, 67, 0.3), 0px 1px 3px 1px rgba(60, 64, 67, 0.15);\n",
              "      fill: #174EA6;\n",
              "    }\n",
              "\n",
              "    [theme=dark] .colab-df-convert {\n",
              "      background-color: #3B4455;\n",
              "      fill: #D2E3FC;\n",
              "    }\n",
              "\n",
              "    [theme=dark] .colab-df-convert:hover {\n",
              "      background-color: #434B5C;\n",
              "      box-shadow: 0px 1px 3px 1px rgba(0, 0, 0, 0.15);\n",
              "      filter: drop-shadow(0px 1px 2px rgba(0, 0, 0, 0.3));\n",
              "      fill: #FFFFFF;\n",
              "    }\n",
              "  </style>\n",
              "\n",
              "      <script>\n",
              "        const buttonEl =\n",
              "          document.querySelector('#df-90b78153-a5fe-4440-b778-fb19d9aa6f72 button.colab-df-convert');\n",
              "        buttonEl.style.display =\n",
              "          google.colab.kernel.accessAllowed ? 'block' : 'none';\n",
              "\n",
              "        async function convertToInteractive(key) {\n",
              "          const element = document.querySelector('#df-90b78153-a5fe-4440-b778-fb19d9aa6f72');\n",
              "          const dataTable =\n",
              "            await google.colab.kernel.invokeFunction('convertToInteractive',\n",
              "                                                     [key], {});\n",
              "          if (!dataTable) return;\n",
              "\n",
              "          const docLinkHtml = 'Like what you see? Visit the ' +\n",
              "            '<a target=\"_blank\" href=https://colab.research.google.com/notebooks/data_table.ipynb>data table notebook</a>'\n",
              "            + ' to learn more about interactive tables.';\n",
              "          element.innerHTML = '';\n",
              "          dataTable['output_type'] = 'display_data';\n",
              "          await google.colab.output.renderOutput(dataTable, element);\n",
              "          const docLink = document.createElement('div');\n",
              "          docLink.innerHTML = docLinkHtml;\n",
              "          element.appendChild(docLink);\n",
              "        }\n",
              "      </script>\n",
              "    </div>\n",
              "  </div>\n",
              "  "
            ]
          },
          "metadata": {},
          "execution_count": 7
        }
      ]
    },
    {
      "cell_type": "code",
      "source": [
        "y"
      ],
      "metadata": {
        "colab": {
          "base_uri": "https://localhost:8080/"
        },
        "id": "uOFicWU0kMC0",
        "outputId": "57966174-cf6b-483f-a592-d12fae1a21d0"
      },
      "execution_count": null,
      "outputs": [
        {
          "output_type": "execute_result",
          "data": {
            "text/plain": [
              "1      True\n",
              "2      True\n",
              "3      True\n",
              "4      True\n",
              "5      True\n",
              "      ...  \n",
              "84    False\n",
              "85    False\n",
              "86    False\n",
              "87    False\n",
              "88    False\n",
              "Length: 88, dtype: bool"
            ]
          },
          "metadata": {},
          "execution_count": 8
        }
      ]
    },
    {
      "cell_type": "code",
      "source": [
        "df.shape   # (1320, 8)\n",
        "print(\"\\n============\\n\")\n",
        "df['id'].value_counts()   # 88 * 15 = 1320"
      ],
      "metadata": {
        "colab": {
          "base_uri": "https://localhost:8080/"
        },
        "id": "39zc5XnokNjN",
        "outputId": "aecb7c52-ee7a-4a9e-fc44-7796a5ac3b5a"
      },
      "execution_count": null,
      "outputs": [
        {
          "output_type": "execute_result",
          "data": {
            "text/plain": [
              "(1320, 8)"
            ]
          },
          "metadata": {},
          "execution_count": 11
        },
        {
          "output_type": "stream",
          "name": "stdout",
          "text": [
            "\n",
            "============\n",
            "\n"
          ]
        },
        {
          "output_type": "execute_result",
          "data": {
            "text/plain": [
              "1     15\n",
              "2     15\n",
              "65    15\n",
              "64    15\n",
              "63    15\n",
              "      ..\n",
              "28    15\n",
              "27    15\n",
              "26    15\n",
              "25    15\n",
              "88    15\n",
              "Name: id, Length: 88, dtype: int64"
            ]
          },
          "metadata": {},
          "execution_count": 11
        }
      ]
    },
    {
      "cell_type": "markdown",
      "metadata": {
        "id": "PwlbNjKcjgva"
      },
      "source": [
        "Let's draw some example executions:"
      ]
    },
    {
      "cell_type": "code",
      "execution_count": null,
      "metadata": {
        "colab": {
          "base_uri": "https://localhost:8080/",
          "height": 791
        },
        "id": "GMdEP-pljgvb",
        "outputId": "38da2dcf-2ae3-43f3-aab2-c9b3c55517f3"
      },
      "outputs": [
        {
          "output_type": "display_data",
          "data": {
            "text/plain": [
              "<Figure size 864x432 with 1 Axes>"
            ],
            "image/png": "[encoded data removed]"
          },
          "metadata": {
            "needs_background": "light"
          }
        },
        {
          "output_type": "display_data",
          "data": {
            "text/plain": [
              "<Figure size 864x432 with 1 Axes>"
            ],
            "image/png": "[encoded data removed]"
          },
          "metadata": {
            "needs_background": "light"
          }
        }
      ],
      "source": [
        "df[df.id == 3][['time', 'F_x', 'F_y', 'F_z', 'T_x', 'T_y', 'T_z']].plot(x='time', title='Success example (id 3)', figsize=(12, 6));\n",
        "df[df.id == 20][['time', 'F_x', 'F_y', 'F_z', 'T_x', 'T_y', 'T_z']].plot(x='time', title='Failure example (id 20)', figsize=(12, 6));"
      ]
    },
    {
      "cell_type": "markdown",
      "metadata": {
        "id": "JVUqJAF5jgvb"
      },
      "source": [
        "## Extract Features\n",
        "For what all feature engineering is performed on features, see [here](https://tsfresh.readthedocs.io/en/latest/text/list_of_features.html)"
      ]
    },
    {
      "cell_type": "markdown",
      "metadata": {
        "id": "gzgFB8yTjgvc"
      },
      "source": [
        "We can use the data to extract time series features using `tsfresh`.\n",
        "We want to extract features for each time series, that means for each robot execution (which is our `id`) and for each of the measured sensor values (`F_*` and `T_*`).\n",
        "\n",
        "You can think of it like this: tsfresh will result in a single row for each `id` and will calculate the features for each columns (we call them \"kind\") separately.\n",
        "\n",
        "The `time` column is our sorting column.\n",
        "For an overview on the data formats of `tsfresh`, please have a look at [the documentation](https://tsfresh.readthedocs.io/en/latest/text/data_formats.html)."
      ]
    },
    {
      "cell_type": "code",
      "execution_count": null,
      "metadata": {
        "colab": {
          "base_uri": "https://localhost:8080/"
        },
        "id": "Sy_gIqHfjgvd",
        "outputId": "93c459a6-5a41-4588-dcf3-38860f5c8cee"
      },
      "outputs": [
        {
          "output_type": "stream",
          "name": "stderr",
          "text": [
            "WARNING:tsfresh.feature_extraction.settings:Dependency not available for matrix_profile, this feature will be disabled!\n"
          ]
        }
      ],
      "source": [
        "# We are very explicit here and specify the `default_fc_parameters`. \n",
        "# If you remove this argument, the ComprehensiveFCParameters \n",
        "# (= all feature calculators) will also be used as default.\n",
        "# Have a look into the documentation \n",
        "# (https://tsfresh.readthedocs.io/en/latest/text/feature_extraction_settings.html)\n",
        "# or one of the other notebooks to learn more about this.\n",
        "extraction_settings = ComprehensiveFCParameters()"
      ]
    },
    {
      "cell_type": "code",
      "source": [
        "X = extract_features(df,\n",
        "                     column_id='id',\n",
        "                     column_sort='time',\n",
        "                     default_fc_parameters=extraction_settings,\n",
        "                     # we impute = remove all NaN features automatically\n",
        "                     impute_function=impute\n",
        "                     )"
      ],
      "metadata": {
        "colab": {
          "base_uri": "https://localhost:8080/"
        },
        "id": "5iV132rclCRP",
        "outputId": "c402514c-e979-44a7-e78e-807ede1e041c"
      },
      "execution_count": null,
      "outputs": [
        {
          "output_type": "stream",
          "name": "stderr",
          "text": [
            "Feature Extraction: 100%|██████████| 528/528 [00:24<00:00, 21.24it/s]\n"
          ]
        }
      ]
    },
    {
      "cell_type": "markdown",
      "metadata": {
        "id": "UpDcnhDqjgve"
      },
      "source": [
        "`X` now contains for each robot execution (= `id`) a single row, with all the features `tsfresh` calculated based on the measured times series values for this `id`."
      ]
    },
    {
      "cell_type": "code",
      "execution_count": null,
      "metadata": {
        "colab": {
          "base_uri": "https://localhost:8080/",
          "height": 299
        },
        "id": "W4BaUsy1jgvf",
        "outputId": "910d3a34-22f5-47a7-9352-1006ffa2bdde"
      },
      "outputs": [
        {
          "output_type": "execute_result",
          "data": {
            "text/plain": [
              "   F_x__variance_larger_than_standard_deviation  F_x__has_duplicate_max  \\\n",
              "1                                           0.0                     0.0   \n",
              "2                                           0.0                     1.0   \n",
              "3                                           0.0                     0.0   \n",
              "4                                           0.0                     1.0   \n",
              "5                                           0.0                     0.0   \n",
              "\n",
              "   F_x__has_duplicate_min  F_x__has_duplicate  F_x__sum_values  \\\n",
              "1                     1.0                 1.0            -14.0   \n",
              "2                     1.0                 1.0            -13.0   \n",
              "3                     1.0                 1.0            -10.0   \n",
              "4                     1.0                 1.0             -6.0   \n",
              "5                     0.0                 1.0             -9.0   \n",
              "\n",
              "   F_x__abs_energy  F_x__mean_abs_change  F_x__mean_change  \\\n",
              "1             14.0              0.142857          0.000000   \n",
              "2             25.0              1.000000          0.000000   \n",
              "3             12.0              0.714286          0.000000   \n",
              "4             16.0              1.214286         -0.071429   \n",
              "5             17.0              0.928571         -0.071429   \n",
              "\n",
              "   F_x__mean_second_derivative_central  F_x__median  ...  \\\n",
              "1                            -0.038462         -1.0  ...   \n",
              "2                            -0.038462         -1.0  ...   \n",
              "3                            -0.038462         -1.0  ...   \n",
              "4                            -0.038462          0.0  ...   \n",
              "5                             0.038462         -1.0  ...   \n",
              "\n",
              "   T_z__fourier_entropy__bins_5  T_z__fourier_entropy__bins_10  \\\n",
              "1                      0.974315                       1.288185   \n",
              "2                      1.073543                       1.494175   \n",
              "3                      1.386294                       1.732868   \n",
              "4                      1.073543                       1.494175   \n",
              "5                      0.900256                       1.320888   \n",
              "\n",
              "   T_z__fourier_entropy__bins_100  \\\n",
              "1                        1.906155   \n",
              "2                        2.079442   \n",
              "3                        2.079442   \n",
              "4                        2.079442   \n",
              "5                        2.079442   \n",
              "\n",
              "   T_z__permutation_entropy__dimension_3__tau_1  \\\n",
              "1                                     -0.000000   \n",
              "2                                      0.937156   \n",
              "3                                      1.265857   \n",
              "4                                      1.156988   \n",
              "5                                      1.156988   \n",
              "\n",
              "   T_z__permutation_entropy__dimension_4__tau_1  \\\n",
              "1                                     -0.000000   \n",
              "2                                      1.234268   \n",
              "3                                      1.704551   \n",
              "4                                      1.907284   \n",
              "5                                      1.863680   \n",
              "\n",
              "   T_z__permutation_entropy__dimension_5__tau_1  \\\n",
              "1                                     -0.000000   \n",
              "2                                      1.540306   \n",
              "3                                      2.019815   \n",
              "4                                      2.397895   \n",
              "5                                      2.271869   \n",
              "\n",
              "   T_z__permutation_entropy__dimension_6__tau_1  \\\n",
              "1                                     -0.000000   \n",
              "2                                      1.748067   \n",
              "3                                      2.163956   \n",
              "4                                      2.302585   \n",
              "5                                      2.302585   \n",
              "\n",
              "   T_z__permutation_entropy__dimension_7__tau_1  \\\n",
              "1                                     -0.000000   \n",
              "2                                      1.831020   \n",
              "3                                      2.197225   \n",
              "4                                      2.197225   \n",
              "5                                      2.197225   \n",
              "\n",
              "   T_z__query_similarity_count__query_None__threshold_0.0  \\\n",
              "1                                                0.0        \n",
              "2                                                0.0        \n",
              "3                                                0.0        \n",
              "4                                                0.0        \n",
              "5                                                0.0        \n",
              "\n",
              "   T_z__mean_n_absolute_max__number_of_maxima_7  \n",
              "1                                      0.000000  \n",
              "2                                      0.571429  \n",
              "3                                      0.571429  \n",
              "4                                      1.000000  \n",
              "5                                      0.857143  \n",
              "\n",
              "[5 rows x 4698 columns]"
            ],
            "text/html": [
              "\n",
              "  <div id=\"df-08084331-7e1d-4306-88b8-879619c92746\">\n",
              "    <div class=\"colab-df-container\">\n",
              "      <div>\n",
              "<style scoped>\n",
              "    .dataframe tbody tr th:only-of-type {\n",
              "        vertical-align: middle;\n",
              "    }\n",
              "\n",
              "    .dataframe tbody tr th {\n",
              "        vertical-align: top;\n",
              "    }\n",
              "\n",
              "    .dataframe thead th {\n",
              "        text-align: right;\n",
              "    }\n",
              "</style>\n",
              "<table border=\"1\" class=\"dataframe\">\n",
              "  <thead>\n",
              "    <tr style=\"text-align: right;\">\n",
              "      <th></th>\n",
              "      <th>F_x__variance_larger_than_standard_deviation</th>\n",
              "      <th>F_x__has_duplicate_max</th>\n",
              "      <th>F_x__has_duplicate_min</th>\n",
              "      <th>F_x__has_duplicate</th>\n",
              "      <th>F_x__sum_values</th>\n",
              "      <th>F_x__abs_energy</th>\n",
              "      <th>F_x__mean_abs_change</th>\n",
              "      <th>F_x__mean_change</th>\n",
              "      <th>F_x__mean_second_derivative_central</th>\n",
              "      <th>F_x__median</th>\n",
              "      <th>...</th>\n",
              "      <th>T_z__fourier_entropy__bins_5</th>\n",
              "      <th>T_z__fourier_entropy__bins_10</th>\n",
              "      <th>T_z__fourier_entropy__bins_100</th>\n",
              "      <th>T_z__permutation_entropy__dimension_3__tau_1</th>\n",
              "      <th>T_z__permutation_entropy__dimension_4__tau_1</th>\n",
              "      <th>T_z__permutation_entropy__dimension_5__tau_1</th>\n",
              "      <th>T_z__permutation_entropy__dimension_6__tau_1</th>\n",
              "      <th>T_z__permutation_entropy__dimension_7__tau_1</th>\n",
              "      <th>T_z__query_similarity_count__query_None__threshold_0.0</th>\n",
              "      <th>T_z__mean_n_absolute_max__number_of_maxima_7</th>\n",
              "    </tr>\n",
              "  </thead>\n",
              "  <tbody>\n",
              "    <tr>\n",
              "      <th>1</th>\n",
              "      <td>0.0</td>\n",
              "      <td>0.0</td>\n",
              "      <td>1.0</td>\n",
              "      <td>1.0</td>\n",
              "      <td>-14.0</td>\n",
              "      <td>14.0</td>\n",
              "      <td>0.142857</td>\n",
              "      <td>0.000000</td>\n",
              "      <td>-0.038462</td>\n",
              "      <td>-1.0</td>\n",
              "      <td>...</td>\n",
              "      <td>0.974315</td>\n",
              "      <td>1.288185</td>\n",
              "      <td>1.906155</td>\n",
              "      <td>-0.000000</td>\n",
              "      <td>-0.000000</td>\n",
              "      <td>-0.000000</td>\n",
              "      <td>-0.000000</td>\n",
              "      <td>-0.000000</td>\n",
              "      <td>0.0</td>\n",
              "      <td>0.000000</td>\n",
              "    </tr>\n",
              "    <tr>\n",
              "      <th>2</th>\n",
              "      <td>0.0</td>\n",
              "      <td>1.0</td>\n",
              "      <td>1.0</td>\n",
              "      <td>1.0</td>\n",
              "      <td>-13.0</td>\n",
              "      <td>25.0</td>\n",
              "      <td>1.000000</td>\n",
              "      <td>0.000000</td>\n",
              "      <td>-0.038462</td>\n",
              "      <td>-1.0</td>\n",
              "      <td>...</td>\n",
              "      <td>1.073543</td>\n",
              "      <td>1.494175</td>\n",
              "      <td>2.079442</td>\n",
              "      <td>0.937156</td>\n",
              "      <td>1.234268</td>\n",
              "      <td>1.540306</td>\n",
              "      <td>1.748067</td>\n",
              "      <td>1.831020</td>\n",
              "      <td>0.0</td>\n",
              "      <td>0.571429</td>\n",
              "    </tr>\n",
              "    <tr>\n",
              "      <th>3</th>\n",
              "      <td>0.0</td>\n",
              "      <td>0.0</td>\n",
              "      <td>1.0</td>\n",
              "      <td>1.0</td>\n",
              "      <td>-10.0</td>\n",
              "      <td>12.0</td>\n",
              "      <td>0.714286</td>\n",
              "      <td>0.000000</td>\n",
              "      <td>-0.038462</td>\n",
              "      <td>-1.0</td>\n",
              "      <td>...</td>\n",
              "      <td>1.386294</td>\n",
              "      <td>1.732868</td>\n",
              "      <td>2.079442</td>\n",
              "      <td>1.265857</td>\n",
              "      <td>1.704551</td>\n",
              "      <td>2.019815</td>\n",
              "      <td>2.163956</td>\n",
              "      <td>2.197225</td>\n",
              "      <td>0.0</td>\n",
              "      <td>0.571429</td>\n",
              "    </tr>\n",
              "    <tr>\n",
              "      <th>4</th>\n",
              "      <td>0.0</td>\n",
              "      <td>1.0</td>\n",
              "      <td>1.0</td>\n",
              "      <td>1.0</td>\n",
              "      <td>-6.0</td>\n",
              "      <td>16.0</td>\n",
              "      <td>1.214286</td>\n",
              "      <td>-0.071429</td>\n",
              "      <td>-0.038462</td>\n",
              "      <td>0.0</td>\n",
              "      <td>...</td>\n",
              "      <td>1.073543</td>\n",
              "      <td>1.494175</td>\n",
              "      <td>2.079442</td>\n",
              "      <td>1.156988</td>\n",
              "      <td>1.907284</td>\n",
              "      <td>2.397895</td>\n",
              "      <td>2.302585</td>\n",
              "      <td>2.197225</td>\n",
              "      <td>0.0</td>\n",
              "      <td>1.000000</td>\n",
              "    </tr>\n",
              "    <tr>\n",
              "      <th>5</th>\n",
              "      <td>0.0</td>\n",
              "      <td>0.0</td>\n",
              "      <td>0.0</td>\n",
              "      <td>1.0</td>\n",
              "      <td>-9.0</td>\n",
              "      <td>17.0</td>\n",
              "      <td>0.928571</td>\n",
              "      <td>-0.071429</td>\n",
              "      <td>0.038462</td>\n",
              "      <td>-1.0</td>\n",
              "      <td>...</td>\n",
              "      <td>0.900256</td>\n",
              "      <td>1.320888</td>\n",
              "      <td>2.079442</td>\n",
              "      <td>1.156988</td>\n",
              "      <td>1.863680</td>\n",
              "      <td>2.271869</td>\n",
              "      <td>2.302585</td>\n",
              "      <td>2.197225</td>\n",
              "      <td>0.0</td>\n",
              "      <td>0.857143</td>\n",
              "    </tr>\n",
              "  </tbody>\n",
              "</table>\n",
              "<p>5 rows × 4698 columns</p>\n",
              "</div>\n",
              "      <button class=\"colab-df-convert\" onclick=\"convertToInteractive('df-08084331-7e1d-4306-88b8-879619c92746')\"\n",
              "              title=\"Convert this dataframe to an interactive table.\"\n",
              "              style=\"display:none;\">\n",
              "        \n",
              "  <svg xmlns=\"http://www.w3.org/2000/svg\" height=\"24px\"viewBox=\"0 0 24 24\"\n",
              "       width=\"24px\">\n",
              "    <path d=\"M0 0h24v24H0V0z\" fill=\"none\"/>\n",
              "    <path d=\"M18.56 5.44l.94 2.06.94-2.06 2.06-.94-2.06-.94-.94-2.06-.94 2.06-2.06.94zm-11 1L8.5 8.5l.94-2.06 2.06-.94-2.06-.94L8.5 2.5l-.94 2.06-2.06.94zm10 10l.94 2.06.94-2.06 2.06-.94-2.06-.94-.94-2.06-.94 2.06-2.06.94z\"/><path d=\"M17.41 7.96l-1.37-1.37c-.4-.4-.92-.59-1.43-.59-.52 0-1.04.2-1.43.59L10.3 9.45l-7.72 7.72c-.78.78-.78 2.05 0 2.83L4 21.41c.39.39.9.59 1.41.59.51 0 1.02-.2 1.41-.59l7.78-7.78 2.81-2.81c.8-.78.8-2.07 0-2.86zM5.41 20L4 18.59l7.72-7.72 1.47 1.35L5.41 20z\"/>\n",
              "  </svg>\n",
              "      </button>\n",
              "      \n",
              "  <style>\n",
              "    .colab-df-container {\n",
              "      display:flex;\n",
              "      flex-wrap:wrap;\n",
              "      gap: 12px;\n",
              "    }\n",
              "\n",
              "    .colab-df-convert {\n",
              "      background-color: #E8F0FE;\n",
              "      border: none;\n",
              "      border-radius: 50%;\n",
              "      cursor: pointer;\n",
              "      display: none;\n",
              "      fill: #1967D2;\n",
              "      height: 32px;\n",
              "      padding: 0 0 0 0;\n",
              "      width: 32px;\n",
              "    }\n",
              "\n",
              "    .colab-df-convert:hover {\n",
              "      background-color: #E2EBFA;\n",
              "      box-shadow: 0px 1px 2px rgba(60, 64, 67, 0.3), 0px 1px 3px 1px rgba(60, 64, 67, 0.15);\n",
              "      fill: #174EA6;\n",
              "    }\n",
              "\n",
              "    [theme=dark] .colab-df-convert {\n",
              "      background-color: #3B4455;\n",
              "      fill: #D2E3FC;\n",
              "    }\n",
              "\n",
              "    [theme=dark] .colab-df-convert:hover {\n",
              "      background-color: #434B5C;\n",
              "      box-shadow: 0px 1px 3px 1px rgba(0, 0, 0, 0.15);\n",
              "      filter: drop-shadow(0px 1px 2px rgba(0, 0, 0, 0.3));\n",
              "      fill: #FFFFFF;\n",
              "    }\n",
              "  </style>\n",
              "\n",
              "      <script>\n",
              "        const buttonEl =\n",
              "          document.querySelector('#df-08084331-7e1d-4306-88b8-879619c92746 button.colab-df-convert');\n",
              "        buttonEl.style.display =\n",
              "          google.colab.kernel.accessAllowed ? 'block' : 'none';\n",
              "\n",
              "        async function convertToInteractive(key) {\n",
              "          const element = document.querySelector('#df-08084331-7e1d-4306-88b8-879619c92746');\n",
              "          const dataTable =\n",
              "            await google.colab.kernel.invokeFunction('convertToInteractive',\n",
              "                                                     [key], {});\n",
              "          if (!dataTable) return;\n",
              "\n",
              "          const docLinkHtml = 'Like what you see? Visit the ' +\n",
              "            '<a target=\"_blank\" href=https://colab.research.google.com/notebooks/data_table.ipynb>data table notebook</a>'\n",
              "            + ' to learn more about interactive tables.';\n",
              "          element.innerHTML = '';\n",
              "          dataTable['output_type'] = 'display_data';\n",
              "          await google.colab.output.renderOutput(dataTable, element);\n",
              "          const docLink = document.createElement('div');\n",
              "          docLink.innerHTML = docLinkHtml;\n",
              "          element.appendChild(docLink);\n",
              "        }\n",
              "      </script>\n",
              "    </div>\n",
              "  </div>\n",
              "  "
            ]
          },
          "metadata": {},
          "execution_count": 15
        }
      ],
      "source": [
        "X.head()"
      ]
    },
    {
      "cell_type": "code",
      "source": [
        "X.shape"
      ],
      "metadata": {
        "colab": {
          "base_uri": "https://localhost:8080/"
        },
        "id": "k4qr9zZ1lpIC",
        "outputId": "a2abd9a3-308a-4ad4-e31b-f40de09e1ad8"
      },
      "execution_count": null,
      "outputs": [
        {
          "output_type": "execute_result",
          "data": {
            "text/plain": [
              "(88, 4698)"
            ]
          },
          "metadata": {},
          "execution_count": 16
        }
      ]
    },
    {
      "cell_type": "markdown",
      "metadata": {
        "id": "fO_Xtq46jgvg"
      },
      "source": [
        "<div class=\"alert alert-info\">\n",
        "\n",
        "Currently, 4674 non-NaN features are calculated. \n",
        "This number varies with the version of `tsfresh` and with your data.\n",
        "    \n",
        "</div>"
      ]
    },
    {
      "cell_type": "markdown",
      "metadata": {
        "id": "RP42O32Vjgvg"
      },
      "source": [
        "## Select Features"
      ]
    },
    {
      "cell_type": "markdown",
      "metadata": {
        "id": "qfIpN7X1jgvg"
      },
      "source": [
        "Using the hypothesis tests implemented in `tsfresh` (see [here](https://tsfresh.readthedocs.io/en/latest/text/feature_filtering.html) for more information) it is now possible to select only the relevant features out of this large dataset.\n",
        "\n",
        "`tsfresh` will do a hypothesis test for each of the features to check, if it is relevant for your given target."
      ]
    },
    {
      "cell_type": "code",
      "execution_count": null,
      "metadata": {
        "id": "IV1ATzF1jgvh"
      },
      "outputs": [],
      "source": [
        "X_filtered = select_features(X, y)"
      ]
    },
    {
      "cell_type": "code",
      "execution_count": null,
      "metadata": {
        "scrolled": true,
        "colab": {
          "base_uri": "https://localhost:8080/",
          "height": 334
        },
        "id": "_7adZ4YTjgvh",
        "outputId": "1b2aadfa-dd9f-44dd-b8c4-3ef7ccac9221"
      },
      "outputs": [
        {
          "output_type": "execute_result",
          "data": {
            "text/plain": [
              "(88, 682)"
            ]
          },
          "metadata": {},
          "execution_count": 18
        },
        {
          "output_type": "execute_result",
          "data": {
            "text/plain": [
              "   F_x__value_count__value_-1  F_x__abs_energy  F_x__root_mean_square  \\\n",
              "1                        14.0             14.0               0.966092   \n",
              "2                         7.0             25.0               1.290994   \n",
              "3                        11.0             12.0               0.894427   \n",
              "4                         5.0             16.0               1.032796   \n",
              "5                         9.0             17.0               1.064581   \n",
              "\n",
              "   T_y__absolute_maximum  F_x__mean_n_absolute_max__number_of_maxima_7  \\\n",
              "1                    1.0                                      1.000000   \n",
              "2                    5.0                                      1.571429   \n",
              "3                    5.0                                      1.000000   \n",
              "4                    6.0                                      1.285714   \n",
              "5                    5.0                                      1.285714   \n",
              "\n",
              "   F_x__range_count__max_1__min_-1  F_y__abs_energy  F_y__root_mean_square  \\\n",
              "1                             15.0             13.0               0.930949   \n",
              "2                             13.0             76.0               2.250926   \n",
              "3                             14.0             40.0               1.632993   \n",
              "4                             10.0             60.0               2.000000   \n",
              "5                             13.0             46.0               1.751190   \n",
              "\n",
              "   F_y__mean_n_absolute_max__number_of_maxima_7  T_y__variance  ...  \\\n",
              "1                                      1.000000       0.222222  ...   \n",
              "2                                      3.000000       4.222222  ...   \n",
              "3                                      2.142857       3.128889  ...   \n",
              "4                                      2.428571       7.128889  ...   \n",
              "5                                      2.285714       4.160000  ...   \n",
              "\n",
              "   F_y__cwt_coefficients__coeff_13__w_2__widths_(2, 5, 10, 20)  \\\n",
              "1                                          -0.310265             \n",
              "2                                          -0.202951             \n",
              "3                                           0.539121             \n",
              "4                                          -2.641390             \n",
              "5                                           0.591927             \n",
              "\n",
              "   F_y__cwt_coefficients__coeff_14__w_5__widths_(2, 5, 10, 20)  \\\n",
              "1                                          -0.751682             \n",
              "2                                           0.057818             \n",
              "3                                           0.912474             \n",
              "4                                          -0.609735             \n",
              "5                                           0.072771             \n",
              "\n",
              "   T_y__lempel_ziv_complexity__bins_3  T_y__quantile__q_0.1  \\\n",
              "1                            0.400000                  -1.0   \n",
              "2                            0.533333                  -3.6   \n",
              "3                            0.533333                  -4.0   \n",
              "4                            0.533333                  -4.6   \n",
              "5                            0.466667                  -5.0   \n",
              "\n",
              "   F_z__time_reversal_asymmetry_statistic__lag_1  F_x__quantile__q_0.2  \\\n",
              "1                                    -596.000000                  -1.0   \n",
              "2                                    -680.384615                  -1.0   \n",
              "3                                    -617.000000                  -1.0   \n",
              "4                                    3426.307692                  -1.0   \n",
              "5                                   -2609.000000                  -1.0   \n",
              "\n",
              "   F_y__quantile__q_0.7  \\\n",
              "1                  -1.0   \n",
              "2                  -1.0   \n",
              "3                   0.0   \n",
              "4                   1.0   \n",
              "5                   0.8   \n",
              "\n",
              "   T_x__change_quantiles__f_agg_\"var\"__isabs_False__qh_0.2__ql_0.0  \\\n",
              "1                                                0.0                 \n",
              "2                                                0.0                 \n",
              "3                                                0.0                 \n",
              "4                                                0.0                 \n",
              "5                                                0.0                 \n",
              "\n",
              "   T_z__large_standard_deviation__r_0.35000000000000003  T_z__quantile__q_0.9  \n",
              "1                                                0.0                      0.0  \n",
              "2                                                1.0                      0.0  \n",
              "3                                                1.0                      0.0  \n",
              "4                                                0.0                      0.0  \n",
              "5                                                0.0                      0.6  \n",
              "\n",
              "[5 rows x 682 columns]"
            ],
            "text/html": [
              "\n",
              "  <div id=\"df-0c83d5a4-36b4-4521-b1f3-a91bea74c25f\">\n",
              "    <div class=\"colab-df-container\">\n",
              "      <div>\n",
              "<style scoped>\n",
              "    .dataframe tbody tr th:only-of-type {\n",
              "        vertical-align: middle;\n",
              "    }\n",
              "\n",
              "    .dataframe tbody tr th {\n",
              "        vertical-align: top;\n",
              "    }\n",
              "\n",
              "    .dataframe thead th {\n",
              "        text-align: right;\n",
              "    }\n",
              "</style>\n",
              "<table border=\"1\" class=\"dataframe\">\n",
              "  <thead>\n",
              "    <tr style=\"text-align: right;\">\n",
              "      <th></th>\n",
              "      <th>F_x__value_count__value_-1</th>\n",
              "      <th>F_x__abs_energy</th>\n",
              "      <th>F_x__root_mean_square</th>\n",
              "      <th>T_y__absolute_maximum</th>\n",
              "      <th>F_x__mean_n_absolute_max__number_of_maxima_7</th>\n",
              "      <th>F_x__range_count__max_1__min_-1</th>\n",
              "      <th>F_y__abs_energy</th>\n",
              "      <th>F_y__root_mean_square</th>\n",
              "      <th>F_y__mean_n_absolute_max__number_of_maxima_7</th>\n",
              "      <th>T_y__variance</th>\n",
              "      <th>...</th>\n",
              "      <th>F_y__cwt_coefficients__coeff_13__w_2__widths_(2, 5, 10, 20)</th>\n",
              "      <th>F_y__cwt_coefficients__coeff_14__w_5__widths_(2, 5, 10, 20)</th>\n",
              "      <th>T_y__lempel_ziv_complexity__bins_3</th>\n",
              "      <th>T_y__quantile__q_0.1</th>\n",
              "      <th>F_z__time_reversal_asymmetry_statistic__lag_1</th>\n",
              "      <th>F_x__quantile__q_0.2</th>\n",
              "      <th>F_y__quantile__q_0.7</th>\n",
              "      <th>T_x__change_quantiles__f_agg_\"var\"__isabs_False__qh_0.2__ql_0.0</th>\n",
              "      <th>T_z__large_standard_deviation__r_0.35000000000000003</th>\n",
              "      <th>T_z__quantile__q_0.9</th>\n",
              "    </tr>\n",
              "  </thead>\n",
              "  <tbody>\n",
              "    <tr>\n",
              "      <th>1</th>\n",
              "      <td>14.0</td>\n",
              "      <td>14.0</td>\n",
              "      <td>0.966092</td>\n",
              "      <td>1.0</td>\n",
              "      <td>1.000000</td>\n",
              "      <td>15.0</td>\n",
              "      <td>13.0</td>\n",
              "      <td>0.930949</td>\n",
              "      <td>1.000000</td>\n",
              "      <td>0.222222</td>\n",
              "      <td>...</td>\n",
              "      <td>-0.310265</td>\n",
              "      <td>-0.751682</td>\n",
              "      <td>0.400000</td>\n",
              "      <td>-1.0</td>\n",
              "      <td>-596.000000</td>\n",
              "      <td>-1.0</td>\n",
              "      <td>-1.0</td>\n",
              "      <td>0.0</td>\n",
              "      <td>0.0</td>\n",
              "      <td>0.0</td>\n",
              "    </tr>\n",
              "    <tr>\n",
              "      <th>2</th>\n",
              "      <td>7.0</td>\n",
              "      <td>25.0</td>\n",
              "      <td>1.290994</td>\n",
              "      <td>5.0</td>\n",
              "      <td>1.571429</td>\n",
              "      <td>13.0</td>\n",
              "      <td>76.0</td>\n",
              "      <td>2.250926</td>\n",
              "      <td>3.000000</td>\n",
              "      <td>4.222222</td>\n",
              "      <td>...</td>\n",
              "      <td>-0.202951</td>\n",
              "      <td>0.057818</td>\n",
              "      <td>0.533333</td>\n",
              "      <td>-3.6</td>\n",
              "      <td>-680.384615</td>\n",
              "      <td>-1.0</td>\n",
              "      <td>-1.0</td>\n",
              "      <td>0.0</td>\n",
              "      <td>1.0</td>\n",
              "      <td>0.0</td>\n",
              "    </tr>\n",
              "    <tr>\n",
              "      <th>3</th>\n",
              "      <td>11.0</td>\n",
              "      <td>12.0</td>\n",
              "      <td>0.894427</td>\n",
              "      <td>5.0</td>\n",
              "      <td>1.000000</td>\n",
              "      <td>14.0</td>\n",
              "      <td>40.0</td>\n",
              "      <td>1.632993</td>\n",
              "      <td>2.142857</td>\n",
              "      <td>3.128889</td>\n",
              "      <td>...</td>\n",
              "      <td>0.539121</td>\n",
              "      <td>0.912474</td>\n",
              "      <td>0.533333</td>\n",
              "      <td>-4.0</td>\n",
              "      <td>-617.000000</td>\n",
              "      <td>-1.0</td>\n",
              "      <td>0.0</td>\n",
              "      <td>0.0</td>\n",
              "      <td>1.0</td>\n",
              "      <td>0.0</td>\n",
              "    </tr>\n",
              "    <tr>\n",
              "      <th>4</th>\n",
              "      <td>5.0</td>\n",
              "      <td>16.0</td>\n",
              "      <td>1.032796</td>\n",
              "      <td>6.0</td>\n",
              "      <td>1.285714</td>\n",
              "      <td>10.0</td>\n",
              "      <td>60.0</td>\n",
              "      <td>2.000000</td>\n",
              "      <td>2.428571</td>\n",
              "      <td>7.128889</td>\n",
              "      <td>...</td>\n",
              "      <td>-2.641390</td>\n",
              "      <td>-0.609735</td>\n",
              "      <td>0.533333</td>\n",
              "      <td>-4.6</td>\n",
              "      <td>3426.307692</td>\n",
              "      <td>-1.0</td>\n",
              "      <td>1.0</td>\n",
              "      <td>0.0</td>\n",
              "      <td>0.0</td>\n",
              "      <td>0.0</td>\n",
              "    </tr>\n",
              "    <tr>\n",
              "      <th>5</th>\n",
              "      <td>9.0</td>\n",
              "      <td>17.0</td>\n",
              "      <td>1.064581</td>\n",
              "      <td>5.0</td>\n",
              "      <td>1.285714</td>\n",
              "      <td>13.0</td>\n",
              "      <td>46.0</td>\n",
              "      <td>1.751190</td>\n",
              "      <td>2.285714</td>\n",
              "      <td>4.160000</td>\n",
              "      <td>...</td>\n",
              "      <td>0.591927</td>\n",
              "      <td>0.072771</td>\n",
              "      <td>0.466667</td>\n",
              "      <td>-5.0</td>\n",
              "      <td>-2609.000000</td>\n",
              "      <td>-1.0</td>\n",
              "      <td>0.8</td>\n",
              "      <td>0.0</td>\n",
              "      <td>0.0</td>\n",
              "      <td>0.6</td>\n",
              "    </tr>\n",
              "  </tbody>\n",
              "</table>\n",
              "<p>5 rows × 682 columns</p>\n",
              "</div>\n",
              "      <button class=\"colab-df-convert\" onclick=\"convertToInteractive('df-0c83d5a4-36b4-4521-b1f3-a91bea74c25f')\"\n",
              "              title=\"Convert this dataframe to an interactive table.\"\n",
              "              style=\"display:none;\">\n",
              "        \n",
              "  <svg xmlns=\"http://www.w3.org/2000/svg\" height=\"24px\"viewBox=\"0 0 24 24\"\n",
              "       width=\"24px\">\n",
              "    <path d=\"M0 0h24v24H0V0z\" fill=\"none\"/>\n",
              "    <path d=\"M18.56 5.44l.94 2.06.94-2.06 2.06-.94-2.06-.94-.94-2.06-.94 2.06-2.06.94zm-11 1L8.5 8.5l.94-2.06 2.06-.94-2.06-.94L8.5 2.5l-.94 2.06-2.06.94zm10 10l.94 2.06.94-2.06 2.06-.94-2.06-.94-.94-2.06-.94 2.06-2.06.94z\"/><path d=\"M17.41 7.96l-1.37-1.37c-.4-.4-.92-.59-1.43-.59-.52 0-1.04.2-1.43.59L10.3 9.45l-7.72 7.72c-.78.78-.78 2.05 0 2.83L4 21.41c.39.39.9.59 1.41.59.51 0 1.02-.2 1.41-.59l7.78-7.78 2.81-2.81c.8-.78.8-2.07 0-2.86zM5.41 20L4 18.59l7.72-7.72 1.47 1.35L5.41 20z\"/>\n",
              "  </svg>\n",
              "      </button>\n",
              "      \n",
              "  <style>\n",
              "    .colab-df-container {\n",
              "      display:flex;\n",
              "      flex-wrap:wrap;\n",
              "      gap: 12px;\n",
              "    }\n",
              "\n",
              "    .colab-df-convert {\n",
              "      background-color: #E8F0FE;\n",
              "      border: none;\n",
              "      border-radius: 50%;\n",
              "      cursor: pointer;\n",
              "      display: none;\n",
              "      fill: #1967D2;\n",
              "      height: 32px;\n",
              "      padding: 0 0 0 0;\n",
              "      width: 32px;\n",
              "    }\n",
              "\n",
              "    .colab-df-convert:hover {\n",
              "      background-color: #E2EBFA;\n",
              "      box-shadow: 0px 1px 2px rgba(60, 64, 67, 0.3), 0px 1px 3px 1px rgba(60, 64, 67, 0.15);\n",
              "      fill: #174EA6;\n",
              "    }\n",
              "\n",
              "    [theme=dark] .colab-df-convert {\n",
              "      background-color: #3B4455;\n",
              "      fill: #D2E3FC;\n",
              "    }\n",
              "\n",
              "    [theme=dark] .colab-df-convert:hover {\n",
              "      background-color: #434B5C;\n",
              "      box-shadow: 0px 1px 3px 1px rgba(0, 0, 0, 0.15);\n",
              "      filter: drop-shadow(0px 1px 2px rgba(0, 0, 0, 0.3));\n",
              "      fill: #FFFFFF;\n",
              "    }\n",
              "  </style>\n",
              "\n",
              "      <script>\n",
              "        const buttonEl =\n",
              "          document.querySelector('#df-0c83d5a4-36b4-4521-b1f3-a91bea74c25f button.colab-df-convert');\n",
              "        buttonEl.style.display =\n",
              "          google.colab.kernel.accessAllowed ? 'block' : 'none';\n",
              "\n",
              "        async function convertToInteractive(key) {\n",
              "          const element = document.querySelector('#df-0c83d5a4-36b4-4521-b1f3-a91bea74c25f');\n",
              "          const dataTable =\n",
              "            await google.colab.kernel.invokeFunction('convertToInteractive',\n",
              "                                                     [key], {});\n",
              "          if (!dataTable) return;\n",
              "\n",
              "          const docLinkHtml = 'Like what you see? Visit the ' +\n",
              "            '<a target=\"_blank\" href=https://colab.research.google.com/notebooks/data_table.ipynb>data table notebook</a>'\n",
              "            + ' to learn more about interactive tables.';\n",
              "          element.innerHTML = '';\n",
              "          dataTable['output_type'] = 'display_data';\n",
              "          await google.colab.output.renderOutput(dataTable, element);\n",
              "          const docLink = document.createElement('div');\n",
              "          docLink.innerHTML = docLinkHtml;\n",
              "          element.appendChild(docLink);\n",
              "        }\n",
              "      </script>\n",
              "    </div>\n",
              "  </div>\n",
              "  "
            ]
          },
          "metadata": {},
          "execution_count": 18
        }
      ],
      "source": [
        "X_filtered.shape\n",
        "X_filtered.head()"
      ]
    },
    {
      "cell_type": "markdown",
      "metadata": {
        "id": "8ICLJO8pjgvi"
      },
      "source": [
        "<div class=\"alert alert-info\">\n",
        "\n",
        "Currently, 669 non-NaN features survive the feature selection given this target.\n",
        "Again, this number will vary depending on your data, your target and the `tsfresh` version.\n",
        "    \n",
        "</div>"
      ]
    },
    {
      "cell_type": "markdown",
      "metadata": {
        "collapsed": true,
        "id": "OkJUHhe7jgvi"
      },
      "source": [
        "## Train and evaluate classifier"
      ]
    },
    {
      "cell_type": "markdown",
      "metadata": {
        "id": "_9YbAvD-jgvi"
      },
      "source": [
        "Let's train a boosted decision tree on the filtered as well as the full set of extracted features."
      ]
    },
    {
      "cell_type": "code",
      "source": [
        "X_full_train, X_full_test, y_train, y_test = train_test_split(X,\n",
        "                                                              y,\n",
        "                                                              test_size=.4\n",
        "                                                              )"
      ],
      "metadata": {
        "id": "Ea9LK2CNnTXX"
      },
      "execution_count": null,
      "outputs": []
    },
    {
      "cell_type": "code",
      "execution_count": null,
      "metadata": {
        "id": "yz0DE21cjgvj"
      },
      "outputs": [],
      "source": [
        "X_filtered_train, X_filtered_test = X_full_train[X_filtered.columns], X_full_test[X_filtered.columns]"
      ]
    },
    {
      "cell_type": "code",
      "source": [
        "classifier_full = DecisionTreeClassifier()"
      ],
      "metadata": {
        "id": "UHMJivrgnlE6"
      },
      "execution_count": null,
      "outputs": []
    },
    {
      "cell_type": "code",
      "source": [
        "classifier_full.fit(X_full_train, y_train)"
      ],
      "metadata": {
        "colab": {
          "base_uri": "https://localhost:8080/"
        },
        "id": "dIZVm0monoIG",
        "outputId": "28fb9fde-75e4-4152-aead-da1a48591b7b"
      },
      "execution_count": null,
      "outputs": [
        {
          "output_type": "execute_result",
          "data": {
            "text/plain": [
              "DecisionTreeClassifier()"
            ]
          },
          "metadata": {},
          "execution_count": 22
        }
      ]
    },
    {
      "cell_type": "code",
      "execution_count": null,
      "metadata": {
        "scrolled": true,
        "colab": {
          "base_uri": "https://localhost:8080/"
        },
        "id": "z5KSyYgAjgvj",
        "outputId": "c70f4793-32e6-46ef-96d1-71cb7abcf9fb"
      },
      "outputs": [
        {
          "output_type": "stream",
          "name": "stdout",
          "text": [
            "              precision    recall  f1-score   support\n",
            "\n",
            "       False       1.00      0.96      0.98        27\n",
            "        True       0.90      1.00      0.95         9\n",
            "\n",
            "    accuracy                           0.97        36\n",
            "   macro avg       0.95      0.98      0.96        36\n",
            "weighted avg       0.98      0.97      0.97        36\n",
            "\n"
          ]
        }
      ],
      "source": [
        "print(classification_report(y_test, classifier_full.predict(X_full_test)))"
      ]
    },
    {
      "cell_type": "code",
      "source": [
        "classifier_filtered = DecisionTreeClassifier()"
      ],
      "metadata": {
        "id": "M2A80ZEknuYq"
      },
      "execution_count": null,
      "outputs": []
    },
    {
      "cell_type": "code",
      "source": [
        "classifier_filtered.fit(X_filtered_train, y_train)"
      ],
      "metadata": {
        "colab": {
          "base_uri": "https://localhost:8080/"
        },
        "id": "giXa6HrVnwwG",
        "outputId": "97055000-4adf-4e01-acad-0dd5c2aa5190"
      },
      "execution_count": null,
      "outputs": [
        {
          "output_type": "execute_result",
          "data": {
            "text/plain": [
              "DecisionTreeClassifier()"
            ]
          },
          "metadata": {},
          "execution_count": 26
        }
      ]
    },
    {
      "cell_type": "code",
      "execution_count": null,
      "metadata": {
        "colab": {
          "base_uri": "https://localhost:8080/"
        },
        "id": "hz29_zs7jgvj",
        "outputId": "dda8ff2b-876b-4275-9c4a-afc713512909"
      },
      "outputs": [
        {
          "output_type": "stream",
          "name": "stdout",
          "text": [
            "              precision    recall  f1-score   support\n",
            "\n",
            "       False       1.00      0.96      0.98        27\n",
            "        True       0.90      1.00      0.95         9\n",
            "\n",
            "    accuracy                           0.97        36\n",
            "   macro avg       0.95      0.98      0.96        36\n",
            "weighted avg       0.98      0.97      0.97        36\n",
            "\n"
          ]
        }
      ],
      "source": [
        "print(classification_report(y_test, classifier_filtered.predict(X_filtered_test)))"
      ]
    },
    {
      "cell_type": "markdown",
      "metadata": {
        "id": "WnE4g2tSjgvk"
      },
      "source": [
        "Compared to using all features (`classifier_full`), using only the relevant features (`classifier_filtered`) achieves better classification performance with less data."
      ]
    },
    {
      "cell_type": "markdown",
      "metadata": {
        "id": "jzXQJlt0jgvk"
      },
      "source": [
        "<div class=\"alert alert-info\">\n",
        "\n",
        "Please remember that the hypothesis test in `tsfresh` is a statistical test.\n",
        "You might get better performance with other feature selection methods (e.g. training a classifier with\n",
        "all but one feature to find its importance) - but in general the feature selection implemented\n",
        "in `tsfresh` will give you a very reasonable set of selected features.\n",
        "    \n",
        "</div>"
      ]
    },
    {
      "cell_type": "markdown",
      "metadata": {
        "id": "YBNgIQG3jgvl"
      },
      "source": [
        "## Extraction and Filtering is the same as filtered Extraction"
      ]
    },
    {
      "cell_type": "markdown",
      "metadata": {
        "id": "DKMG8dirjgvl"
      },
      "source": [
        "Above, we performed the feature extraction and selection independently. \n",
        "If you are only interested in the list of selected features, you can run this in one step:"
      ]
    },
    {
      "cell_type": "code",
      "execution_count": null,
      "metadata": {
        "colab": {
          "base_uri": "https://localhost:8080/"
        },
        "id": "6QoizIKCjgvl",
        "outputId": "89c4f11e-275c-472a-c38d-136c03c60819"
      },
      "outputs": [
        {
          "output_type": "stream",
          "name": "stderr",
          "text": [
            "Feature Extraction: 100%|██████████| 528/528 [00:26<00:00, 19.65it/s]\n"
          ]
        }
      ],
      "source": [
        "X_filtered_2 = extract_relevant_features(df,\n",
        "                                         y,\n",
        "                                         column_id='id',\n",
        "                                         column_sort='time',\n",
        "                                         default_fc_parameters=extraction_settings\n",
        "                                         )"
      ]
    },
    {
      "cell_type": "code",
      "execution_count": null,
      "metadata": {
        "colab": {
          "base_uri": "https://localhost:8080/"
        },
        "id": "4qFqvcR9jgvm",
        "outputId": "63eacb16-e5a1-4d63-e81b-947a57f7c1b7"
      },
      "outputs": [
        {
          "output_type": "execute_result",
          "data": {
            "text/plain": [
              "True"
            ]
          },
          "metadata": {},
          "execution_count": 29
        }
      ],
      "source": [
        "(X_filtered.columns == X_filtered_2.columns).all()"
      ]
    },
    {
      "cell_type": "markdown",
      "source": [
        "## Data formats\n",
        "For details, refer [here](https://tsfresh.readthedocs.io/en/latest/text/data_formats.html)"
      ],
      "metadata": {
        "id": "sGwyJv81Glcc"
      }
    },
    {
      "cell_type": "markdown",
      "source": [
        "There are four important column types that make up those DataFrames. Each will be described with an example from the robot failures dataset (in the example above).\n",
        "\n",
        "> `column_id`:\tThis column indicates which entities the time series belong to. Features will be extracted individually for each entity (id). The resulting feature matrix will contain <u>one row per id</u>. Each robot is a different entity, so each of it has a different id.<br>\n",
        "\n",
        ">`column_sort`:\tThis column contains values which allow to sort the time series (e.g. time stamps). In general, it is <b>NOT</b> required to have equidistant time steps or the same time scale for the different ids and/or kinds. Some features might make however only sense for equidistant time stamps. If you omit this column, the DataFrame is assumed to be already sorted in ascending order. Each of the robot sensor measurements have a time stamp which is used as the column_sort.<br>\n",
        "\n",
        ">`column_value`:\tThis column contains the actual values of the time series. This corresponds to the measured values of different sensors on the robots.<br>\n",
        "\n",
        ">`column_kind`:\tThis column indicates the names of the different time series types (e.g. different sensors in an industrial application as in the robot dataset). For each kind of time series the features are calculated individually.<br>\n"
      ],
      "metadata": {
        "id": "q4CHp2kWGpUl"
      }
    },
    {
      "cell_type": "markdown",
      "source": [
        "Example1: <br>\n",
        "Flat Dataframe<br>\n",
        "Imagine you record the values of time series x and y for different objects A and B for three different times t1, t2 and t3. Your resulting DataFrame may look like this:<br>\n",
        "<pre>\n",
        "id \ttime \tx \t      y\n",
        "A \tt1 \tx(A, t1) \ty(A, t1)\n",
        "A \tt2 \tx(A, t2) \ty(A, t2)\n",
        "A \tt3 \tx(A, t3) \ty(A, t3)\n",
        "B \tt1 \tx(B, t1) \ty(B, t1)\n",
        "B \tt2 \tx(B, t2) \ty(B, t2)\n",
        "B \tt3 \tx(B, t3) \ty(B, t3)\n",
        "</pre>`\n",
        "Now, you want to calculate some features with tsfresh so you would pass:\n",
        "\n",
        "`column_id=\"id\", column_sort=\"time\", column_kind=None, column_value=None`\n",
        "\n"
      ],
      "metadata": {
        "id": "E0Rv4EkoMKsm"
      }
    },
    {
      "cell_type": "markdown",
      "source": [
        "Example 2:<br>\n",
        " Stacked DataFrame or Long DataFrame<br>\n",
        "If both column_value and column_kind are set to None, the time series data is assumed to be in a flat DataFrame. This means that each different time series must be saved as its own column.<br>\n",
        "\n",
        "Imagine you record the values of time series x and y for different objects A and B for three different times t1, t2 and t3. Your resulting DataFrame may look like this:<br>\n",
        "<pre>\n",
        "id  time \t  x       \ty\n",
        "A \tt1 \tx(A, t1) \ty(A, t1)\n",
        "A \tt2 \tx(A, t2) \ty(A, t2)\n",
        "A \tt3 \tx(A, t3) \ty(A, t3)\n",
        "B \tt1 \tx(B, t1) \ty(B, t1)\n",
        "B \tt2 \tx(B, t2) \ty(B, t2)\n",
        "B \tt3 \tx(B, t3) \ty(B, t3)\n",
        "</pre>\n",
        "Now, you want to calculate some features with tsfresh so you would pass:<br>\n",
        "\n",
        "`column_id=\"id\", column_sort=\"time\", column_kind=None, column_value=None`\n",
        "\n"
      ],
      "metadata": {
        "id": "z6WiqdP8Mtqr"
      }
    },
    {
      "cell_type": "code",
      "source": [],
      "metadata": {
        "id": "XkUvpWWNGouH"
      },
      "execution_count": null,
      "outputs": []
    }
  ],
  "metadata": {
    "kernelspec": {
      "display_name": "Python 3",
      "language": "python",
      "name": "python3"
    },
    "language_info": {
      "codemirror_mode": {
        "name": "ipython",
        "version": 3
      },
      "file_extension": ".py",
      "mimetype": "text/x-python",
      "name": "python",
      "nbconvert_exporter": "python",
      "pygments_lexer": "ipython3",
      "version": "3.8.2"
    },
    "colab": {
      "provenance": [],
      "include_colab_link": true
    }
  },
  "nbformat": 4,
  "nbformat_minor": 0
}